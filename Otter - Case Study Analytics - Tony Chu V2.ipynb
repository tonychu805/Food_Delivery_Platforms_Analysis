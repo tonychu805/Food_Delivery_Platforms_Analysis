{
 "cells": [
  {
   "cell_type": "markdown",
   "metadata": {},
   "source": [
    "## Otter Interview Project - Analysis on restaurants with delivery services in the US ##"
   ]
  },
  {
   "cell_type": "markdown",
   "metadata": {},
   "source": [
    "## 1. Initial Setup ##"
   ]
  },
  {
   "cell_type": "markdown",
   "metadata": {},
   "source": [
    "#### 1.1 Library required for the analysis ####"
   ]
  },
  {
   "cell_type": "code",
   "execution_count": 547,
   "metadata": {
    "vscode": {
     "languageId": "r"
    }
   },
   "outputs": [],
   "source": [
    "library(tidyr)\n",
    "library(dplyr)\n",
    "library(ggmap)\n",
    "library(psych)\n",
    "library(maps)\n",
    "library(ggplot2)\n",
    "library(xray)\n",
    "library(data.table)\n",
    "library(finalfit)\n",
    "library(tidygeocoder)\n",
    "library(summarytools)"
   ]
  },
  {
   "cell_type": "markdown",
   "metadata": {},
   "source": [
    "#### 1.2 Data Preparation ####\n",
    "\n",
    "- Set the working directory\n",
    "- Read the file\n",
    "- Ensure the dataset is prepared and converted into proper dataframe format"
   ]
  },
  {
   "cell_type": "code",
   "execution_count": 548,
   "metadata": {
    "vscode": {
     "languageId": "r"
    }
   },
   "outputs": [],
   "source": [
    "## setwd(\"/Users/tonychu/SynologyDrive/Resume:Application related document/Otter\")\n",
    "df <- read.table(\"css_public_all_ofos_locations.csv\",header=TRUE, sep='\\001',na.strings ='\\\\N', quote = \"\", fill=T)"
   ]
  },
  {
   "cell_type": "code",
   "execution_count": 549,
   "metadata": {
    "vscode": {
     "languageId": "r"
    }
   },
   "outputs": [
    {
     "data": {
      "text/html": [
       "<table class=\"dataframe\">\n",
       "<caption>A data.frame: 6 × 13</caption>\n",
       "<thead>\n",
       "\t<tr><th></th><th scope=col>restaurant_id</th><th scope=col>name</th><th scope=col>platform</th><th scope=col>sub_platform</th><th scope=col>latitude</th><th scope=col>longitude</th><th scope=col>city</th><th scope=col>country</th><th scope=col>active</th><th scope=col>standardized_name</th><th scope=col>restaurant_chain</th><th scope=col>delivery_radius</th><th scope=col>geom</th></tr>\n",
       "\t<tr><th></th><th scope=col>&lt;chr&gt;</th><th scope=col>&lt;chr&gt;</th><th scope=col>&lt;chr&gt;</th><th scope=col>&lt;chr&gt;</th><th scope=col>&lt;chr&gt;</th><th scope=col>&lt;chr&gt;</th><th scope=col>&lt;chr&gt;</th><th scope=col>&lt;chr&gt;</th><th scope=col>&lt;chr&gt;</th><th scope=col>&lt;chr&gt;</th><th scope=col>&lt;chr&gt;</th><th scope=col>&lt;chr&gt;</th><th scope=col>&lt;lgl&gt;</th></tr>\n",
       "</thead>\n",
       "<tbody>\n",
       "\t<tr><th scope=row>1</th><td>9744</td><td>Loco Coco                                </td><td>caviar</td><td></td><td>40.765004</td><td>-73.965961 </td><td></td><td>US</td><td>TRUE </td><td>loco_coco                            </td><td></td><td></td><td>NA</td></tr>\n",
       "\t<tr><th scope=row>2</th><td>4903</td><td>Musubi                                   </td><td>caviar</td><td></td><td>45.504641</td><td>-122.643806</td><td></td><td>US</td><td>FALSE</td><td>musubi                               </td><td></td><td></td><td>NA</td></tr>\n",
       "\t<tr><th scope=row>3</th><td>4723</td><td>The Bakers' Lounge                       </td><td>caviar</td><td></td><td>38.924559</td><td>-76.990115 </td><td></td><td>US</td><td>FALSE</td><td>the_bakers_lounge                    </td><td></td><td></td><td>NA</td></tr>\n",
       "\t<tr><th scope=row>4</th><td>4128</td><td>Parm - Battery Park City                 </td><td>caviar</td><td></td><td>40.71418 </td><td>-74.015568 </td><td></td><td>US</td><td>TRUE </td><td>parm_-_battery_park_city             </td><td></td><td></td><td>NA</td></tr>\n",
       "\t<tr><th scope=row>5</th><td>5690</td><td>Derek Test Merchant                      </td><td>caviar</td><td></td><td>1        </td><td>2          </td><td></td><td>US</td><td>FALSE</td><td>derek_test_merchant                  </td><td></td><td></td><td>NA</td></tr>\n",
       "\t<tr><th scope=row>6</th><td>2827</td><td>The Plant Cafe - California &amp; Pine (FiDi)</td><td>caviar</td><td></td><td>37.792829</td><td>-122.397881</td><td></td><td>US</td><td>FALSE</td><td>the_plant_cafe_-_california_pine_fidi</td><td></td><td></td><td>NA</td></tr>\n",
       "</tbody>\n",
       "</table>\n"
      ],
      "text/latex": [
       "A data.frame: 6 × 13\n",
       "\\begin{tabular}{r|lllllllllllll}\n",
       "  & restaurant\\_id & name & platform & sub\\_platform & latitude & longitude & city & country & active & standardized\\_name & restaurant\\_chain & delivery\\_radius & geom\\\\\n",
       "  & <chr> & <chr> & <chr> & <chr> & <chr> & <chr> & <chr> & <chr> & <chr> & <chr> & <chr> & <chr> & <lgl>\\\\\n",
       "\\hline\n",
       "\t1 & 9744 & Loco Coco                                 & caviar &  & 40.765004 & -73.965961  &  & US & TRUE  & loco\\_coco                             &  &  & NA\\\\\n",
       "\t2 & 4903 & Musubi                                    & caviar &  & 45.504641 & -122.643806 &  & US & FALSE & musubi                                &  &  & NA\\\\\n",
       "\t3 & 4723 & The Bakers' Lounge                        & caviar &  & 38.924559 & -76.990115  &  & US & FALSE & the\\_bakers\\_lounge                     &  &  & NA\\\\\n",
       "\t4 & 4128 & Parm - Battery Park City                  & caviar &  & 40.71418  & -74.015568  &  & US & TRUE  & parm\\_-\\_battery\\_park\\_city              &  &  & NA\\\\\n",
       "\t5 & 5690 & Derek Test Merchant                       & caviar &  & 1         & 2           &  & US & FALSE & derek\\_test\\_merchant                   &  &  & NA\\\\\n",
       "\t6 & 2827 & The Plant Cafe - California \\& Pine (FiDi) & caviar &  & 37.792829 & -122.397881 &  & US & FALSE & the\\_plant\\_cafe\\_-\\_california\\_pine\\_fidi &  &  & NA\\\\\n",
       "\\end{tabular}\n"
      ],
      "text/markdown": [
       "\n",
       "A data.frame: 6 × 13\n",
       "\n",
       "| <!--/--> | restaurant_id &lt;chr&gt; | name &lt;chr&gt; | platform &lt;chr&gt; | sub_platform &lt;chr&gt; | latitude &lt;chr&gt; | longitude &lt;chr&gt; | city &lt;chr&gt; | country &lt;chr&gt; | active &lt;chr&gt; | standardized_name &lt;chr&gt; | restaurant_chain &lt;chr&gt; | delivery_radius &lt;chr&gt; | geom &lt;lgl&gt; |\n",
       "|---|---|---|---|---|---|---|---|---|---|---|---|---|---|\n",
       "| 1 | 9744 | Loco Coco                                 | caviar | <!----> | 40.765004 | -73.965961  | <!----> | US | TRUE  | loco_coco                             | <!----> | <!----> | NA |\n",
       "| 2 | 4903 | Musubi                                    | caviar | <!----> | 45.504641 | -122.643806 | <!----> | US | FALSE | musubi                                | <!----> | <!----> | NA |\n",
       "| 3 | 4723 | The Bakers' Lounge                        | caviar | <!----> | 38.924559 | -76.990115  | <!----> | US | FALSE | the_bakers_lounge                     | <!----> | <!----> | NA |\n",
       "| 4 | 4128 | Parm - Battery Park City                  | caviar | <!----> | 40.71418  | -74.015568  | <!----> | US | TRUE  | parm_-_battery_park_city              | <!----> | <!----> | NA |\n",
       "| 5 | 5690 | Derek Test Merchant                       | caviar | <!----> | 1         | 2           | <!----> | US | FALSE | derek_test_merchant                   | <!----> | <!----> | NA |\n",
       "| 6 | 2827 | The Plant Cafe - California &amp; Pine (FiDi) | caviar | <!----> | 37.792829 | -122.397881 | <!----> | US | FALSE | the_plant_cafe_-_california_pine_fidi | <!----> | <!----> | NA |\n",
       "\n"
      ],
      "text/plain": [
       "  restaurant_id name                                      platform sub_platform\n",
       "1 9744          Loco Coco                                 caviar               \n",
       "2 4903          Musubi                                    caviar               \n",
       "3 4723          The Bakers' Lounge                        caviar               \n",
       "4 4128          Parm - Battery Park City                  caviar               \n",
       "5 5690          Derek Test Merchant                       caviar               \n",
       "6 2827          The Plant Cafe - California & Pine (FiDi) caviar               \n",
       "  latitude  longitude   city country active\n",
       "1 40.765004 -73.965961       US      TRUE  \n",
       "2 45.504641 -122.643806      US      FALSE \n",
       "3 38.924559 -76.990115       US      FALSE \n",
       "4 40.71418  -74.015568       US      TRUE  \n",
       "5 1         2                US      FALSE \n",
       "6 37.792829 -122.397881      US      FALSE \n",
       "  standardized_name                     restaurant_chain delivery_radius geom\n",
       "1 loco_coco                                                              NA  \n",
       "2 musubi                                                                 NA  \n",
       "3 the_bakers_lounge                                                      NA  \n",
       "4 parm_-_battery_park_city                                               NA  \n",
       "5 derek_test_merchant                                                    NA  \n",
       "6 the_plant_cafe_-_california_pine_fidi                                  NA  "
      ]
     },
     "metadata": {},
     "output_type": "display_data"
    },
    {
     "data": {
      "text/html": [
       "<style>\n",
       ".list-inline {list-style: none; margin:0; padding: 0}\n",
       ".list-inline>li {display: inline-block}\n",
       ".list-inline>li:not(:last-child)::after {content: \"\\00b7\"; padding: 0 .5ex}\n",
       "</style>\n",
       "<ol class=list-inline><li>644089</li><li>13</li></ol>\n"
      ],
      "text/latex": [
       "\\begin{enumerate*}\n",
       "\\item 644089\n",
       "\\item 13\n",
       "\\end{enumerate*}\n"
      ],
      "text/markdown": [
       "1. 644089\n",
       "2. 13\n",
       "\n",
       "\n"
      ],
      "text/plain": [
       "[1] 644089     13"
      ]
     },
     "metadata": {},
     "output_type": "display_data"
    }
   ],
   "source": [
    "head(df)\n",
    "dim(df)"
   ]
  },
  {
   "cell_type": "markdown",
   "metadata": {},
   "source": [
    "##### 1.3 Convert the attributes into the proper data type #####\n",
    "\n",
    "- Change the data type of **restaurant_id, latitude, and longitude** into numeric variables"
   ]
  },
  {
   "cell_type": "code",
   "execution_count": 550,
   "metadata": {
    "vscode": {
     "languageId": "r"
    }
   },
   "outputs": [
    {
     "name": "stderr",
     "output_type": "stream",
     "text": [
      "Warning message in FUN(newX[, i], ...):\n",
      "“NAs introduced by coercion”\n",
      "Warning message in FUN(newX[, i], ...):\n",
      "“NAs introduced by coercion”\n",
      "Warning message in FUN(newX[, i], ...):\n",
      "“NAs introduced by coercion”\n",
      "Warning message in FUN(newX[, i], ...):\n",
      "“NAs introduced by coercion”\n"
     ]
    },
    {
     "data": {
      "text/html": [
       "<table class=\"dataframe\">\n",
       "<caption>A data.frame: 6 × 13</caption>\n",
       "<thead>\n",
       "\t<tr><th></th><th scope=col>restaurant_id</th><th scope=col>name</th><th scope=col>platform</th><th scope=col>sub_platform</th><th scope=col>latitude</th><th scope=col>longitude</th><th scope=col>city</th><th scope=col>country</th><th scope=col>active</th><th scope=col>standardized_name</th><th scope=col>restaurant_chain</th><th scope=col>delivery_radius</th><th scope=col>geom</th></tr>\n",
       "\t<tr><th></th><th scope=col>&lt;dbl&gt;</th><th scope=col>&lt;chr&gt;</th><th scope=col>&lt;chr&gt;</th><th scope=col>&lt;chr&gt;</th><th scope=col>&lt;dbl&gt;</th><th scope=col>&lt;dbl&gt;</th><th scope=col>&lt;chr&gt;</th><th scope=col>&lt;chr&gt;</th><th scope=col>&lt;chr&gt;</th><th scope=col>&lt;chr&gt;</th><th scope=col>&lt;chr&gt;</th><th scope=col>&lt;dbl&gt;</th><th scope=col>&lt;lgl&gt;</th></tr>\n",
       "</thead>\n",
       "<tbody>\n",
       "\t<tr><th scope=row>1</th><td>9744</td><td>Loco Coco                                </td><td>caviar</td><td></td><td>40.76500</td><td> -73.96596</td><td></td><td>US</td><td>TRUE </td><td>loco_coco                            </td><td></td><td>NA</td><td>NA</td></tr>\n",
       "\t<tr><th scope=row>2</th><td>4903</td><td>Musubi                                   </td><td>caviar</td><td></td><td>45.50464</td><td>-122.64381</td><td></td><td>US</td><td>FALSE</td><td>musubi                               </td><td></td><td>NA</td><td>NA</td></tr>\n",
       "\t<tr><th scope=row>3</th><td>4723</td><td>The Bakers' Lounge                       </td><td>caviar</td><td></td><td>38.92456</td><td> -76.99012</td><td></td><td>US</td><td>FALSE</td><td>the_bakers_lounge                    </td><td></td><td>NA</td><td>NA</td></tr>\n",
       "\t<tr><th scope=row>4</th><td>4128</td><td>Parm - Battery Park City                 </td><td>caviar</td><td></td><td>40.71418</td><td> -74.01557</td><td></td><td>US</td><td>TRUE </td><td>parm_-_battery_park_city             </td><td></td><td>NA</td><td>NA</td></tr>\n",
       "\t<tr><th scope=row>5</th><td>5690</td><td>Derek Test Merchant                      </td><td>caviar</td><td></td><td> 1.00000</td><td>   2.00000</td><td></td><td>US</td><td>FALSE</td><td>derek_test_merchant                  </td><td></td><td>NA</td><td>NA</td></tr>\n",
       "\t<tr><th scope=row>6</th><td>2827</td><td>The Plant Cafe - California &amp; Pine (FiDi)</td><td>caviar</td><td></td><td>37.79283</td><td>-122.39788</td><td></td><td>US</td><td>FALSE</td><td>the_plant_cafe_-_california_pine_fidi</td><td></td><td>NA</td><td>NA</td></tr>\n",
       "</tbody>\n",
       "</table>\n"
      ],
      "text/latex": [
       "A data.frame: 6 × 13\n",
       "\\begin{tabular}{r|lllllllllllll}\n",
       "  & restaurant\\_id & name & platform & sub\\_platform & latitude & longitude & city & country & active & standardized\\_name & restaurant\\_chain & delivery\\_radius & geom\\\\\n",
       "  & <dbl> & <chr> & <chr> & <chr> & <dbl> & <dbl> & <chr> & <chr> & <chr> & <chr> & <chr> & <dbl> & <lgl>\\\\\n",
       "\\hline\n",
       "\t1 & 9744 & Loco Coco                                 & caviar &  & 40.76500 &  -73.96596 &  & US & TRUE  & loco\\_coco                             &  & NA & NA\\\\\n",
       "\t2 & 4903 & Musubi                                    & caviar &  & 45.50464 & -122.64381 &  & US & FALSE & musubi                                &  & NA & NA\\\\\n",
       "\t3 & 4723 & The Bakers' Lounge                        & caviar &  & 38.92456 &  -76.99012 &  & US & FALSE & the\\_bakers\\_lounge                     &  & NA & NA\\\\\n",
       "\t4 & 4128 & Parm - Battery Park City                  & caviar &  & 40.71418 &  -74.01557 &  & US & TRUE  & parm\\_-\\_battery\\_park\\_city              &  & NA & NA\\\\\n",
       "\t5 & 5690 & Derek Test Merchant                       & caviar &  &  1.00000 &    2.00000 &  & US & FALSE & derek\\_test\\_merchant                   &  & NA & NA\\\\\n",
       "\t6 & 2827 & The Plant Cafe - California \\& Pine (FiDi) & caviar &  & 37.79283 & -122.39788 &  & US & FALSE & the\\_plant\\_cafe\\_-\\_california\\_pine\\_fidi &  & NA & NA\\\\\n",
       "\\end{tabular}\n"
      ],
      "text/markdown": [
       "\n",
       "A data.frame: 6 × 13\n",
       "\n",
       "| <!--/--> | restaurant_id &lt;dbl&gt; | name &lt;chr&gt; | platform &lt;chr&gt; | sub_platform &lt;chr&gt; | latitude &lt;dbl&gt; | longitude &lt;dbl&gt; | city &lt;chr&gt; | country &lt;chr&gt; | active &lt;chr&gt; | standardized_name &lt;chr&gt; | restaurant_chain &lt;chr&gt; | delivery_radius &lt;dbl&gt; | geom &lt;lgl&gt; |\n",
       "|---|---|---|---|---|---|---|---|---|---|---|---|---|---|\n",
       "| 1 | 9744 | Loco Coco                                 | caviar | <!----> | 40.76500 |  -73.96596 | <!----> | US | TRUE  | loco_coco                             | <!----> | NA | NA |\n",
       "| 2 | 4903 | Musubi                                    | caviar | <!----> | 45.50464 | -122.64381 | <!----> | US | FALSE | musubi                                | <!----> | NA | NA |\n",
       "| 3 | 4723 | The Bakers' Lounge                        | caviar | <!----> | 38.92456 |  -76.99012 | <!----> | US | FALSE | the_bakers_lounge                     | <!----> | NA | NA |\n",
       "| 4 | 4128 | Parm - Battery Park City                  | caviar | <!----> | 40.71418 |  -74.01557 | <!----> | US | TRUE  | parm_-_battery_park_city              | <!----> | NA | NA |\n",
       "| 5 | 5690 | Derek Test Merchant                       | caviar | <!----> |  1.00000 |    2.00000 | <!----> | US | FALSE | derek_test_merchant                   | <!----> | NA | NA |\n",
       "| 6 | 2827 | The Plant Cafe - California &amp; Pine (FiDi) | caviar | <!----> | 37.79283 | -122.39788 | <!----> | US | FALSE | the_plant_cafe_-_california_pine_fidi | <!----> | NA | NA |\n",
       "\n"
      ],
      "text/plain": [
       "  restaurant_id name                                      platform sub_platform\n",
       "1 9744          Loco Coco                                 caviar               \n",
       "2 4903          Musubi                                    caviar               \n",
       "3 4723          The Bakers' Lounge                        caviar               \n",
       "4 4128          Parm - Battery Park City                  caviar               \n",
       "5 5690          Derek Test Merchant                       caviar               \n",
       "6 2827          The Plant Cafe - California & Pine (FiDi) caviar               \n",
       "  latitude longitude  city country active standardized_name                    \n",
       "1 40.76500  -73.96596      US      TRUE   loco_coco                            \n",
       "2 45.50464 -122.64381      US      FALSE  musubi                               \n",
       "3 38.92456  -76.99012      US      FALSE  the_bakers_lounge                    \n",
       "4 40.71418  -74.01557      US      TRUE   parm_-_battery_park_city             \n",
       "5  1.00000    2.00000      US      FALSE  derek_test_merchant                  \n",
       "6 37.79283 -122.39788      US      FALSE  the_plant_cafe_-_california_pine_fidi\n",
       "  restaurant_chain delivery_radius geom\n",
       "1                  NA              NA  \n",
       "2                  NA              NA  \n",
       "3                  NA              NA  \n",
       "4                  NA              NA  \n",
       "5                  NA              NA  \n",
       "6                  NA              NA  "
      ]
     },
     "metadata": {},
     "output_type": "display_data"
    }
   ],
   "source": [
    "num_col = c(\"restaurant_id\",\"latitude\", \"longitude\",\"delivery_radius\")\n",
    "df[ , num_col] <- apply(df[ , num_col], 2, function(x) as.numeric(as.character(x)))\n",
    "head(df)"
   ]
  },
  {
   "cell_type": "markdown",
   "metadata": {},
   "source": [
    "## 2. Data Exploration and data cleaning ##\n",
    "    "
   ]
  },
  {
   "cell_type": "markdown",
   "metadata": {},
   "source": [
    "- Look at the summary of the dataframe consisting of: variable names and labels, factor levels, frequencies or numerical summary statistics, and valid/missing observations information.\n",
    "- There are 644,089 entries in total\n",
    "- Seems like plenty of the attributes require further examinations, and below are some of the questions need to be addressed regarding data exploration:\n",
    "    - Is there any missing restaurant ID, and would missing restaurant ID impact the analysis?\n",
    "    - How many delivery platforms and sub platforms are there?\n",
    "    - Are there restaurants with missing coordinates? Can I identify duplicated restaurants with no coordinates?\n",
    "    - How many restaurants are missing the city attribute? How do I extract city information without city attribute? Reverse check-up using the coordinates?\n",
    "    - Are we certain all restaurants are all located in the US?\n",
    "    - How do I standardize restaurant names and how do I remove duplicated entries "
   ]
  },
  {
   "cell_type": "code",
   "execution_count": 551,
   "metadata": {
    "vscode": {
     "languageId": "r"
    }
   },
   "outputs": [
    {
     "data": {
      "text/html": [
       "<table class=\"dataframe\">\n",
       "<caption>A summarytools: 13 × 7</caption>\n",
       "<thead>\n",
       "\t<tr><th></th><th scope=col>No</th><th scope=col>Variable</th><th scope=col>Stats / Values</th><th scope=col>Freqs (% of Valid)</th><th scope=col>text.graph</th><th scope=col>Valid</th><th scope=col>Missing</th></tr>\n",
       "\t<tr><th></th><th scope=col>&lt;dbl&gt;</th><th scope=col>&lt;chr&gt;</th><th scope=col>&lt;chr&gt;</th><th scope=col>&lt;chr&gt;</th><th scope=col>&lt;chr&gt;</th><th scope=col>&lt;chr&gt;</th><th scope=col>&lt;chr&gt;</th></tr>\n",
       "</thead>\n",
       "<tbody>\n",
       "\t<tr><th scope=row>1</th><td> 1</td><td><span style=white-space:pre-wrap>restaurant_id\\\n",
       "[numeric]      </span></td><td><span style=white-space:pre-wrap>Mean (sd) : 237866.8 (187782.5)\\\n",
       "min &lt; med &lt; max:\\\n",
       "1 &lt; 216563 &lt; 997804\\\n",
       "IQR (CV) : 249348 (0.8)                                                                                                                                                                     </span></td><td><span style=white-space:pre-wrap>402721 distinct values                                                                                                                                                                                                             </span></td><td><span style=white-space:pre-wrap>:\\\n",
       ": \\ \\ . .\\\n",
       ": : : :\\\n",
       ": : : :\\\n",
       ": : : : : .                          </span></td><td>467907\\\n",
       "(72.6%) </td><td>176182\\\n",
       "(27.4%) </td></tr>\n",
       "\t<tr><th scope=row>2</th><td> 2</td><td>name\\\n",
       "[character]             </td><td>1\\. Subway\\\n",
       "2\\. Starbucks\\\n",
       "3\\. McDonald's\\\n",
       "4\\. Taco Bell\\\n",
       "5\\. Burger King\\\n",
       "6\\. 7-Eleven\\\n",
       "7\\. KFC\\\n",
       "8\\. Walgreens\\\n",
       "9\\. Dunkin' Donuts\\\n",
       "10\\. Wendy's\\\n",
       "[ 418989 others ]                                                                        </td><td>\\  8554 ( 1.3%)\\\n",
       "\\  8047 ( 1.2%)\\\n",
       "\\  6951 ( 1.1%)\\\n",
       "\\  4997 ( 0.8%)\\\n",
       "\\  3645 ( 0.6%)\\\n",
       "\\  3398 ( 0.5%)\\\n",
       "\\  2998 ( 0.5%)\\\n",
       "\\  2770 ( 0.4%)\\\n",
       "\\  2729 ( 0.4%)\\\n",
       "\\  2092 ( 0.3%)\\\n",
       "\\597908 (92.8%)           </td><td> \\ \n",
       " \\ \n",
       " \\ \n",
       " \\ \n",
       " \\ \n",
       " \\ \n",
       " \\ \n",
       " \\ \n",
       " \\ \n",
       " \\ \n",
       "IIIIIIIIIIIIIIIIII </td><td>644089\\\n",
       "(100.0%)</td><td>0\\\n",
       "(0.0%)       </td></tr>\n",
       "\t<tr><th scope=row>3</th><td> 3</td><td>platform\\\n",
       "[character]         </td><td>1\\. doordash\\\n",
       "2\\. postmates\\\n",
       "3\\. grubhub\\\n",
       "4\\. ubereats\\\n",
       "5\\. delivery.com\\\n",
       "6\\. caviar\\\n",
       "7\\. (Empty string)\\\n",
       "8\\. ·[\"\"open: 12:00\\\n",
       "9\\. ·[]\\\n",
       "10\\. ·[\"\"open: 11:00\\\n",
       "[ 37 others ]                                                                 </td><td>\\353739 (54.9%)\\\n",
       "\\110165 (17.1%)\\\n",
       "\\ 68029 (10.6%)\\\n",
       "\\ 65422 (10.2%)\\\n",
       "\\ 34729 ( 5.4%)\\\n",
       "\\  9964 ( 1.5%)\\\n",
       "\\  1845 ( 0.3%)\\\n",
       "\\    44 ( 0.0%)\\\n",
       "\\    28 ( 0.0%)\\\n",
       "\\    20 ( 0.0%)\\\n",
       "\\   104 ( 0.0%)           </td><td>IIIIIIIIII \\ \n",
       "III \\ \n",
       "II \\ \n",
       "II \\ \n",
       "I \\ \n",
       " \\ \n",
       " \\ \n",
       " \\ \n",
       " \\ \n",
       " \\ \n",
       " </td><td>644089\\\n",
       "(100.0%)</td><td>0\\\n",
       "(0.0%)       </td></tr>\n",
       "\t<tr><th scope=row>4</th><td> 4</td><td>sub_platform\\\n",
       "[character]     </td><td>1\\. doordash\\\n",
       "2\\. restaurant\\\n",
       "3\\. grubhub\\\n",
       "4\\. ubereats\\\n",
       "5\\. (Empty string)\\\n",
       "6\\. ·close: 21:00\"\"]\\\n",
       "7\\. ·close: 20:00\"\"]\\\n",
       "8\\. ·[]\\\n",
       "9\\. ·close: 22:00\"\"]\\\n",
       "10\\. ·close: 00:00\"\"]\\\n",
       "[ 21 others ]                                                </td><td>\\353739 (54.9%)\\\n",
       "\\110165 (17.1%)\\\n",
       "\\ 68029 (10.6%)\\\n",
       "\\ 65422 (10.2%)\\\n",
       "\\ 46538 ( 7.2%)\\\n",
       "\\    45 ( 0.0%)\\\n",
       "\\    28 ( 0.0%)\\\n",
       "\\    23 ( 0.0%)\\\n",
       "\\    15 ( 0.0%)\\\n",
       "\\    14 ( 0.0%)\\\n",
       "\\    71 ( 0.0%)           </td><td>IIIIIIIIII \\ \n",
       "III \\ \n",
       "II \\ \n",
       "II \\ \n",
       "I \\ \n",
       " \\ \n",
       " \\ \n",
       " \\ \n",
       " \\ \n",
       " \\ \n",
       " </td><td>644089\\\n",
       "(100.0%)</td><td>0\\\n",
       "(0.0%)       </td></tr>\n",
       "\t<tr><th scope=row>5</th><td> 5</td><td><span style=white-space:pre-wrap>latitude\\\n",
       "[numeric]           </span></td><td><span style=white-space:pre-wrap>Mean (sd) : 37 (8.5)\\\n",
       "min &lt; med &lt; max:\\\n",
       "-90 &lt; 38.5 &lt; 555\\\n",
       "IQR (CV) : 7 (0.2)                                                                                                                                                                                        </span></td><td><span style=white-space:pre-wrap>543253 distinct values                                                                                                                                                                                                             </span></td><td><span style=white-space:pre-wrap>\\ \\ :\\\n",
       "\\ \\ : :\\\n",
       "\\ \\ : :\\\n",
       "\\ \\ : :\\\n",
       "\\ \\ : :                    </span></td><td>642047\\\n",
       "(99.7%) </td><td><span style=white-space:pre-wrap>2042\\\n",
       "(0.3%)    </span></td></tr>\n",
       "\t<tr><th scope=row>6</th><td> 6</td><td><span style=white-space:pre-wrap>longitude\\\n",
       "[numeric]          </span></td><td><span style=white-space:pre-wrap>Mean (sd) : -94 (19.1)\\\n",
       "min &lt; med &lt; max:\\\n",
       "-158.3 &lt; -87.8 &lt; 555\\\n",
       "IQR (CV) : 37.7 (-0.2)                                                                                                                                                                              </span></td><td><span style=white-space:pre-wrap>540387 distinct values                                                                                                                                                                                                             </span></td><td><span style=white-space:pre-wrap>: .\\\n",
       ": :\\\n",
       ": :\\\n",
       ": :\\\n",
       ": :                                                </span></td><td>642047\\\n",
       "(99.7%) </td><td><span style=white-space:pre-wrap>2042\\\n",
       "(0.3%)    </span></td></tr>\n",
       "\t<tr><th scope=row>7</th><td> 7</td><td>city\\\n",
       "[character]             </td><td>1\\. (Empty string)\\\n",
       "2\\. Los Angeles\\\n",
       "3\\. New York\\\n",
       "4\\. Houston\\\n",
       "5\\. Chicago\\\n",
       "6\\. Miami\\\n",
       "7\\. Philadelphia\\\n",
       "8\\. San Diego\\\n",
       "9\\. San Francisco\\\n",
       "10\\. Orlando\\\n",
       "[ 3050 others ]                                                                   </td><td>\\588165 (91.3%)\\\n",
       "\\  1831 ( 0.3%)\\\n",
       "\\  1630 ( 0.3%)\\\n",
       "\\  1225 ( 0.2%)\\\n",
       "\\  1163 ( 0.2%)\\\n",
       "\\  1114 ( 0.2%)\\\n",
       "\\   893 ( 0.1%)\\\n",
       "\\   808 ( 0.1%)\\\n",
       "\\   790 ( 0.1%)\\\n",
       "\\   739 ( 0.1%)\\\n",
       "\\ 45731 ( 7.1%)           </td><td>IIIIIIIIIIIIIIIIII \\ \n",
       " \\ \n",
       " \\ \n",
       " \\ \n",
       " \\ \n",
       " \\ \n",
       " \\ \n",
       " \\ \n",
       " \\ \n",
       " \\ \n",
       "I</td><td>644089\\\n",
       "(100.0%)</td><td>0\\\n",
       "(0.0%)       </td></tr>\n",
       "\t<tr><th scope=row>8</th><td> 8</td><td>country\\\n",
       "[character]          </td><td>1\\. US\\\n",
       "2\\. (Empty string)\\\n",
       "3\\. ·close: 21:00\"\"]\\\n",
       "4\\. ·close: 20:00\"\"]\\\n",
       "5\\. FALSE\\\n",
       "6\\. ·close: 22:00\"\"]\\\n",
       "7\\. ·close: 00:00\"\"]\\\n",
       "8\\. ·close: 20:30\"\"]\\\n",
       "9\\. ·close: 23:00\"\"]\\\n",
       "10\\. ·close: 21:30\"\"]\\\n",
       "[ 18 others ]                             </td><td>\\642046 (99.7%)\\\n",
       "\\  1863 ( 0.3%)\\\n",
       "\\    40 ( 0.0%)\\\n",
       "\\    29 ( 0.0%)\\\n",
       "\\    23 ( 0.0%)\\\n",
       "\\    18 ( 0.0%)\\\n",
       "\\    17 ( 0.0%)\\\n",
       "\\     7 ( 0.0%)\\\n",
       "\\     7 ( 0.0%)\\\n",
       "\\     6 ( 0.0%)\\\n",
       "\\    33 ( 0.0%)           </td><td>IIIIIIIIIIIIIIIIIII \\ \n",
       " \\ \n",
       " \\ \n",
       " \\ \n",
       " \\ \n",
       " \\ \n",
       " \\ \n",
       " \\ \n",
       " \\ \n",
       " \\ \n",
       "</td><td>644089\\\n",
       "(100.0%)</td><td>0\\\n",
       "(0.0%)       </td></tr>\n",
       "\t<tr><th scope=row>9</th><td> 9</td><td>active\\\n",
       "[character]           </td><td>1\\. TRUE\\\n",
       "2\\. FALSE\\\n",
       "3\\. (Empty string)\\\n",
       "4\\. ·close: 21:00\"\"]\\\n",
       "5\\. ·close: 20:00\"\"]\\\n",
       "6\\. ·close: 22:00\"\"]\\\n",
       "7\\. ·close: 00:00\"\"]\\\n",
       "8\\. ·close: 23:00\"\"]\\\n",
       "9\\. ·[]]\"\\\n",
       "10\\. 40\\\n",
       "[ 21 others ]                                                    </td><td>\\567052 (88.0%)\\\n",
       "\\ 74802 (11.6%)\\\n",
       "\\  2065 ( 0.3%)\\\n",
       "\\    35 ( 0.0%)\\\n",
       "\\    25 ( 0.0%)\\\n",
       "\\    20 ( 0.0%)\\\n",
       "\\    19 ( 0.0%)\\\n",
       "\\    13 ( 0.0%)\\\n",
       "\\     7 ( 0.0%)\\\n",
       "\\     7 ( 0.0%)\\\n",
       "\\    44 ( 0.0%)           </td><td>IIIIIIIIIIIIIIIII \\ \n",
       "II \\ \n",
       " \\ \n",
       " \\ \n",
       " \\ \n",
       " \\ \n",
       " \\ \n",
       " \\ \n",
       " \\ \n",
       " \\ \n",
       "</td><td>644089\\\n",
       "(100.0%)</td><td>0\\\n",
       "(0.0%)       </td></tr>\n",
       "\t<tr><th scope=row>10</th><td>10</td><td>standardized_name\\\n",
       "[character]</td><td>1\\. subway\\\n",
       "2\\. starbucks\\\n",
       "3\\. mcdonald_s\\\n",
       "4\\. taco_bell\\\n",
       "5\\. burger_king\\\n",
       "6\\. jack_in_the_box\\\n",
       "7\\. 7-eleven\\\n",
       "8\\. kfc\\\n",
       "9\\. dunkin_donuts\\\n",
       "10\\. walgreens\\\n",
       "[ 409282 others ]                                                                 </td><td>\\ 10310 ( 1.6%)\\\n",
       "\\  8049 ( 1.2%)\\\n",
       "\\  7478 ( 1.2%)\\\n",
       "\\  4997 ( 0.8%)\\\n",
       "\\  3678 ( 0.6%)\\\n",
       "\\  3534 ( 0.5%)\\\n",
       "\\  3398 ( 0.5%)\\\n",
       "\\  2998 ( 0.5%)\\\n",
       "\\  2807 ( 0.4%)\\\n",
       "\\  2770 ( 0.4%)\\\n",
       "\\594070 (92.2%)           </td><td> \\ \n",
       " \\ \n",
       " \\ \n",
       " \\ \n",
       " \\ \n",
       " \\ \n",
       " \\ \n",
       " \\ \n",
       " \\ \n",
       " \\ \n",
       "IIIIIIIIIIIIIIIIII </td><td>644089\\\n",
       "(100.0%)</td><td>0\\\n",
       "(0.0%)       </td></tr>\n",
       "\t<tr><th scope=row>11</th><td>11</td><td>restaurant_chain\\\n",
       "[character] </td><td>1\\. (Empty string)\\\n",
       "2\\. TRUE\\\n",
       "3\\. ·close: 21:00\"\"]]\"\\\n",
       "4\\. ·close: 20:00\"\"]]\"\\\n",
       "5\\. ·close: 00:00\"\"]]\"\\\n",
       "6\\. ·close: 22:00\"\"]]\"\\\n",
       "7\\. ·close: 23:00\"\"]]\"\\\n",
       "8\\. ·close: 21:30\"\"]]\"\\\n",
       "9\\. ·close: 18:00\"\"]]\"\\\n",
       "10\\. ·close: 19:00\"\"]]\"\\\n",
       "[ 26 others ]</td><td>\\643920 (100.0%)\\\n",
       "\\    86 (  0.0%)\\\n",
       "\\    17 (  0.0%)\\\n",
       "\\     9 (  0.0%)\\\n",
       "\\     8 (  0.0%)\\\n",
       "\\     6 (  0.0%)\\\n",
       "\\     6 (  0.0%)\\\n",
       "\\     3 (  0.0%)\\\n",
       "\\     2 (  0.0%)\\\n",
       "\\     2 (  0.0%)\\\n",
       "\\    30 (  0.0%)</td><td>IIIIIIIIIIIIIIIIIII \\ \n",
       " \\ \n",
       " \\ \n",
       " \\ \n",
       " \\ \n",
       " \\ \n",
       " \\ \n",
       " \\ \n",
       " \\ \n",
       " \\ \n",
       "</td><td>644089\\\n",
       "(100.0%)</td><td>0\\\n",
       "(0.0%)       </td></tr>\n",
       "\t<tr><th scope=row>12</th><td>12</td><td><span style=white-space:pre-wrap>delivery_radius\\\n",
       "[numeric]    </span></td><td><span style=white-space:pre-wrap>Mean (sd) : 43787.3 (22251810)\\\n",
       "min &lt; med &lt; max:\\\n",
       "1 &lt; 7000 &lt; 13235083092\\\n",
       "IQR (CV) : 1500 (508.2)                                                                                                                                                                   </span></td><td><span style=white-space:pre-wrap>466 distinct values                                                                                                                                                                                                                </span></td><td><span style=white-space:pre-wrap>:\\\n",
       ":\\\n",
       ":\\\n",
       ":\\\n",
       ":                                                          </span></td><td>353771\\\n",
       "(54.9%) </td><td>290318\\\n",
       "(45.1%) </td></tr>\n",
       "\t<tr><th scope=row>13</th><td>13</td><td>geom\\\n",
       "[logical]               </td><td>All NA's\n",
       "                                                                                                                                                                                                                                                                </td><td>                                                                                                                                                                                                                                   </td><td>                                                                               </td><td>0\\\n",
       "(0.0%)       </td><td>644089\\\n",
       "(100.0%)</td></tr>\n",
       "</tbody>\n",
       "</table>\n"
      ],
      "text/latex": [
       "A summarytools: 13 × 7\n",
       "\\begin{tabular}{r|lllllll}\n",
       "  & No & Variable & Stats / Values & Freqs (\\% of Valid) & text.graph & Valid & Missing\\\\\n",
       "  & <dbl> & <chr> & <chr> & <chr> & <chr> & <chr> & <chr>\\\\\n",
       "\\hline\n",
       "\t1 &  1 & restaurant\\_id\\textbackslash{}\n",
       "{[}numeric{]}       & Mean (sd) : 237866.8 (187782.5)\\textbackslash{}\n",
       "min < med < max:\\textbackslash{}\n",
       "1 < 216563 < 997804\\textbackslash{}\n",
       "IQR (CV) : 249348 (0.8)                                                                                                                                                                      & 402721 distinct values                                                                                                                                                                                                              & :\\textbackslash{}\n",
       ": \\textbackslash{} \\textbackslash{} . .\\textbackslash{}\n",
       ": : : :\\textbackslash{}\n",
       ": : : :\\textbackslash{}\n",
       ": : : : : .                           & 467907\\textbackslash{}\n",
       "(72.6\\%)  & 176182\\textbackslash{}\n",
       "(27.4\\%) \\\\\n",
       "\t2 &  2 & name\\textbackslash{}\n",
       "{[}character{]}              & 1\\textbackslash{}. Subway\\textbackslash{}\n",
       "2\\textbackslash{}. Starbucks\\textbackslash{}\n",
       "3\\textbackslash{}. McDonald's\\textbackslash{}\n",
       "4\\textbackslash{}. Taco Bell\\textbackslash{}\n",
       "5\\textbackslash{}. Burger King\\textbackslash{}\n",
       "6\\textbackslash{}. 7-Eleven\\textbackslash{}\n",
       "7\\textbackslash{}. KFC\\textbackslash{}\n",
       "8\\textbackslash{}. Walgreens\\textbackslash{}\n",
       "9\\textbackslash{}. Dunkin' Donuts\\textbackslash{}\n",
       "10\\textbackslash{}. Wendy's\\textbackslash{}\n",
       "{[} 418989 others {]}                                                                         & \\textbackslash{}  8554 ( 1.3\\%)\\textbackslash{}\n",
       "\\textbackslash{}  8047 ( 1.2\\%)\\textbackslash{}\n",
       "\\textbackslash{}  6951 ( 1.1\\%)\\textbackslash{}\n",
       "\\textbackslash{}  4997 ( 0.8\\%)\\textbackslash{}\n",
       "\\textbackslash{}  3645 ( 0.6\\%)\\textbackslash{}\n",
       "\\textbackslash{}  3398 ( 0.5\\%)\\textbackslash{}\n",
       "\\textbackslash{}  2998 ( 0.5\\%)\\textbackslash{}\n",
       "\\textbackslash{}  2770 ( 0.4\\%)\\textbackslash{}\n",
       "\\textbackslash{}  2729 ( 0.4\\%)\\textbackslash{}\n",
       "\\textbackslash{}  2092 ( 0.3\\%)\\textbackslash{}\n",
       "\\textbackslash{}597908 (92.8\\%)            &  \\textbackslash{} \n",
       " \\textbackslash{} \n",
       " \\textbackslash{} \n",
       " \\textbackslash{} \n",
       " \\textbackslash{} \n",
       " \\textbackslash{} \n",
       " \\textbackslash{} \n",
       " \\textbackslash{} \n",
       " \\textbackslash{} \n",
       " \\textbackslash{} \n",
       "IIIIIIIIIIIIIIIIII  & 644089\\textbackslash{}\n",
       "(100.0\\%) & 0\\textbackslash{}\n",
       "(0.0\\%)       \\\\\n",
       "\t3 &  3 & platform\\textbackslash{}\n",
       "{[}character{]}          & 1\\textbackslash{}. doordash\\textbackslash{}\n",
       "2\\textbackslash{}. postmates\\textbackslash{}\n",
       "3\\textbackslash{}. grubhub\\textbackslash{}\n",
       "4\\textbackslash{}. ubereats\\textbackslash{}\n",
       "5\\textbackslash{}. delivery.com\\textbackslash{}\n",
       "6\\textbackslash{}. caviar\\textbackslash{}\n",
       "7\\textbackslash{}. (Empty string)\\textbackslash{}\n",
       "8\\textbackslash{}. ·{[}\"\"open: 12:00\\textbackslash{}\n",
       "9\\textbackslash{}. ·{[}{]}\\textbackslash{}\n",
       "10\\textbackslash{}. ·{[}\"\"open: 11:00\\textbackslash{}\n",
       "{[} 37 others {]}                                                                  & \\textbackslash{}353739 (54.9\\%)\\textbackslash{}\n",
       "\\textbackslash{}110165 (17.1\\%)\\textbackslash{}\n",
       "\\textbackslash{} 68029 (10.6\\%)\\textbackslash{}\n",
       "\\textbackslash{} 65422 (10.2\\%)\\textbackslash{}\n",
       "\\textbackslash{} 34729 ( 5.4\\%)\\textbackslash{}\n",
       "\\textbackslash{}  9964 ( 1.5\\%)\\textbackslash{}\n",
       "\\textbackslash{}  1845 ( 0.3\\%)\\textbackslash{}\n",
       "\\textbackslash{}    44 ( 0.0\\%)\\textbackslash{}\n",
       "\\textbackslash{}    28 ( 0.0\\%)\\textbackslash{}\n",
       "\\textbackslash{}    20 ( 0.0\\%)\\textbackslash{}\n",
       "\\textbackslash{}   104 ( 0.0\\%)            & IIIIIIIIII \\textbackslash{} \n",
       "III \\textbackslash{} \n",
       "II \\textbackslash{} \n",
       "II \\textbackslash{} \n",
       "I \\textbackslash{} \n",
       " \\textbackslash{} \n",
       " \\textbackslash{} \n",
       " \\textbackslash{} \n",
       " \\textbackslash{} \n",
       " \\textbackslash{} \n",
       "  & 644089\\textbackslash{}\n",
       "(100.0\\%) & 0\\textbackslash{}\n",
       "(0.0\\%)       \\\\\n",
       "\t4 &  4 & sub\\_platform\\textbackslash{}\n",
       "{[}character{]}      & 1\\textbackslash{}. doordash\\textbackslash{}\n",
       "2\\textbackslash{}. restaurant\\textbackslash{}\n",
       "3\\textbackslash{}. grubhub\\textbackslash{}\n",
       "4\\textbackslash{}. ubereats\\textbackslash{}\n",
       "5\\textbackslash{}. (Empty string)\\textbackslash{}\n",
       "6\\textbackslash{}. ·close: 21:00\"\"{]}\\textbackslash{}\n",
       "7\\textbackslash{}. ·close: 20:00\"\"{]}\\textbackslash{}\n",
       "8\\textbackslash{}. ·{[}{]}\\textbackslash{}\n",
       "9\\textbackslash{}. ·close: 22:00\"\"{]}\\textbackslash{}\n",
       "10\\textbackslash{}. ·close: 00:00\"\"{]}\\textbackslash{}\n",
       "{[} 21 others {]}                                                 & \\textbackslash{}353739 (54.9\\%)\\textbackslash{}\n",
       "\\textbackslash{}110165 (17.1\\%)\\textbackslash{}\n",
       "\\textbackslash{} 68029 (10.6\\%)\\textbackslash{}\n",
       "\\textbackslash{} 65422 (10.2\\%)\\textbackslash{}\n",
       "\\textbackslash{} 46538 ( 7.2\\%)\\textbackslash{}\n",
       "\\textbackslash{}    45 ( 0.0\\%)\\textbackslash{}\n",
       "\\textbackslash{}    28 ( 0.0\\%)\\textbackslash{}\n",
       "\\textbackslash{}    23 ( 0.0\\%)\\textbackslash{}\n",
       "\\textbackslash{}    15 ( 0.0\\%)\\textbackslash{}\n",
       "\\textbackslash{}    14 ( 0.0\\%)\\textbackslash{}\n",
       "\\textbackslash{}    71 ( 0.0\\%)            & IIIIIIIIII \\textbackslash{} \n",
       "III \\textbackslash{} \n",
       "II \\textbackslash{} \n",
       "II \\textbackslash{} \n",
       "I \\textbackslash{} \n",
       " \\textbackslash{} \n",
       " \\textbackslash{} \n",
       " \\textbackslash{} \n",
       " \\textbackslash{} \n",
       " \\textbackslash{} \n",
       "  & 644089\\textbackslash{}\n",
       "(100.0\\%) & 0\\textbackslash{}\n",
       "(0.0\\%)       \\\\\n",
       "\t5 &  5 & latitude\\textbackslash{}\n",
       "{[}numeric{]}            & Mean (sd) : 37 (8.5)\\textbackslash{}\n",
       "min < med < max:\\textbackslash{}\n",
       "-90 < 38.5 < 555\\textbackslash{}\n",
       "IQR (CV) : 7 (0.2)                                                                                                                                                                                         & 543253 distinct values                                                                                                                                                                                                              & \\textbackslash{} \\textbackslash{} :\\textbackslash{}\n",
       "\\textbackslash{} \\textbackslash{} : :\\textbackslash{}\n",
       "\\textbackslash{} \\textbackslash{} : :\\textbackslash{}\n",
       "\\textbackslash{} \\textbackslash{} : :\\textbackslash{}\n",
       "\\textbackslash{} \\textbackslash{} : :                     & 642047\\textbackslash{}\n",
       "(99.7\\%)  & 2042\\textbackslash{}\n",
       "(0.3\\%)    \\\\\n",
       "\t6 &  6 & longitude\\textbackslash{}\n",
       "{[}numeric{]}           & Mean (sd) : -94 (19.1)\\textbackslash{}\n",
       "min < med < max:\\textbackslash{}\n",
       "-158.3 < -87.8 < 555\\textbackslash{}\n",
       "IQR (CV) : 37.7 (-0.2)                                                                                                                                                                               & 540387 distinct values                                                                                                                                                                                                              & : .\\textbackslash{}\n",
       ": :\\textbackslash{}\n",
       ": :\\textbackslash{}\n",
       ": :\\textbackslash{}\n",
       ": :                                                 & 642047\\textbackslash{}\n",
       "(99.7\\%)  & 2042\\textbackslash{}\n",
       "(0.3\\%)    \\\\\n",
       "\t7 &  7 & city\\textbackslash{}\n",
       "{[}character{]}              & 1\\textbackslash{}. (Empty string)\\textbackslash{}\n",
       "2\\textbackslash{}. Los Angeles\\textbackslash{}\n",
       "3\\textbackslash{}. New York\\textbackslash{}\n",
       "4\\textbackslash{}. Houston\\textbackslash{}\n",
       "5\\textbackslash{}. Chicago\\textbackslash{}\n",
       "6\\textbackslash{}. Miami\\textbackslash{}\n",
       "7\\textbackslash{}. Philadelphia\\textbackslash{}\n",
       "8\\textbackslash{}. San Diego\\textbackslash{}\n",
       "9\\textbackslash{}. San Francisco\\textbackslash{}\n",
       "10\\textbackslash{}. Orlando\\textbackslash{}\n",
       "{[} 3050 others {]}                                                                    & \\textbackslash{}588165 (91.3\\%)\\textbackslash{}\n",
       "\\textbackslash{}  1831 ( 0.3\\%)\\textbackslash{}\n",
       "\\textbackslash{}  1630 ( 0.3\\%)\\textbackslash{}\n",
       "\\textbackslash{}  1225 ( 0.2\\%)\\textbackslash{}\n",
       "\\textbackslash{}  1163 ( 0.2\\%)\\textbackslash{}\n",
       "\\textbackslash{}  1114 ( 0.2\\%)\\textbackslash{}\n",
       "\\textbackslash{}   893 ( 0.1\\%)\\textbackslash{}\n",
       "\\textbackslash{}   808 ( 0.1\\%)\\textbackslash{}\n",
       "\\textbackslash{}   790 ( 0.1\\%)\\textbackslash{}\n",
       "\\textbackslash{}   739 ( 0.1\\%)\\textbackslash{}\n",
       "\\textbackslash{} 45731 ( 7.1\\%)            & IIIIIIIIIIIIIIIIII \\textbackslash{} \n",
       " \\textbackslash{} \n",
       " \\textbackslash{} \n",
       " \\textbackslash{} \n",
       " \\textbackslash{} \n",
       " \\textbackslash{} \n",
       " \\textbackslash{} \n",
       " \\textbackslash{} \n",
       " \\textbackslash{} \n",
       " \\textbackslash{} \n",
       "I & 644089\\textbackslash{}\n",
       "(100.0\\%) & 0\\textbackslash{}\n",
       "(0.0\\%)       \\\\\n",
       "\t8 &  8 & country\\textbackslash{}\n",
       "{[}character{]}           & 1\\textbackslash{}. US\\textbackslash{}\n",
       "2\\textbackslash{}. (Empty string)\\textbackslash{}\n",
       "3\\textbackslash{}. ·close: 21:00\"\"{]}\\textbackslash{}\n",
       "4\\textbackslash{}. ·close: 20:00\"\"{]}\\textbackslash{}\n",
       "5\\textbackslash{}. FALSE\\textbackslash{}\n",
       "6\\textbackslash{}. ·close: 22:00\"\"{]}\\textbackslash{}\n",
       "7\\textbackslash{}. ·close: 00:00\"\"{]}\\textbackslash{}\n",
       "8\\textbackslash{}. ·close: 20:30\"\"{]}\\textbackslash{}\n",
       "9\\textbackslash{}. ·close: 23:00\"\"{]}\\textbackslash{}\n",
       "10\\textbackslash{}. ·close: 21:30\"\"{]}\\textbackslash{}\n",
       "{[} 18 others {]}                              & \\textbackslash{}642046 (99.7\\%)\\textbackslash{}\n",
       "\\textbackslash{}  1863 ( 0.3\\%)\\textbackslash{}\n",
       "\\textbackslash{}    40 ( 0.0\\%)\\textbackslash{}\n",
       "\\textbackslash{}    29 ( 0.0\\%)\\textbackslash{}\n",
       "\\textbackslash{}    23 ( 0.0\\%)\\textbackslash{}\n",
       "\\textbackslash{}    18 ( 0.0\\%)\\textbackslash{}\n",
       "\\textbackslash{}    17 ( 0.0\\%)\\textbackslash{}\n",
       "\\textbackslash{}     7 ( 0.0\\%)\\textbackslash{}\n",
       "\\textbackslash{}     7 ( 0.0\\%)\\textbackslash{}\n",
       "\\textbackslash{}     6 ( 0.0\\%)\\textbackslash{}\n",
       "\\textbackslash{}    33 ( 0.0\\%)            & IIIIIIIIIIIIIIIIIII \\textbackslash{} \n",
       " \\textbackslash{} \n",
       " \\textbackslash{} \n",
       " \\textbackslash{} \n",
       " \\textbackslash{} \n",
       " \\textbackslash{} \n",
       " \\textbackslash{} \n",
       " \\textbackslash{} \n",
       " \\textbackslash{} \n",
       " \\textbackslash{} \n",
       " & 644089\\textbackslash{}\n",
       "(100.0\\%) & 0\\textbackslash{}\n",
       "(0.0\\%)       \\\\\n",
       "\t9 &  9 & active\\textbackslash{}\n",
       "{[}character{]}            & 1\\textbackslash{}. TRUE\\textbackslash{}\n",
       "2\\textbackslash{}. FALSE\\textbackslash{}\n",
       "3\\textbackslash{}. (Empty string)\\textbackslash{}\n",
       "4\\textbackslash{}. ·close: 21:00\"\"{]}\\textbackslash{}\n",
       "5\\textbackslash{}. ·close: 20:00\"\"{]}\\textbackslash{}\n",
       "6\\textbackslash{}. ·close: 22:00\"\"{]}\\textbackslash{}\n",
       "7\\textbackslash{}. ·close: 00:00\"\"{]}\\textbackslash{}\n",
       "8\\textbackslash{}. ·close: 23:00\"\"{]}\\textbackslash{}\n",
       "9\\textbackslash{}. ·{[}{]}{]}\"\\textbackslash{}\n",
       "10\\textbackslash{}. 40\\textbackslash{}\n",
       "{[} 21 others {]}                                                     & \\textbackslash{}567052 (88.0\\%)\\textbackslash{}\n",
       "\\textbackslash{} 74802 (11.6\\%)\\textbackslash{}\n",
       "\\textbackslash{}  2065 ( 0.3\\%)\\textbackslash{}\n",
       "\\textbackslash{}    35 ( 0.0\\%)\\textbackslash{}\n",
       "\\textbackslash{}    25 ( 0.0\\%)\\textbackslash{}\n",
       "\\textbackslash{}    20 ( 0.0\\%)\\textbackslash{}\n",
       "\\textbackslash{}    19 ( 0.0\\%)\\textbackslash{}\n",
       "\\textbackslash{}    13 ( 0.0\\%)\\textbackslash{}\n",
       "\\textbackslash{}     7 ( 0.0\\%)\\textbackslash{}\n",
       "\\textbackslash{}     7 ( 0.0\\%)\\textbackslash{}\n",
       "\\textbackslash{}    44 ( 0.0\\%)            & IIIIIIIIIIIIIIIII \\textbackslash{} \n",
       "II \\textbackslash{} \n",
       " \\textbackslash{} \n",
       " \\textbackslash{} \n",
       " \\textbackslash{} \n",
       " \\textbackslash{} \n",
       " \\textbackslash{} \n",
       " \\textbackslash{} \n",
       " \\textbackslash{} \n",
       " \\textbackslash{} \n",
       " & 644089\\textbackslash{}\n",
       "(100.0\\%) & 0\\textbackslash{}\n",
       "(0.0\\%)       \\\\\n",
       "\t10 & 10 & standardized\\_name\\textbackslash{}\n",
       "{[}character{]} & 1\\textbackslash{}. subway\\textbackslash{}\n",
       "2\\textbackslash{}. starbucks\\textbackslash{}\n",
       "3\\textbackslash{}. mcdonald\\_s\\textbackslash{}\n",
       "4\\textbackslash{}. taco\\_bell\\textbackslash{}\n",
       "5\\textbackslash{}. burger\\_king\\textbackslash{}\n",
       "6\\textbackslash{}. jack\\_in\\_the\\_box\\textbackslash{}\n",
       "7\\textbackslash{}. 7-eleven\\textbackslash{}\n",
       "8\\textbackslash{}. kfc\\textbackslash{}\n",
       "9\\textbackslash{}. dunkin\\_donuts\\textbackslash{}\n",
       "10\\textbackslash{}. walgreens\\textbackslash{}\n",
       "{[} 409282 others {]}                                                                  & \\textbackslash{} 10310 ( 1.6\\%)\\textbackslash{}\n",
       "\\textbackslash{}  8049 ( 1.2\\%)\\textbackslash{}\n",
       "\\textbackslash{}  7478 ( 1.2\\%)\\textbackslash{}\n",
       "\\textbackslash{}  4997 ( 0.8\\%)\\textbackslash{}\n",
       "\\textbackslash{}  3678 ( 0.6\\%)\\textbackslash{}\n",
       "\\textbackslash{}  3534 ( 0.5\\%)\\textbackslash{}\n",
       "\\textbackslash{}  3398 ( 0.5\\%)\\textbackslash{}\n",
       "\\textbackslash{}  2998 ( 0.5\\%)\\textbackslash{}\n",
       "\\textbackslash{}  2807 ( 0.4\\%)\\textbackslash{}\n",
       "\\textbackslash{}  2770 ( 0.4\\%)\\textbackslash{}\n",
       "\\textbackslash{}594070 (92.2\\%)            &  \\textbackslash{} \n",
       " \\textbackslash{} \n",
       " \\textbackslash{} \n",
       " \\textbackslash{} \n",
       " \\textbackslash{} \n",
       " \\textbackslash{} \n",
       " \\textbackslash{} \n",
       " \\textbackslash{} \n",
       " \\textbackslash{} \n",
       " \\textbackslash{} \n",
       "IIIIIIIIIIIIIIIIII  & 644089\\textbackslash{}\n",
       "(100.0\\%) & 0\\textbackslash{}\n",
       "(0.0\\%)       \\\\\n",
       "\t11 & 11 & restaurant\\_chain\\textbackslash{}\n",
       "{[}character{]}  & 1\\textbackslash{}. (Empty string)\\textbackslash{}\n",
       "2\\textbackslash{}. TRUE\\textbackslash{}\n",
       "3\\textbackslash{}. ·close: 21:00\"\"{]}{]}\"\\textbackslash{}\n",
       "4\\textbackslash{}. ·close: 20:00\"\"{]}{]}\"\\textbackslash{}\n",
       "5\\textbackslash{}. ·close: 00:00\"\"{]}{]}\"\\textbackslash{}\n",
       "6\\textbackslash{}. ·close: 22:00\"\"{]}{]}\"\\textbackslash{}\n",
       "7\\textbackslash{}. ·close: 23:00\"\"{]}{]}\"\\textbackslash{}\n",
       "8\\textbackslash{}. ·close: 21:30\"\"{]}{]}\"\\textbackslash{}\n",
       "9\\textbackslash{}. ·close: 18:00\"\"{]}{]}\"\\textbackslash{}\n",
       "10\\textbackslash{}. ·close: 19:00\"\"{]}{]}\"\\textbackslash{}\n",
       "{[} 26 others {]} & \\textbackslash{}643920 (100.0\\%)\\textbackslash{}\n",
       "\\textbackslash{}    86 (  0.0\\%)\\textbackslash{}\n",
       "\\textbackslash{}    17 (  0.0\\%)\\textbackslash{}\n",
       "\\textbackslash{}     9 (  0.0\\%)\\textbackslash{}\n",
       "\\textbackslash{}     8 (  0.0\\%)\\textbackslash{}\n",
       "\\textbackslash{}     6 (  0.0\\%)\\textbackslash{}\n",
       "\\textbackslash{}     6 (  0.0\\%)\\textbackslash{}\n",
       "\\textbackslash{}     3 (  0.0\\%)\\textbackslash{}\n",
       "\\textbackslash{}     2 (  0.0\\%)\\textbackslash{}\n",
       "\\textbackslash{}     2 (  0.0\\%)\\textbackslash{}\n",
       "\\textbackslash{}    30 (  0.0\\%) & IIIIIIIIIIIIIIIIIII \\textbackslash{} \n",
       " \\textbackslash{} \n",
       " \\textbackslash{} \n",
       " \\textbackslash{} \n",
       " \\textbackslash{} \n",
       " \\textbackslash{} \n",
       " \\textbackslash{} \n",
       " \\textbackslash{} \n",
       " \\textbackslash{} \n",
       " \\textbackslash{} \n",
       " & 644089\\textbackslash{}\n",
       "(100.0\\%) & 0\\textbackslash{}\n",
       "(0.0\\%)       \\\\\n",
       "\t12 & 12 & delivery\\_radius\\textbackslash{}\n",
       "{[}numeric{]}     & Mean (sd) : 43787.3 (22251810)\\textbackslash{}\n",
       "min < med < max:\\textbackslash{}\n",
       "1 < 7000 < 13235083092\\textbackslash{}\n",
       "IQR (CV) : 1500 (508.2)                                                                                                                                                                    & 466 distinct values                                                                                                                                                                                                                 & :\\textbackslash{}\n",
       ":\\textbackslash{}\n",
       ":\\textbackslash{}\n",
       ":\\textbackslash{}\n",
       ":                                                           & 353771\\textbackslash{}\n",
       "(54.9\\%)  & 290318\\textbackslash{}\n",
       "(45.1\\%) \\\\\n",
       "\t13 & 13 & geom\\textbackslash{}\n",
       "{[}logical{]}                & All NA's\n",
       "                                                                                                                                                                                                                                                                 &                                                                                                                                                                                                                                     &                                                                                 & 0\\textbackslash{}\n",
       "(0.0\\%)        & 644089\\textbackslash{}\n",
       "(100.0\\%)\\\\\n",
       "\\end{tabular}\n"
      ],
      "text/markdown": [
       "\n",
       "A summarytools: 13 × 7\n",
       "\n",
       "| <!--/--> | No &lt;dbl&gt; | Variable &lt;chr&gt; | Stats / Values &lt;chr&gt; | Freqs (% of Valid) &lt;chr&gt; | text.graph &lt;chr&gt; | Valid &lt;chr&gt; | Missing &lt;chr&gt; |\n",
       "|---|---|---|---|---|---|---|---|\n",
       "| 1 |  1 | restaurant_id\\\n",
       "[numeric]       | Mean (sd) : 237866.8 (187782.5)\\\n",
       "min &lt; med &lt; max:\\\n",
       "1 &lt; 216563 &lt; 997804\\\n",
       "IQR (CV) : 249348 (0.8)                                                                                                                                                                      | 402721 distinct values                                                                                                                                                                                                              | :\\\n",
       ": \\ \\ . .\\\n",
       ": : : :\\\n",
       ": : : :\\\n",
       ": : : : : .                           | 467907\\\n",
       "(72.6%)  | 176182\\\n",
       "(27.4%)  |\n",
       "| 2 |  2 | name\\\n",
       "[character]              | 1\\. Subway\\\n",
       "2\\. Starbucks\\\n",
       "3\\. McDonald's\\\n",
       "4\\. Taco Bell\\\n",
       "5\\. Burger King\\\n",
       "6\\. 7-Eleven\\\n",
       "7\\. KFC\\\n",
       "8\\. Walgreens\\\n",
       "9\\. Dunkin' Donuts\\\n",
       "10\\. Wendy's\\\n",
       "[ 418989 others ]                                                                         | \\  8554 ( 1.3%)\\\n",
       "\\  8047 ( 1.2%)\\\n",
       "\\  6951 ( 1.1%)\\\n",
       "\\  4997 ( 0.8%)\\\n",
       "\\  3645 ( 0.6%)\\\n",
       "\\  3398 ( 0.5%)\\\n",
       "\\  2998 ( 0.5%)\\\n",
       "\\  2770 ( 0.4%)\\\n",
       "\\  2729 ( 0.4%)\\\n",
       "\\  2092 ( 0.3%)\\\n",
       "\\597908 (92.8%)            |  \\ \n",
       " \\ \n",
       " \\ \n",
       " \\ \n",
       " \\ \n",
       " \\ \n",
       " \\ \n",
       " \\ \n",
       " \\ \n",
       " \\ \n",
       "IIIIIIIIIIIIIIIIII  | 644089\\\n",
       "(100.0%) | 0\\\n",
       "(0.0%)        |\n",
       "| 3 |  3 | platform\\\n",
       "[character]          | 1\\. doordash\\\n",
       "2\\. postmates\\\n",
       "3\\. grubhub\\\n",
       "4\\. ubereats\\\n",
       "5\\. delivery.com\\\n",
       "6\\. caviar\\\n",
       "7\\. (Empty string)\\\n",
       "8\\. ·[\"\"open: 12:00\\\n",
       "9\\. ·[]\\\n",
       "10\\. ·[\"\"open: 11:00\\\n",
       "[ 37 others ]                                                                  | \\353739 (54.9%)\\\n",
       "\\110165 (17.1%)\\\n",
       "\\ 68029 (10.6%)\\\n",
       "\\ 65422 (10.2%)\\\n",
       "\\ 34729 ( 5.4%)\\\n",
       "\\  9964 ( 1.5%)\\\n",
       "\\  1845 ( 0.3%)\\\n",
       "\\    44 ( 0.0%)\\\n",
       "\\    28 ( 0.0%)\\\n",
       "\\    20 ( 0.0%)\\\n",
       "\\   104 ( 0.0%)            | IIIIIIIIII \\ \n",
       "III \\ \n",
       "II \\ \n",
       "II \\ \n",
       "I \\ \n",
       " \\ \n",
       " \\ \n",
       " \\ \n",
       " \\ \n",
       " \\ \n",
       "  | 644089\\\n",
       "(100.0%) | 0\\\n",
       "(0.0%)        |\n",
       "| 4 |  4 | sub_platform\\\n",
       "[character]      | 1\\. doordash\\\n",
       "2\\. restaurant\\\n",
       "3\\. grubhub\\\n",
       "4\\. ubereats\\\n",
       "5\\. (Empty string)\\\n",
       "6\\. ·close: 21:00\"\"]\\\n",
       "7\\. ·close: 20:00\"\"]\\\n",
       "8\\. ·[]\\\n",
       "9\\. ·close: 22:00\"\"]\\\n",
       "10\\. ·close: 00:00\"\"]\\\n",
       "[ 21 others ]                                                 | \\353739 (54.9%)\\\n",
       "\\110165 (17.1%)\\\n",
       "\\ 68029 (10.6%)\\\n",
       "\\ 65422 (10.2%)\\\n",
       "\\ 46538 ( 7.2%)\\\n",
       "\\    45 ( 0.0%)\\\n",
       "\\    28 ( 0.0%)\\\n",
       "\\    23 ( 0.0%)\\\n",
       "\\    15 ( 0.0%)\\\n",
       "\\    14 ( 0.0%)\\\n",
       "\\    71 ( 0.0%)            | IIIIIIIIII \\ \n",
       "III \\ \n",
       "II \\ \n",
       "II \\ \n",
       "I \\ \n",
       " \\ \n",
       " \\ \n",
       " \\ \n",
       " \\ \n",
       " \\ \n",
       "  | 644089\\\n",
       "(100.0%) | 0\\\n",
       "(0.0%)        |\n",
       "| 5 |  5 | latitude\\\n",
       "[numeric]            | Mean (sd) : 37 (8.5)\\\n",
       "min &lt; med &lt; max:\\\n",
       "-90 &lt; 38.5 &lt; 555\\\n",
       "IQR (CV) : 7 (0.2)                                                                                                                                                                                         | 543253 distinct values                                                                                                                                                                                                              | \\ \\ :\\\n",
       "\\ \\ : :\\\n",
       "\\ \\ : :\\\n",
       "\\ \\ : :\\\n",
       "\\ \\ : :                     | 642047\\\n",
       "(99.7%)  | 2042\\\n",
       "(0.3%)     |\n",
       "| 6 |  6 | longitude\\\n",
       "[numeric]           | Mean (sd) : -94 (19.1)\\\n",
       "min &lt; med &lt; max:\\\n",
       "-158.3 &lt; -87.8 &lt; 555\\\n",
       "IQR (CV) : 37.7 (-0.2)                                                                                                                                                                               | 540387 distinct values                                                                                                                                                                                                              | : .\\\n",
       ": :\\\n",
       ": :\\\n",
       ": :\\\n",
       ": :                                                 | 642047\\\n",
       "(99.7%)  | 2042\\\n",
       "(0.3%)     |\n",
       "| 7 |  7 | city\\\n",
       "[character]              | 1\\. (Empty string)\\\n",
       "2\\. Los Angeles\\\n",
       "3\\. New York\\\n",
       "4\\. Houston\\\n",
       "5\\. Chicago\\\n",
       "6\\. Miami\\\n",
       "7\\. Philadelphia\\\n",
       "8\\. San Diego\\\n",
       "9\\. San Francisco\\\n",
       "10\\. Orlando\\\n",
       "[ 3050 others ]                                                                    | \\588165 (91.3%)\\\n",
       "\\  1831 ( 0.3%)\\\n",
       "\\  1630 ( 0.3%)\\\n",
       "\\  1225 ( 0.2%)\\\n",
       "\\  1163 ( 0.2%)\\\n",
       "\\  1114 ( 0.2%)\\\n",
       "\\   893 ( 0.1%)\\\n",
       "\\   808 ( 0.1%)\\\n",
       "\\   790 ( 0.1%)\\\n",
       "\\   739 ( 0.1%)\\\n",
       "\\ 45731 ( 7.1%)            | IIIIIIIIIIIIIIIIII \\ \n",
       " \\ \n",
       " \\ \n",
       " \\ \n",
       " \\ \n",
       " \\ \n",
       " \\ \n",
       " \\ \n",
       " \\ \n",
       " \\ \n",
       "I | 644089\\\n",
       "(100.0%) | 0\\\n",
       "(0.0%)        |\n",
       "| 8 |  8 | country\\\n",
       "[character]           | 1\\. US\\\n",
       "2\\. (Empty string)\\\n",
       "3\\. ·close: 21:00\"\"]\\\n",
       "4\\. ·close: 20:00\"\"]\\\n",
       "5\\. FALSE\\\n",
       "6\\. ·close: 22:00\"\"]\\\n",
       "7\\. ·close: 00:00\"\"]\\\n",
       "8\\. ·close: 20:30\"\"]\\\n",
       "9\\. ·close: 23:00\"\"]\\\n",
       "10\\. ·close: 21:30\"\"]\\\n",
       "[ 18 others ]                              | \\642046 (99.7%)\\\n",
       "\\  1863 ( 0.3%)\\\n",
       "\\    40 ( 0.0%)\\\n",
       "\\    29 ( 0.0%)\\\n",
       "\\    23 ( 0.0%)\\\n",
       "\\    18 ( 0.0%)\\\n",
       "\\    17 ( 0.0%)\\\n",
       "\\     7 ( 0.0%)\\\n",
       "\\     7 ( 0.0%)\\\n",
       "\\     6 ( 0.0%)\\\n",
       "\\    33 ( 0.0%)            | IIIIIIIIIIIIIIIIIII \\ \n",
       " \\ \n",
       " \\ \n",
       " \\ \n",
       " \\ \n",
       " \\ \n",
       " \\ \n",
       " \\ \n",
       " \\ \n",
       " \\ \n",
       " | 644089\\\n",
       "(100.0%) | 0\\\n",
       "(0.0%)        |\n",
       "| 9 |  9 | active\\\n",
       "[character]            | 1\\. TRUE\\\n",
       "2\\. FALSE\\\n",
       "3\\. (Empty string)\\\n",
       "4\\. ·close: 21:00\"\"]\\\n",
       "5\\. ·close: 20:00\"\"]\\\n",
       "6\\. ·close: 22:00\"\"]\\\n",
       "7\\. ·close: 00:00\"\"]\\\n",
       "8\\. ·close: 23:00\"\"]\\\n",
       "9\\. ·[]]\"\\\n",
       "10\\. 40\\\n",
       "[ 21 others ]                                                     | \\567052 (88.0%)\\\n",
       "\\ 74802 (11.6%)\\\n",
       "\\  2065 ( 0.3%)\\\n",
       "\\    35 ( 0.0%)\\\n",
       "\\    25 ( 0.0%)\\\n",
       "\\    20 ( 0.0%)\\\n",
       "\\    19 ( 0.0%)\\\n",
       "\\    13 ( 0.0%)\\\n",
       "\\     7 ( 0.0%)\\\n",
       "\\     7 ( 0.0%)\\\n",
       "\\    44 ( 0.0%)            | IIIIIIIIIIIIIIIII \\ \n",
       "II \\ \n",
       " \\ \n",
       " \\ \n",
       " \\ \n",
       " \\ \n",
       " \\ \n",
       " \\ \n",
       " \\ \n",
       " \\ \n",
       " | 644089\\\n",
       "(100.0%) | 0\\\n",
       "(0.0%)        |\n",
       "| 10 | 10 | standardized_name\\\n",
       "[character] | 1\\. subway\\\n",
       "2\\. starbucks\\\n",
       "3\\. mcdonald_s\\\n",
       "4\\. taco_bell\\\n",
       "5\\. burger_king\\\n",
       "6\\. jack_in_the_box\\\n",
       "7\\. 7-eleven\\\n",
       "8\\. kfc\\\n",
       "9\\. dunkin_donuts\\\n",
       "10\\. walgreens\\\n",
       "[ 409282 others ]                                                                  | \\ 10310 ( 1.6%)\\\n",
       "\\  8049 ( 1.2%)\\\n",
       "\\  7478 ( 1.2%)\\\n",
       "\\  4997 ( 0.8%)\\\n",
       "\\  3678 ( 0.6%)\\\n",
       "\\  3534 ( 0.5%)\\\n",
       "\\  3398 ( 0.5%)\\\n",
       "\\  2998 ( 0.5%)\\\n",
       "\\  2807 ( 0.4%)\\\n",
       "\\  2770 ( 0.4%)\\\n",
       "\\594070 (92.2%)            |  \\ \n",
       " \\ \n",
       " \\ \n",
       " \\ \n",
       " \\ \n",
       " \\ \n",
       " \\ \n",
       " \\ \n",
       " \\ \n",
       " \\ \n",
       "IIIIIIIIIIIIIIIIII  | 644089\\\n",
       "(100.0%) | 0\\\n",
       "(0.0%)        |\n",
       "| 11 | 11 | restaurant_chain\\\n",
       "[character]  | 1\\. (Empty string)\\\n",
       "2\\. TRUE\\\n",
       "3\\. ·close: 21:00\"\"]]\"\\\n",
       "4\\. ·close: 20:00\"\"]]\"\\\n",
       "5\\. ·close: 00:00\"\"]]\"\\\n",
       "6\\. ·close: 22:00\"\"]]\"\\\n",
       "7\\. ·close: 23:00\"\"]]\"\\\n",
       "8\\. ·close: 21:30\"\"]]\"\\\n",
       "9\\. ·close: 18:00\"\"]]\"\\\n",
       "10\\. ·close: 19:00\"\"]]\"\\\n",
       "[ 26 others ] | \\643920 (100.0%)\\\n",
       "\\    86 (  0.0%)\\\n",
       "\\    17 (  0.0%)\\\n",
       "\\     9 (  0.0%)\\\n",
       "\\     8 (  0.0%)\\\n",
       "\\     6 (  0.0%)\\\n",
       "\\     6 (  0.0%)\\\n",
       "\\     3 (  0.0%)\\\n",
       "\\     2 (  0.0%)\\\n",
       "\\     2 (  0.0%)\\\n",
       "\\    30 (  0.0%) | IIIIIIIIIIIIIIIIIII \\ \n",
       " \\ \n",
       " \\ \n",
       " \\ \n",
       " \\ \n",
       " \\ \n",
       " \\ \n",
       " \\ \n",
       " \\ \n",
       " \\ \n",
       " | 644089\\\n",
       "(100.0%) | 0\\\n",
       "(0.0%)        |\n",
       "| 12 | 12 | delivery_radius\\\n",
       "[numeric]     | Mean (sd) : 43787.3 (22251810)\\\n",
       "min &lt; med &lt; max:\\\n",
       "1 &lt; 7000 &lt; 13235083092\\\n",
       "IQR (CV) : 1500 (508.2)                                                                                                                                                                    | 466 distinct values                                                                                                                                                                                                                 | :\\\n",
       ":\\\n",
       ":\\\n",
       ":\\\n",
       ":                                                           | 353771\\\n",
       "(54.9%)  | 290318\\\n",
       "(45.1%)  |\n",
       "| 13 | 13 | geom\\\n",
       "[logical]                | All NA's\n",
       "                                                                                                                                                                                                                                                                 | <!----> | <!----> | 0\\\n",
       "(0.0%)        | 644089\\\n",
       "(100.0%) |\n",
       "\n"
      ],
      "text/plain": [
       "   No Variable                        \n",
       "1   1 restaurant_id\\\\\\n[numeric]      \n",
       "2   2 name\\\\\\n[character]             \n",
       "3   3 platform\\\\\\n[character]         \n",
       "4   4 sub_platform\\\\\\n[character]     \n",
       "5   5 latitude\\\\\\n[numeric]           \n",
       "6   6 longitude\\\\\\n[numeric]          \n",
       "7   7 city\\\\\\n[character]             \n",
       "8   8 country\\\\\\n[character]          \n",
       "9   9 active\\\\\\n[character]           \n",
       "10 10 standardized_name\\\\\\n[character]\n",
       "11 11 restaurant_chain\\\\\\n[character] \n",
       "12 12 delivery_radius\\\\\\n[numeric]    \n",
       "13 13 geom\\\\\\n[logical]               \n",
       "   Stats / Values                                                                                                                                                                                                                                                            \n",
       "1  Mean (sd) : 237866.8 (187782.5)\\\\\\nmin < med < max:\\\\\\n1 < 216563 < 997804\\\\\\nIQR (CV) : 249348 (0.8)                                                                                                                                                                     \n",
       "2  1\\\\. Subway\\\\\\n2\\\\. Starbucks\\\\\\n3\\\\. McDonald's\\\\\\n4\\\\. Taco Bell\\\\\\n5\\\\. Burger King\\\\\\n6\\\\. 7-Eleven\\\\\\n7\\\\. KFC\\\\\\n8\\\\. Walgreens\\\\\\n9\\\\. Dunkin' Donuts\\\\\\n10\\\\. Wendy's\\\\\\n[ 418989 others ]                                                                        \n",
       "3  1\\\\. doordash\\\\\\n2\\\\. postmates\\\\\\n3\\\\. grubhub\\\\\\n4\\\\. ubereats\\\\\\n5\\\\. delivery.com\\\\\\n6\\\\. caviar\\\\\\n7\\\\. (Empty string)\\\\\\n8\\\\. ·[\"\"open: 12:00\\\\\\n9\\\\. ·[]\\\\\\n10\\\\. ·[\"\"open: 11:00\\\\\\n[ 37 others ]                                                                 \n",
       "4  1\\\\. doordash\\\\\\n2\\\\. restaurant\\\\\\n3\\\\. grubhub\\\\\\n4\\\\. ubereats\\\\\\n5\\\\. (Empty string)\\\\\\n6\\\\. ·close: 21:00\"\"]\\\\\\n7\\\\. ·close: 20:00\"\"]\\\\\\n8\\\\. ·[]\\\\\\n9\\\\. ·close: 22:00\"\"]\\\\\\n10\\\\. ·close: 00:00\"\"]\\\\\\n[ 21 others ]                                                \n",
       "5  Mean (sd) : 37 (8.5)\\\\\\nmin < med < max:\\\\\\n-90 < 38.5 < 555\\\\\\nIQR (CV) : 7 (0.2)                                                                                                                                                                                        \n",
       "6  Mean (sd) : -94 (19.1)\\\\\\nmin < med < max:\\\\\\n-158.3 < -87.8 < 555\\\\\\nIQR (CV) : 37.7 (-0.2)                                                                                                                                                                              \n",
       "7  1\\\\. (Empty string)\\\\\\n2\\\\. Los Angeles\\\\\\n3\\\\. New York\\\\\\n4\\\\. Houston\\\\\\n5\\\\. Chicago\\\\\\n6\\\\. Miami\\\\\\n7\\\\. Philadelphia\\\\\\n8\\\\. San Diego\\\\\\n9\\\\. San Francisco\\\\\\n10\\\\. Orlando\\\\\\n[ 3050 others ]                                                                   \n",
       "8  1\\\\. US\\\\\\n2\\\\. (Empty string)\\\\\\n3\\\\. ·close: 21:00\"\"]\\\\\\n4\\\\. ·close: 20:00\"\"]\\\\\\n5\\\\. FALSE\\\\\\n6\\\\. ·close: 22:00\"\"]\\\\\\n7\\\\. ·close: 00:00\"\"]\\\\\\n8\\\\. ·close: 20:30\"\"]\\\\\\n9\\\\. ·close: 23:00\"\"]\\\\\\n10\\\\. ·close: 21:30\"\"]\\\\\\n[ 18 others ]                             \n",
       "9  1\\\\. TRUE\\\\\\n2\\\\. FALSE\\\\\\n3\\\\. (Empty string)\\\\\\n4\\\\. ·close: 21:00\"\"]\\\\\\n5\\\\. ·close: 20:00\"\"]\\\\\\n6\\\\. ·close: 22:00\"\"]\\\\\\n7\\\\. ·close: 00:00\"\"]\\\\\\n8\\\\. ·close: 23:00\"\"]\\\\\\n9\\\\. ·[]]\"\\\\\\n10\\\\. 40\\\\\\n[ 21 others ]                                                    \n",
       "10 1\\\\. subway\\\\\\n2\\\\. starbucks\\\\\\n3\\\\. mcdonald_s\\\\\\n4\\\\. taco_bell\\\\\\n5\\\\. burger_king\\\\\\n6\\\\. jack_in_the_box\\\\\\n7\\\\. 7-eleven\\\\\\n8\\\\. kfc\\\\\\n9\\\\. dunkin_donuts\\\\\\n10\\\\. walgreens\\\\\\n[ 409282 others ]                                                                 \n",
       "11 1\\\\. (Empty string)\\\\\\n2\\\\. TRUE\\\\\\n3\\\\. ·close: 21:00\"\"]]\"\\\\\\n4\\\\. ·close: 20:00\"\"]]\"\\\\\\n5\\\\. ·close: 00:00\"\"]]\"\\\\\\n6\\\\. ·close: 22:00\"\"]]\"\\\\\\n7\\\\. ·close: 23:00\"\"]]\"\\\\\\n8\\\\. ·close: 21:30\"\"]]\"\\\\\\n9\\\\. ·close: 18:00\"\"]]\"\\\\\\n10\\\\. ·close: 19:00\"\"]]\"\\\\\\n[ 26 others ]\n",
       "12 Mean (sd) : 43787.3 (22251810)\\\\\\nmin < med < max:\\\\\\n1 < 7000 < 13235083092\\\\\\nIQR (CV) : 1500 (508.2)                                                                                                                                                                   \n",
       "13 All NA's\\n                                                                                                                                                                                                                                                                \n",
       "   Freqs (% of Valid)                                                                                                                                                                                                                 \n",
       "1  402721 distinct values                                                                                                                                                                                                             \n",
       "2  \\\\  8554 ( 1.3%)\\\\\\n\\\\  8047 ( 1.2%)\\\\\\n\\\\  6951 ( 1.1%)\\\\\\n\\\\  4997 ( 0.8%)\\\\\\n\\\\  3645 ( 0.6%)\\\\\\n\\\\  3398 ( 0.5%)\\\\\\n\\\\  2998 ( 0.5%)\\\\\\n\\\\  2770 ( 0.4%)\\\\\\n\\\\  2729 ( 0.4%)\\\\\\n\\\\  2092 ( 0.3%)\\\\\\n\\\\597908 (92.8%)           \n",
       "3  \\\\353739 (54.9%)\\\\\\n\\\\110165 (17.1%)\\\\\\n\\\\ 68029 (10.6%)\\\\\\n\\\\ 65422 (10.2%)\\\\\\n\\\\ 34729 ( 5.4%)\\\\\\n\\\\  9964 ( 1.5%)\\\\\\n\\\\  1845 ( 0.3%)\\\\\\n\\\\    44 ( 0.0%)\\\\\\n\\\\    28 ( 0.0%)\\\\\\n\\\\    20 ( 0.0%)\\\\\\n\\\\   104 ( 0.0%)           \n",
       "4  \\\\353739 (54.9%)\\\\\\n\\\\110165 (17.1%)\\\\\\n\\\\ 68029 (10.6%)\\\\\\n\\\\ 65422 (10.2%)\\\\\\n\\\\ 46538 ( 7.2%)\\\\\\n\\\\    45 ( 0.0%)\\\\\\n\\\\    28 ( 0.0%)\\\\\\n\\\\    23 ( 0.0%)\\\\\\n\\\\    15 ( 0.0%)\\\\\\n\\\\    14 ( 0.0%)\\\\\\n\\\\    71 ( 0.0%)           \n",
       "5  543253 distinct values                                                                                                                                                                                                             \n",
       "6  540387 distinct values                                                                                                                                                                                                             \n",
       "7  \\\\588165 (91.3%)\\\\\\n\\\\  1831 ( 0.3%)\\\\\\n\\\\  1630 ( 0.3%)\\\\\\n\\\\  1225 ( 0.2%)\\\\\\n\\\\  1163 ( 0.2%)\\\\\\n\\\\  1114 ( 0.2%)\\\\\\n\\\\   893 ( 0.1%)\\\\\\n\\\\   808 ( 0.1%)\\\\\\n\\\\   790 ( 0.1%)\\\\\\n\\\\   739 ( 0.1%)\\\\\\n\\\\ 45731 ( 7.1%)           \n",
       "8  \\\\642046 (99.7%)\\\\\\n\\\\  1863 ( 0.3%)\\\\\\n\\\\    40 ( 0.0%)\\\\\\n\\\\    29 ( 0.0%)\\\\\\n\\\\    23 ( 0.0%)\\\\\\n\\\\    18 ( 0.0%)\\\\\\n\\\\    17 ( 0.0%)\\\\\\n\\\\     7 ( 0.0%)\\\\\\n\\\\     7 ( 0.0%)\\\\\\n\\\\     6 ( 0.0%)\\\\\\n\\\\    33 ( 0.0%)           \n",
       "9  \\\\567052 (88.0%)\\\\\\n\\\\ 74802 (11.6%)\\\\\\n\\\\  2065 ( 0.3%)\\\\\\n\\\\    35 ( 0.0%)\\\\\\n\\\\    25 ( 0.0%)\\\\\\n\\\\    20 ( 0.0%)\\\\\\n\\\\    19 ( 0.0%)\\\\\\n\\\\    13 ( 0.0%)\\\\\\n\\\\     7 ( 0.0%)\\\\\\n\\\\     7 ( 0.0%)\\\\\\n\\\\    44 ( 0.0%)           \n",
       "10 \\\\ 10310 ( 1.6%)\\\\\\n\\\\  8049 ( 1.2%)\\\\\\n\\\\  7478 ( 1.2%)\\\\\\n\\\\  4997 ( 0.8%)\\\\\\n\\\\  3678 ( 0.6%)\\\\\\n\\\\  3534 ( 0.5%)\\\\\\n\\\\  3398 ( 0.5%)\\\\\\n\\\\  2998 ( 0.5%)\\\\\\n\\\\  2807 ( 0.4%)\\\\\\n\\\\  2770 ( 0.4%)\\\\\\n\\\\594070 (92.2%)           \n",
       "11 \\\\643920 (100.0%)\\\\\\n\\\\    86 (  0.0%)\\\\\\n\\\\    17 (  0.0%)\\\\\\n\\\\     9 (  0.0%)\\\\\\n\\\\     8 (  0.0%)\\\\\\n\\\\     6 (  0.0%)\\\\\\n\\\\     6 (  0.0%)\\\\\\n\\\\     3 (  0.0%)\\\\\\n\\\\     2 (  0.0%)\\\\\\n\\\\     2 (  0.0%)\\\\\\n\\\\    30 (  0.0%)\n",
       "12 466 distinct values                                                                                                                                                                                                                \n",
       "13                                                                                                                                                                                                                                    \n",
       "   text.graph                                                                     \n",
       "1  :\\\\\\n: \\\\ \\\\ . .\\\\\\n: : : :\\\\\\n: : : :\\\\\\n: : : : : .                          \n",
       "2   \\\\ \\n \\\\ \\n \\\\ \\n \\\\ \\n \\\\ \\n \\\\ \\n \\\\ \\n \\\\ \\n \\\\ \\n \\\\ \\nIIIIIIIIIIIIIIIIII \n",
       "3  IIIIIIIIII \\\\ \\nIII \\\\ \\nII \\\\ \\nII \\\\ \\nI \\\\ \\n \\\\ \\n \\\\ \\n \\\\ \\n \\\\ \\n \\\\ \\n \n",
       "4  IIIIIIIIII \\\\ \\nIII \\\\ \\nII \\\\ \\nII \\\\ \\nI \\\\ \\n \\\\ \\n \\\\ \\n \\\\ \\n \\\\ \\n \\\\ \\n \n",
       "5  \\\\ \\\\ :\\\\\\n\\\\ \\\\ : :\\\\\\n\\\\ \\\\ : :\\\\\\n\\\\ \\\\ : :\\\\\\n\\\\ \\\\ : :                    \n",
       "6  : .\\\\\\n: :\\\\\\n: :\\\\\\n: :\\\\\\n: :                                                \n",
       "7  IIIIIIIIIIIIIIIIII \\\\ \\n \\\\ \\n \\\\ \\n \\\\ \\n \\\\ \\n \\\\ \\n \\\\ \\n \\\\ \\n \\\\ \\n \\\\ \\nI\n",
       "8  IIIIIIIIIIIIIIIIIII \\\\ \\n \\\\ \\n \\\\ \\n \\\\ \\n \\\\ \\n \\\\ \\n \\\\ \\n \\\\ \\n \\\\ \\n \\\\ \\n\n",
       "9  IIIIIIIIIIIIIIIII \\\\ \\nII \\\\ \\n \\\\ \\n \\\\ \\n \\\\ \\n \\\\ \\n \\\\ \\n \\\\ \\n \\\\ \\n \\\\ \\n\n",
       "10  \\\\ \\n \\\\ \\n \\\\ \\n \\\\ \\n \\\\ \\n \\\\ \\n \\\\ \\n \\\\ \\n \\\\ \\n \\\\ \\nIIIIIIIIIIIIIIIIII \n",
       "11 IIIIIIIIIIIIIIIIIII \\\\ \\n \\\\ \\n \\\\ \\n \\\\ \\n \\\\ \\n \\\\ \\n \\\\ \\n \\\\ \\n \\\\ \\n \\\\ \\n\n",
       "12 :\\\\\\n:\\\\\\n:\\\\\\n:\\\\\\n:                                                          \n",
       "13                                                                                \n",
       "   Valid              Missing           \n",
       "1  467907\\\\\\n(72.6%)  176182\\\\\\n(27.4%) \n",
       "2  644089\\\\\\n(100.0%) 0\\\\\\n(0.0%)       \n",
       "3  644089\\\\\\n(100.0%) 0\\\\\\n(0.0%)       \n",
       "4  644089\\\\\\n(100.0%) 0\\\\\\n(0.0%)       \n",
       "5  642047\\\\\\n(99.7%)  2042\\\\\\n(0.3%)    \n",
       "6  642047\\\\\\n(99.7%)  2042\\\\\\n(0.3%)    \n",
       "7  644089\\\\\\n(100.0%) 0\\\\\\n(0.0%)       \n",
       "8  644089\\\\\\n(100.0%) 0\\\\\\n(0.0%)       \n",
       "9  644089\\\\\\n(100.0%) 0\\\\\\n(0.0%)       \n",
       "10 644089\\\\\\n(100.0%) 0\\\\\\n(0.0%)       \n",
       "11 644089\\\\\\n(100.0%) 0\\\\\\n(0.0%)       \n",
       "12 353771\\\\\\n(54.9%)  290318\\\\\\n(45.1%) \n",
       "13 0\\\\\\n(0.0%)        644089\\\\\\n(100.0%)"
      ]
     },
     "metadata": {},
     "output_type": "display_data"
    }
   ],
   "source": [
    "subset(dfSummary(df), select=-Graph)"
   ]
  },
  {
   "cell_type": "markdown",
   "metadata": {},
   "source": [
    "##### 2.1 Data Cleaning by restaurant ID #####\n",
    "\n",
    "- By examining restaurants with no restaurant ID, seems like i am still able to find out the information that I required without restaurant ID."
   ]
  },
  {
   "cell_type": "code",
   "execution_count": 552,
   "metadata": {
    "vscode": {
     "languageId": "r"
    }
   },
   "outputs": [
    {
     "data": {
      "text/html": [
       "<table class=\"dataframe\">\n",
       "<caption>A data.frame: 20 × 13</caption>\n",
       "<thead>\n",
       "\t<tr><th></th><th scope=col>restaurant_id</th><th scope=col>name</th><th scope=col>platform</th><th scope=col>sub_platform</th><th scope=col>latitude</th><th scope=col>longitude</th><th scope=col>city</th><th scope=col>country</th><th scope=col>active</th><th scope=col>standardized_name</th><th scope=col>restaurant_chain</th><th scope=col>delivery_radius</th><th scope=col>geom</th></tr>\n",
       "\t<tr><th></th><th scope=col>&lt;dbl&gt;</th><th scope=col>&lt;chr&gt;</th><th scope=col>&lt;chr&gt;</th><th scope=col>&lt;chr&gt;</th><th scope=col>&lt;dbl&gt;</th><th scope=col>&lt;dbl&gt;</th><th scope=col>&lt;chr&gt;</th><th scope=col>&lt;chr&gt;</th><th scope=col>&lt;chr&gt;</th><th scope=col>&lt;chr&gt;</th><th scope=col>&lt;chr&gt;</th><th scope=col>&lt;dbl&gt;</th><th scope=col>&lt;lgl&gt;</th></tr>\n",
       "</thead>\n",
       "<tbody>\n",
       "\t<tr><th scope=row>34795</th><td>NA</td><td>                       </td><td>delivery.com</td><td>          </td><td>      NA</td><td>        NA</td><td></td><td>US</td><td>FALSE</td><td>                       </td><td></td><td>NA</td><td>NA</td></tr>\n",
       "\t<tr><th scope=row>94112</th><td>NA</td><td>Hapa Sushi LoDo        </td><td>postmates   </td><td>restaurant</td><td>39.74985</td><td>-104.99994</td><td></td><td>US</td><td>TRUE </td><td>hapa_sushi_lodo        </td><td></td><td>NA</td><td>NA</td></tr>\n",
       "\t<tr><th scope=row>94113</th><td>NA</td><td>Fat Sal's              </td><td>postmates   </td><td>restaurant</td><td>34.06253</td><td>-118.44805</td><td></td><td>US</td><td>TRUE </td><td>fat_sal_s              </td><td></td><td>NA</td><td>NA</td></tr>\n",
       "\t<tr><th scope=row>94114</th><td>NA</td><td>Monk's Kettle          </td><td>postmates   </td><td>restaurant</td><td>37.76489</td><td>-122.42291</td><td></td><td>US</td><td>TRUE </td><td>monk_s_kettle          </td><td></td><td>NA</td><td>NA</td></tr>\n",
       "\t<tr><th scope=row>94115</th><td>NA</td><td>Firehouse Subs         </td><td>postmates   </td><td>restaurant</td><td>41.70156</td><td> -83.65030</td><td></td><td>US</td><td>TRUE </td><td>firehouse_subs         </td><td></td><td>NA</td><td>NA</td></tr>\n",
       "\t<tr><th scope=row>94116</th><td>NA</td><td>Carl's Jr/Green Burrito</td><td>postmates   </td><td>restaurant</td><td>33.81533</td><td>-116.40101</td><td></td><td>US</td><td>FALSE</td><td>carl_s_jr_green_burrito</td><td></td><td>NA</td><td>NA</td></tr>\n",
       "\t<tr><th scope=row>94117</th><td>NA</td><td>Dunkin' Donuts         </td><td>postmates   </td><td>restaurant</td><td>40.71571</td><td> -73.59847</td><td></td><td>US</td><td>TRUE </td><td>dunkin_donuts          </td><td></td><td>NA</td><td>NA</td></tr>\n",
       "\t<tr><th scope=row>94118</th><td>NA</td><td>Subway                 </td><td>postmates   </td><td>restaurant</td><td>39.81755</td><td> -86.32782</td><td></td><td>US</td><td>TRUE </td><td>subway                 </td><td></td><td>NA</td><td>NA</td></tr>\n",
       "\t<tr><th scope=row>94119</th><td>NA</td><td>7-Eleven               </td><td>postmates   </td><td>restaurant</td><td>38.96194</td><td> -76.86317</td><td></td><td>US</td><td>FALSE</td><td>7-eleven               </td><td></td><td>NA</td><td>NA</td></tr>\n",
       "\t<tr><th scope=row>94120</th><td>NA</td><td>Anson Eleven           </td><td>postmates   </td><td>restaurant</td><td>31.75912</td><td>-106.48910</td><td></td><td>US</td><td>TRUE </td><td>anson_eleven           </td><td></td><td>NA</td><td>NA</td></tr>\n",
       "\t<tr><th scope=row>94121</th><td>NA</td><td>Longhorn Steakhouse    </td><td>postmates   </td><td>restaurant</td><td>31.52358</td><td> -97.16627</td><td></td><td>US</td><td>FALSE</td><td>longhorn_steakhouse    </td><td></td><td>NA</td><td>NA</td></tr>\n",
       "\t<tr><th scope=row>94122</th><td>NA</td><td>Smashburger            </td><td>postmates   </td><td>restaurant</td><td>33.57749</td><td>-117.72478</td><td></td><td>US</td><td>TRUE </td><td>smashburger            </td><td></td><td>NA</td><td>NA</td></tr>\n",
       "\t<tr><th scope=row>94123</th><td>NA</td><td>Sonic Drive-In         </td><td>postmates   </td><td>restaurant</td><td>33.62390</td><td>-112.42860</td><td></td><td>US</td><td>TRUE </td><td>sonic_drive-in         </td><td></td><td>NA</td><td>NA</td></tr>\n",
       "\t<tr><th scope=row>94124</th><td>NA</td><td>Walgreens              </td><td>postmates   </td><td>restaurant</td><td>29.64925</td><td> -95.14302</td><td></td><td>US</td><td>FALSE</td><td>walgreens              </td><td></td><td>NA</td><td>NA</td></tr>\n",
       "\t<tr><th scope=row>94125</th><td>NA</td><td>Bangkok Grill          </td><td>postmates   </td><td>restaurant</td><td>34.11146</td><td>-118.24986</td><td></td><td>US</td><td>TRUE </td><td>bangkok_grill          </td><td></td><td>NA</td><td>NA</td></tr>\n",
       "\t<tr><th scope=row>94126</th><td>NA</td><td>Starbucks              </td><td>postmates   </td><td>restaurant</td><td>37.71328</td><td>-120.95271</td><td></td><td>US</td><td>TRUE </td><td>starbucks              </td><td></td><td>NA</td><td>NA</td></tr>\n",
       "\t<tr><th scope=row>94127</th><td>NA</td><td>Chipotle Mexican Grill </td><td>postmates   </td><td>restaurant</td><td>36.78203</td><td>-119.78952</td><td></td><td>US</td><td>TRUE </td><td>chipotle_mexican_grill </td><td></td><td>NA</td><td>NA</td></tr>\n",
       "\t<tr><th scope=row>94128</th><td>NA</td><td>Whole Foods Market     </td><td>postmates   </td><td>restaurant</td><td>34.75047</td><td> -92.40598</td><td></td><td>US</td><td>FALSE</td><td>whole_foods_market     </td><td></td><td>NA</td><td>NA</td></tr>\n",
       "\t<tr><th scope=row>94129</th><td>NA</td><td>Whole Foods Market     </td><td>postmates   </td><td>restaurant</td><td>38.99610</td><td> -77.02450</td><td></td><td>US</td><td>FALSE</td><td>whole_foods_market     </td><td></td><td>NA</td><td>NA</td></tr>\n",
       "\t<tr><th scope=row>94130</th><td>NA</td><td>Whole Foods Market     </td><td>postmates   </td><td>restaurant</td><td>38.90108</td><td> -77.04948</td><td></td><td>US</td><td>FALSE</td><td>whole_foods_market     </td><td></td><td>NA</td><td>NA</td></tr>\n",
       "</tbody>\n",
       "</table>\n"
      ],
      "text/latex": [
       "A data.frame: 20 × 13\n",
       "\\begin{tabular}{r|lllllllllllll}\n",
       "  & restaurant\\_id & name & platform & sub\\_platform & latitude & longitude & city & country & active & standardized\\_name & restaurant\\_chain & delivery\\_radius & geom\\\\\n",
       "  & <dbl> & <chr> & <chr> & <chr> & <dbl> & <dbl> & <chr> & <chr> & <chr> & <chr> & <chr> & <dbl> & <lgl>\\\\\n",
       "\\hline\n",
       "\t34795 & NA &                         & delivery.com &            &       NA &         NA &  & US & FALSE &                         &  & NA & NA\\\\\n",
       "\t94112 & NA & Hapa Sushi LoDo         & postmates    & restaurant & 39.74985 & -104.99994 &  & US & TRUE  & hapa\\_sushi\\_lodo         &  & NA & NA\\\\\n",
       "\t94113 & NA & Fat Sal's               & postmates    & restaurant & 34.06253 & -118.44805 &  & US & TRUE  & fat\\_sal\\_s               &  & NA & NA\\\\\n",
       "\t94114 & NA & Monk's Kettle           & postmates    & restaurant & 37.76489 & -122.42291 &  & US & TRUE  & monk\\_s\\_kettle           &  & NA & NA\\\\\n",
       "\t94115 & NA & Firehouse Subs          & postmates    & restaurant & 41.70156 &  -83.65030 &  & US & TRUE  & firehouse\\_subs          &  & NA & NA\\\\\n",
       "\t94116 & NA & Carl's Jr/Green Burrito & postmates    & restaurant & 33.81533 & -116.40101 &  & US & FALSE & carl\\_s\\_jr\\_green\\_burrito &  & NA & NA\\\\\n",
       "\t94117 & NA & Dunkin' Donuts          & postmates    & restaurant & 40.71571 &  -73.59847 &  & US & TRUE  & dunkin\\_donuts           &  & NA & NA\\\\\n",
       "\t94118 & NA & Subway                  & postmates    & restaurant & 39.81755 &  -86.32782 &  & US & TRUE  & subway                  &  & NA & NA\\\\\n",
       "\t94119 & NA & 7-Eleven                & postmates    & restaurant & 38.96194 &  -76.86317 &  & US & FALSE & 7-eleven                &  & NA & NA\\\\\n",
       "\t94120 & NA & Anson Eleven            & postmates    & restaurant & 31.75912 & -106.48910 &  & US & TRUE  & anson\\_eleven            &  & NA & NA\\\\\n",
       "\t94121 & NA & Longhorn Steakhouse     & postmates    & restaurant & 31.52358 &  -97.16627 &  & US & FALSE & longhorn\\_steakhouse     &  & NA & NA\\\\\n",
       "\t94122 & NA & Smashburger             & postmates    & restaurant & 33.57749 & -117.72478 &  & US & TRUE  & smashburger             &  & NA & NA\\\\\n",
       "\t94123 & NA & Sonic Drive-In          & postmates    & restaurant & 33.62390 & -112.42860 &  & US & TRUE  & sonic\\_drive-in          &  & NA & NA\\\\\n",
       "\t94124 & NA & Walgreens               & postmates    & restaurant & 29.64925 &  -95.14302 &  & US & FALSE & walgreens               &  & NA & NA\\\\\n",
       "\t94125 & NA & Bangkok Grill           & postmates    & restaurant & 34.11146 & -118.24986 &  & US & TRUE  & bangkok\\_grill           &  & NA & NA\\\\\n",
       "\t94126 & NA & Starbucks               & postmates    & restaurant & 37.71328 & -120.95271 &  & US & TRUE  & starbucks               &  & NA & NA\\\\\n",
       "\t94127 & NA & Chipotle Mexican Grill  & postmates    & restaurant & 36.78203 & -119.78952 &  & US & TRUE  & chipotle\\_mexican\\_grill  &  & NA & NA\\\\\n",
       "\t94128 & NA & Whole Foods Market      & postmates    & restaurant & 34.75047 &  -92.40598 &  & US & FALSE & whole\\_foods\\_market      &  & NA & NA\\\\\n",
       "\t94129 & NA & Whole Foods Market      & postmates    & restaurant & 38.99610 &  -77.02450 &  & US & FALSE & whole\\_foods\\_market      &  & NA & NA\\\\\n",
       "\t94130 & NA & Whole Foods Market      & postmates    & restaurant & 38.90108 &  -77.04948 &  & US & FALSE & whole\\_foods\\_market      &  & NA & NA\\\\\n",
       "\\end{tabular}\n"
      ],
      "text/markdown": [
       "\n",
       "A data.frame: 20 × 13\n",
       "\n",
       "| <!--/--> | restaurant_id &lt;dbl&gt; | name &lt;chr&gt; | platform &lt;chr&gt; | sub_platform &lt;chr&gt; | latitude &lt;dbl&gt; | longitude &lt;dbl&gt; | city &lt;chr&gt; | country &lt;chr&gt; | active &lt;chr&gt; | standardized_name &lt;chr&gt; | restaurant_chain &lt;chr&gt; | delivery_radius &lt;dbl&gt; | geom &lt;lgl&gt; |\n",
       "|---|---|---|---|---|---|---|---|---|---|---|---|---|---|\n",
       "| 34795 | NA | <!----> | delivery.com | <!----> |       NA |         NA | <!----> | US | FALSE | <!----> | <!----> | NA | NA |\n",
       "| 94112 | NA | Hapa Sushi LoDo         | postmates    | restaurant | 39.74985 | -104.99994 | <!----> | US | TRUE  | hapa_sushi_lodo         | <!----> | NA | NA |\n",
       "| 94113 | NA | Fat Sal's               | postmates    | restaurant | 34.06253 | -118.44805 | <!----> | US | TRUE  | fat_sal_s               | <!----> | NA | NA |\n",
       "| 94114 | NA | Monk's Kettle           | postmates    | restaurant | 37.76489 | -122.42291 | <!----> | US | TRUE  | monk_s_kettle           | <!----> | NA | NA |\n",
       "| 94115 | NA | Firehouse Subs          | postmates    | restaurant | 41.70156 |  -83.65030 | <!----> | US | TRUE  | firehouse_subs          | <!----> | NA | NA |\n",
       "| 94116 | NA | Carl's Jr/Green Burrito | postmates    | restaurant | 33.81533 | -116.40101 | <!----> | US | FALSE | carl_s_jr_green_burrito | <!----> | NA | NA |\n",
       "| 94117 | NA | Dunkin' Donuts          | postmates    | restaurant | 40.71571 |  -73.59847 | <!----> | US | TRUE  | dunkin_donuts           | <!----> | NA | NA |\n",
       "| 94118 | NA | Subway                  | postmates    | restaurant | 39.81755 |  -86.32782 | <!----> | US | TRUE  | subway                  | <!----> | NA | NA |\n",
       "| 94119 | NA | 7-Eleven                | postmates    | restaurant | 38.96194 |  -76.86317 | <!----> | US | FALSE | 7-eleven                | <!----> | NA | NA |\n",
       "| 94120 | NA | Anson Eleven            | postmates    | restaurant | 31.75912 | -106.48910 | <!----> | US | TRUE  | anson_eleven            | <!----> | NA | NA |\n",
       "| 94121 | NA | Longhorn Steakhouse     | postmates    | restaurant | 31.52358 |  -97.16627 | <!----> | US | FALSE | longhorn_steakhouse     | <!----> | NA | NA |\n",
       "| 94122 | NA | Smashburger             | postmates    | restaurant | 33.57749 | -117.72478 | <!----> | US | TRUE  | smashburger             | <!----> | NA | NA |\n",
       "| 94123 | NA | Sonic Drive-In          | postmates    | restaurant | 33.62390 | -112.42860 | <!----> | US | TRUE  | sonic_drive-in          | <!----> | NA | NA |\n",
       "| 94124 | NA | Walgreens               | postmates    | restaurant | 29.64925 |  -95.14302 | <!----> | US | FALSE | walgreens               | <!----> | NA | NA |\n",
       "| 94125 | NA | Bangkok Grill           | postmates    | restaurant | 34.11146 | -118.24986 | <!----> | US | TRUE  | bangkok_grill           | <!----> | NA | NA |\n",
       "| 94126 | NA | Starbucks               | postmates    | restaurant | 37.71328 | -120.95271 | <!----> | US | TRUE  | starbucks               | <!----> | NA | NA |\n",
       "| 94127 | NA | Chipotle Mexican Grill  | postmates    | restaurant | 36.78203 | -119.78952 | <!----> | US | TRUE  | chipotle_mexican_grill  | <!----> | NA | NA |\n",
       "| 94128 | NA | Whole Foods Market      | postmates    | restaurant | 34.75047 |  -92.40598 | <!----> | US | FALSE | whole_foods_market      | <!----> | NA | NA |\n",
       "| 94129 | NA | Whole Foods Market      | postmates    | restaurant | 38.99610 |  -77.02450 | <!----> | US | FALSE | whole_foods_market      | <!----> | NA | NA |\n",
       "| 94130 | NA | Whole Foods Market      | postmates    | restaurant | 38.90108 |  -77.04948 | <!----> | US | FALSE | whole_foods_market      | <!----> | NA | NA |\n",
       "\n"
      ],
      "text/plain": [
       "      restaurant_id name                    platform     sub_platform latitude\n",
       "34795 NA                                    delivery.com                    NA\n",
       "94112 NA            Hapa Sushi LoDo         postmates    restaurant   39.74985\n",
       "94113 NA            Fat Sal's               postmates    restaurant   34.06253\n",
       "94114 NA            Monk's Kettle           postmates    restaurant   37.76489\n",
       "94115 NA            Firehouse Subs          postmates    restaurant   41.70156\n",
       "94116 NA            Carl's Jr/Green Burrito postmates    restaurant   33.81533\n",
       "94117 NA            Dunkin' Donuts          postmates    restaurant   40.71571\n",
       "94118 NA            Subway                  postmates    restaurant   39.81755\n",
       "94119 NA            7-Eleven                postmates    restaurant   38.96194\n",
       "94120 NA            Anson Eleven            postmates    restaurant   31.75912\n",
       "94121 NA            Longhorn Steakhouse     postmates    restaurant   31.52358\n",
       "94122 NA            Smashburger             postmates    restaurant   33.57749\n",
       "94123 NA            Sonic Drive-In          postmates    restaurant   33.62390\n",
       "94124 NA            Walgreens               postmates    restaurant   29.64925\n",
       "94125 NA            Bangkok Grill           postmates    restaurant   34.11146\n",
       "94126 NA            Starbucks               postmates    restaurant   37.71328\n",
       "94127 NA            Chipotle Mexican Grill  postmates    restaurant   36.78203\n",
       "94128 NA            Whole Foods Market      postmates    restaurant   34.75047\n",
       "94129 NA            Whole Foods Market      postmates    restaurant   38.99610\n",
       "94130 NA            Whole Foods Market      postmates    restaurant   38.90108\n",
       "      longitude  city country active standardized_name       restaurant_chain\n",
       "34795         NA      US      FALSE                                          \n",
       "94112 -104.99994      US      TRUE   hapa_sushi_lodo                         \n",
       "94113 -118.44805      US      TRUE   fat_sal_s                               \n",
       "94114 -122.42291      US      TRUE   monk_s_kettle                           \n",
       "94115  -83.65030      US      TRUE   firehouse_subs                          \n",
       "94116 -116.40101      US      FALSE  carl_s_jr_green_burrito                 \n",
       "94117  -73.59847      US      TRUE   dunkin_donuts                           \n",
       "94118  -86.32782      US      TRUE   subway                                  \n",
       "94119  -76.86317      US      FALSE  7-eleven                                \n",
       "94120 -106.48910      US      TRUE   anson_eleven                            \n",
       "94121  -97.16627      US      FALSE  longhorn_steakhouse                     \n",
       "94122 -117.72478      US      TRUE   smashburger                             \n",
       "94123 -112.42860      US      TRUE   sonic_drive-in                          \n",
       "94124  -95.14302      US      FALSE  walgreens                               \n",
       "94125 -118.24986      US      TRUE   bangkok_grill                           \n",
       "94126 -120.95271      US      TRUE   starbucks                               \n",
       "94127 -119.78952      US      TRUE   chipotle_mexican_grill                  \n",
       "94128  -92.40598      US      FALSE  whole_foods_market                      \n",
       "94129  -77.02450      US      FALSE  whole_foods_market                      \n",
       "94130  -77.04948      US      FALSE  whole_foods_market                      \n",
       "      delivery_radius geom\n",
       "34795 NA              NA  \n",
       "94112 NA              NA  \n",
       "94113 NA              NA  \n",
       "94114 NA              NA  \n",
       "94115 NA              NA  \n",
       "94116 NA              NA  \n",
       "94117 NA              NA  \n",
       "94118 NA              NA  \n",
       "94119 NA              NA  \n",
       "94120 NA              NA  \n",
       "94121 NA              NA  \n",
       "94122 NA              NA  \n",
       "94123 NA              NA  \n",
       "94124 NA              NA  \n",
       "94125 NA              NA  \n",
       "94126 NA              NA  \n",
       "94127 NA              NA  \n",
       "94128 NA              NA  \n",
       "94129 NA              NA  \n",
       "94130 NA              NA  "
      ]
     },
     "metadata": {},
     "output_type": "display_data"
    }
   ],
   "source": [
    "head(subset(df,is.na(restaurant_id)),20)"
   ]
  },
  {
   "cell_type": "markdown",
   "metadata": {},
   "source": [
    "##### 2.2 Data cleaning by restaurant name #####\n",
    "\n",
    "- Change all restaurant names to lower case to simplify data deduplication\n",
    "- Let's examine the name of the restaurant. Apparently, only 65 restaurants have no proper name entry nor other information. So they can comfortably be removed as it only made up small portion of the overall dataset."
   ]
  },
  {
   "cell_type": "code",
   "execution_count": 553,
   "metadata": {
    "vscode": {
     "languageId": "r"
    }
   },
   "outputs": [],
   "source": [
    "df$name <- tolower(df$name)"
   ]
  },
  {
   "cell_type": "markdown",
   "metadata": {},
   "source": [
    "- Create a subset of entries with no restaurant names"
   ]
  },
  {
   "cell_type": "code",
   "execution_count": 564,
   "metadata": {
    "vscode": {
     "languageId": "r"
    }
   },
   "outputs": [
    {
     "data": {
      "text/html": [
       "<table class=\"dataframe\">\n",
       "<caption>A data.frame: 6 × 13</caption>\n",
       "<thead>\n",
       "\t<tr><th></th><th scope=col>restaurant_id</th><th scope=col>name</th><th scope=col>platform</th><th scope=col>sub_platform</th><th scope=col>latitude</th><th scope=col>longitude</th><th scope=col>city</th><th scope=col>country</th><th scope=col>active</th><th scope=col>standardized_name</th><th scope=col>restaurant_chain</th><th scope=col>delivery_radius</th><th scope=col>geom</th></tr>\n",
       "\t<tr><th></th><th scope=col>&lt;dbl&gt;</th><th scope=col>&lt;chr&gt;</th><th scope=col>&lt;chr&gt;</th><th scope=col>&lt;chr&gt;</th><th scope=col>&lt;dbl&gt;</th><th scope=col>&lt;dbl&gt;</th><th scope=col>&lt;chr&gt;</th><th scope=col>&lt;chr&gt;</th><th scope=col>&lt;chr&gt;</th><th scope=col>&lt;chr&gt;</th><th scope=col>&lt;chr&gt;</th><th scope=col>&lt;dbl&gt;</th><th scope=col>&lt;lgl&gt;</th></tr>\n",
       "</thead>\n",
       "<tbody>\n",
       "\t<tr><th scope=row>675</th><td> 4075</td><td></td><td>            </td><td></td><td>NA</td><td>NA</td><td></td><td>  </td><td>     </td><td></td><td></td><td>NA</td><td>NA</td></tr>\n",
       "\t<tr><th scope=row>27428</th><td>64030</td><td></td><td>            </td><td></td><td>NA</td><td>NA</td><td></td><td>  </td><td>     </td><td></td><td></td><td>NA</td><td>NA</td></tr>\n",
       "\t<tr><th scope=row>29810</th><td>  646</td><td></td><td>            </td><td></td><td>NA</td><td>NA</td><td></td><td>  </td><td>     </td><td></td><td></td><td>NA</td><td>NA</td></tr>\n",
       "\t<tr><th scope=row>29929</th><td>63819</td><td></td><td>            </td><td></td><td>NA</td><td>NA</td><td></td><td>  </td><td>     </td><td></td><td></td><td>NA</td><td>NA</td></tr>\n",
       "\t<tr><th scope=row>34795</th><td>   NA</td><td></td><td>delivery.com</td><td></td><td>NA</td><td>NA</td><td></td><td>US</td><td>FALSE</td><td></td><td></td><td>NA</td><td>NA</td></tr>\n",
       "\t<tr><th scope=row>41511</th><td>72462</td><td></td><td>            </td><td></td><td>NA</td><td>NA</td><td></td><td>  </td><td>     </td><td></td><td></td><td>NA</td><td>NA</td></tr>\n",
       "</tbody>\n",
       "</table>\n"
      ],
      "text/latex": [
       "A data.frame: 6 × 13\n",
       "\\begin{tabular}{r|lllllllllllll}\n",
       "  & restaurant\\_id & name & platform & sub\\_platform & latitude & longitude & city & country & active & standardized\\_name & restaurant\\_chain & delivery\\_radius & geom\\\\\n",
       "  & <dbl> & <chr> & <chr> & <chr> & <dbl> & <dbl> & <chr> & <chr> & <chr> & <chr> & <chr> & <dbl> & <lgl>\\\\\n",
       "\\hline\n",
       "\t675 &  4075 &  &              &  & NA & NA &  &    &       &  &  & NA & NA\\\\\n",
       "\t27428 & 64030 &  &              &  & NA & NA &  &    &       &  &  & NA & NA\\\\\n",
       "\t29810 &   646 &  &              &  & NA & NA &  &    &       &  &  & NA & NA\\\\\n",
       "\t29929 & 63819 &  &              &  & NA & NA &  &    &       &  &  & NA & NA\\\\\n",
       "\t34795 &    NA &  & delivery.com &  & NA & NA &  & US & FALSE &  &  & NA & NA\\\\\n",
       "\t41511 & 72462 &  &              &  & NA & NA &  &    &       &  &  & NA & NA\\\\\n",
       "\\end{tabular}\n"
      ],
      "text/markdown": [
       "\n",
       "A data.frame: 6 × 13\n",
       "\n",
       "| <!--/--> | restaurant_id &lt;dbl&gt; | name &lt;chr&gt; | platform &lt;chr&gt; | sub_platform &lt;chr&gt; | latitude &lt;dbl&gt; | longitude &lt;dbl&gt; | city &lt;chr&gt; | country &lt;chr&gt; | active &lt;chr&gt; | standardized_name &lt;chr&gt; | restaurant_chain &lt;chr&gt; | delivery_radius &lt;dbl&gt; | geom &lt;lgl&gt; |\n",
       "|---|---|---|---|---|---|---|---|---|---|---|---|---|---|\n",
       "| 675 |  4075 | <!----> | <!----> | <!----> | NA | NA | <!----> | <!----> | <!----> | <!----> | <!----> | NA | NA |\n",
       "| 27428 | 64030 | <!----> | <!----> | <!----> | NA | NA | <!----> | <!----> | <!----> | <!----> | <!----> | NA | NA |\n",
       "| 29810 |   646 | <!----> | <!----> | <!----> | NA | NA | <!----> | <!----> | <!----> | <!----> | <!----> | NA | NA |\n",
       "| 29929 | 63819 | <!----> | <!----> | <!----> | NA | NA | <!----> | <!----> | <!----> | <!----> | <!----> | NA | NA |\n",
       "| 34795 |    NA | <!----> | delivery.com | <!----> | NA | NA | <!----> | US | FALSE | <!----> | <!----> | NA | NA |\n",
       "| 41511 | 72462 | <!----> | <!----> | <!----> | NA | NA | <!----> | <!----> | <!----> | <!----> | <!----> | NA | NA |\n",
       "\n"
      ],
      "text/plain": [
       "      restaurant_id name platform     sub_platform latitude longitude city\n",
       "675    4075                                        NA       NA            \n",
       "27428 64030                                        NA       NA            \n",
       "29810   646                                        NA       NA            \n",
       "29929 63819                                        NA       NA            \n",
       "34795    NA              delivery.com              NA       NA            \n",
       "41511 72462                                        NA       NA            \n",
       "      country active standardized_name restaurant_chain delivery_radius geom\n",
       "675                                                     NA              NA  \n",
       "27428                                                   NA              NA  \n",
       "29810                                                   NA              NA  \n",
       "29929                                                   NA              NA  \n",
       "34795 US      FALSE                                     NA              NA  \n",
       "41511                                                   NA              NA  "
      ]
     },
     "metadata": {},
     "output_type": "display_data"
    },
    {
     "data": {
      "text/html": [
       "<style>\n",
       ".list-inline {list-style: none; margin:0; padding: 0}\n",
       ".list-inline>li {display: inline-block}\n",
       ".list-inline>li:not(:last-child)::after {content: \"\\00b7\"; padding: 0 .5ex}\n",
       "</style>\n",
       "<ol class=list-inline><li>65</li><li>13</li></ol>\n"
      ],
      "text/latex": [
       "\\begin{enumerate*}\n",
       "\\item 65\n",
       "\\item 13\n",
       "\\end{enumerate*}\n"
      ],
      "text/markdown": [
       "1. 65\n",
       "2. 13\n",
       "\n",
       "\n"
      ],
      "text/plain": [
       "[1] 65 13"
      ]
     },
     "metadata": {},
     "output_type": "display_data"
    }
   ],
   "source": [
    "head(subset(df, name==\"\"))\n",
    "no_name <- subset(df, name==\"\")\n",
    "dim(no_name)"
   ]
  },
  {
   "cell_type": "markdown",
   "metadata": {},
   "source": [
    "- Assuming due to system error or manual entries, 170 of the entries have information recorded that cannot be contributed to the analysis as well. So we will remove them also.\n",
    "- By further examining the name attribute, some entries have \"duplicate\",\"training\",\"do not use\",\"do not enable\",\"churned\",\"closed\" in their names, thus I automatically assume this is mainly due to manual entry or name given by system due to specific reasons. There are 5,839 entries like this, and I decide to remove them because they also only made up a very small portion of the dataset. "
   ]
  },
  {
   "cell_type": "code",
   "execution_count": 565,
   "metadata": {
    "vscode": {
     "languageId": "r"
    }
   },
   "outputs": [
    {
     "data": {
      "text/html": [
       "<table class=\"dataframe\">\n",
       "<caption>A data.frame: 10 × 13</caption>\n",
       "<thead>\n",
       "\t<tr><th></th><th scope=col>restaurant_id</th><th scope=col>name</th><th scope=col>platform</th><th scope=col>sub_platform</th><th scope=col>latitude</th><th scope=col>longitude</th><th scope=col>city</th><th scope=col>country</th><th scope=col>active</th><th scope=col>standardized_name</th><th scope=col>restaurant_chain</th><th scope=col>delivery_radius</th><th scope=col>geom</th></tr>\n",
       "\t<tr><th></th><th scope=col>&lt;dbl&gt;</th><th scope=col>&lt;chr&gt;</th><th scope=col>&lt;chr&gt;</th><th scope=col>&lt;chr&gt;</th><th scope=col>&lt;dbl&gt;</th><th scope=col>&lt;dbl&gt;</th><th scope=col>&lt;chr&gt;</th><th scope=col>&lt;chr&gt;</th><th scope=col>&lt;chr&gt;</th><th scope=col>&lt;chr&gt;</th><th scope=col>&lt;chr&gt;</th><th scope=col>&lt;dbl&gt;</th><th scope=col>&lt;lgl&gt;</th></tr>\n",
       "</thead>\n",
       "<tbody>\n",
       "\t<tr><th scope=row>1</th><td> 6878</td><td><span style=white-space:pre-wrap>chen's chinese &amp; cuisine {do not use}                 </span></td><td><span style=white-space:pre-wrap>caviar      </span></td><td></td><td>41.8889</td><td> -87.6330</td><td></td><td>US</td><td>FALSE</td><td><span style=white-space:pre-wrap>chen_s_chinese_cuisine_do_not_use                </span></td><td></td><td>NA</td><td>NA</td></tr>\n",
       "\t<tr><th scope=row>2</th><td> 8216</td><td>king��s road cafe - do not enable                     </td><td>caviar      </td><td></td><td>34.0762</td><td>-118.3723</td><td></td><td>US</td><td>FALSE</td><td>king_s_road_cafe_-_do_not_enable                 </td><td></td><td>NA</td><td>NA</td></tr>\n",
       "\t<tr><th scope=row>3</th><td>73588</td><td>andrew's diner - using for training                   </td><td>delivery.com</td><td></td><td>40.5383</td><td> -74.1490</td><td></td><td>US</td><td>FALSE</td><td>andrew_s_diner_-_using_for_training              </td><td></td><td>NA</td><td>NA</td></tr>\n",
       "\t<tr><th scope=row>4</th><td>88006</td><td>oob - closed - lee chi                                </td><td>delivery.com</td><td></td><td>40.7769</td><td> -73.9525</td><td></td><td>US</td><td>FALSE</td><td>oob_-_closed_-_lee_chi                           </td><td></td><td>NA</td><td>NA</td></tr>\n",
       "\t<tr><th scope=row>5</th><td> 5074</td><td>yucatan taco stand- do not enable                     </td><td>caviar      </td><td></td><td>32.8153</td><td> -96.7703</td><td></td><td>US</td><td>FALSE</td><td>yucatan_taco_stand-_do_not_enable                </td><td></td><td>NA</td><td>NA</td></tr>\n",
       "\t<tr><th scope=row>6</th><td> 3700</td><td>[do not enable, bad duplicate] meehan's (sandy sprigs)</td><td>caviar      </td><td></td><td>33.8395</td><td> -84.3771</td><td></td><td>US</td><td>FALSE</td><td>do_not_enable_bad_duplicate_meehan_s_sandy_sprigs</td><td></td><td>NA</td><td>NA</td></tr>\n",
       "\t<tr><th scope=row>7</th><td>  601</td><td>tiffin bistro duplicate                               </td><td>caviar      </td><td></td><td>39.9347</td><td> -75.1622</td><td></td><td>US</td><td>FALSE</td><td>tiffin_bistro_duplicate                          </td><td></td><td>NA</td><td>NA</td></tr>\n",
       "\t<tr><th scope=row>8</th><td>  803</td><td>pure fare - south street duplicate                    </td><td>caviar      </td><td></td><td>39.9442</td><td> -75.1692</td><td></td><td>US</td><td>FALSE</td><td>pure_fare_-_south_street_duplicate               </td><td></td><td>NA</td><td>NA</td></tr>\n",
       "\t<tr><th scope=row>9</th><td>  725</td><td>phuong thao [do not enable]                           </td><td>caviar      </td><td></td><td>37.3769</td><td>-122.0305</td><td></td><td>US</td><td>FALSE</td><td>phuong_thao_do_not_enable                        </td><td></td><td>NA</td><td>NA</td></tr>\n",
       "\t<tr><th scope=row>10</th><td> 5309</td><td>hot wok bistro too (do not use)                       </td><td>caviar      </td><td></td><td>37.4958</td><td>-122.2479</td><td></td><td>US</td><td>FALSE</td><td>hot_wok_bistro_too_do_not_use                    </td><td></td><td>NA</td><td>NA</td></tr>\n",
       "</tbody>\n",
       "</table>\n"
      ],
      "text/latex": [
       "A data.frame: 10 × 13\n",
       "\\begin{tabular}{r|lllllllllllll}\n",
       "  & restaurant\\_id & name & platform & sub\\_platform & latitude & longitude & city & country & active & standardized\\_name & restaurant\\_chain & delivery\\_radius & geom\\\\\n",
       "  & <dbl> & <chr> & <chr> & <chr> & <dbl> & <dbl> & <chr> & <chr> & <chr> & <chr> & <chr> & <dbl> & <lgl>\\\\\n",
       "\\hline\n",
       "\t1 &  6878 & chen's chinese \\& cuisine \\{do not use\\}                  & caviar       &  & 41.8889 &  -87.6330 &  & US & FALSE & chen\\_s\\_chinese\\_cuisine\\_do\\_not\\_use                 &  & NA & NA\\\\\n",
       "\t2 &  8216 & king��s road cafe - do not enable                      & caviar       &  & 34.0762 & -118.3723 &  & US & FALSE & king\\_s\\_road\\_cafe\\_-\\_do\\_not\\_enable                  &  & NA & NA\\\\\n",
       "\t3 & 73588 & andrew's diner - using for training                    & delivery.com &  & 40.5383 &  -74.1490 &  & US & FALSE & andrew\\_s\\_diner\\_-\\_using\\_for\\_training               &  & NA & NA\\\\\n",
       "\t4 & 88006 & oob - closed - lee chi                                 & delivery.com &  & 40.7769 &  -73.9525 &  & US & FALSE & oob\\_-\\_closed\\_-\\_lee\\_chi                            &  & NA & NA\\\\\n",
       "\t5 &  5074 & yucatan taco stand- do not enable                      & caviar       &  & 32.8153 &  -96.7703 &  & US & FALSE & yucatan\\_taco\\_stand-\\_do\\_not\\_enable                 &  & NA & NA\\\\\n",
       "\t6 &  3700 & {[}do not enable, bad duplicate{]} meehan's (sandy sprigs) & caviar       &  & 33.8395 &  -84.3771 &  & US & FALSE & do\\_not\\_enable\\_bad\\_duplicate\\_meehan\\_s\\_sandy\\_sprigs &  & NA & NA\\\\\n",
       "\t7 &   601 & tiffin bistro duplicate                                & caviar       &  & 39.9347 &  -75.1622 &  & US & FALSE & tiffin\\_bistro\\_duplicate                           &  & NA & NA\\\\\n",
       "\t8 &   803 & pure fare - south street duplicate                     & caviar       &  & 39.9442 &  -75.1692 &  & US & FALSE & pure\\_fare\\_-\\_south\\_street\\_duplicate                &  & NA & NA\\\\\n",
       "\t9 &   725 & phuong thao {[}do not enable{]}                            & caviar       &  & 37.3769 & -122.0305 &  & US & FALSE & phuong\\_thao\\_do\\_not\\_enable                         &  & NA & NA\\\\\n",
       "\t10 &  5309 & hot wok bistro too (do not use)                        & caviar       &  & 37.4958 & -122.2479 &  & US & FALSE & hot\\_wok\\_bistro\\_too\\_do\\_not\\_use                     &  & NA & NA\\\\\n",
       "\\end{tabular}\n"
      ],
      "text/markdown": [
       "\n",
       "A data.frame: 10 × 13\n",
       "\n",
       "| <!--/--> | restaurant_id &lt;dbl&gt; | name &lt;chr&gt; | platform &lt;chr&gt; | sub_platform &lt;chr&gt; | latitude &lt;dbl&gt; | longitude &lt;dbl&gt; | city &lt;chr&gt; | country &lt;chr&gt; | active &lt;chr&gt; | standardized_name &lt;chr&gt; | restaurant_chain &lt;chr&gt; | delivery_radius &lt;dbl&gt; | geom &lt;lgl&gt; |\n",
       "|---|---|---|---|---|---|---|---|---|---|---|---|---|---|\n",
       "| 1 |  6878 | chen's chinese &amp; cuisine {do not use}                  | caviar       | <!----> | 41.8889 |  -87.6330 | <!----> | US | FALSE | chen_s_chinese_cuisine_do_not_use                 | <!----> | NA | NA |\n",
       "| 2 |  8216 | king��s road cafe - do not enable                      | caviar       | <!----> | 34.0762 | -118.3723 | <!----> | US | FALSE | king_s_road_cafe_-_do_not_enable                  | <!----> | NA | NA |\n",
       "| 3 | 73588 | andrew's diner - using for training                    | delivery.com | <!----> | 40.5383 |  -74.1490 | <!----> | US | FALSE | andrew_s_diner_-_using_for_training               | <!----> | NA | NA |\n",
       "| 4 | 88006 | oob - closed - lee chi                                 | delivery.com | <!----> | 40.7769 |  -73.9525 | <!----> | US | FALSE | oob_-_closed_-_lee_chi                            | <!----> | NA | NA |\n",
       "| 5 |  5074 | yucatan taco stand- do not enable                      | caviar       | <!----> | 32.8153 |  -96.7703 | <!----> | US | FALSE | yucatan_taco_stand-_do_not_enable                 | <!----> | NA | NA |\n",
       "| 6 |  3700 | [do not enable, bad duplicate] meehan's (sandy sprigs) | caviar       | <!----> | 33.8395 |  -84.3771 | <!----> | US | FALSE | do_not_enable_bad_duplicate_meehan_s_sandy_sprigs | <!----> | NA | NA |\n",
       "| 7 |   601 | tiffin bistro duplicate                                | caviar       | <!----> | 39.9347 |  -75.1622 | <!----> | US | FALSE | tiffin_bistro_duplicate                           | <!----> | NA | NA |\n",
       "| 8 |   803 | pure fare - south street duplicate                     | caviar       | <!----> | 39.9442 |  -75.1692 | <!----> | US | FALSE | pure_fare_-_south_street_duplicate                | <!----> | NA | NA |\n",
       "| 9 |   725 | phuong thao [do not enable]                            | caviar       | <!----> | 37.3769 | -122.0305 | <!----> | US | FALSE | phuong_thao_do_not_enable                         | <!----> | NA | NA |\n",
       "| 10 |  5309 | hot wok bistro too (do not use)                        | caviar       | <!----> | 37.4958 | -122.2479 | <!----> | US | FALSE | hot_wok_bistro_too_do_not_use                     | <!----> | NA | NA |\n",
       "\n"
      ],
      "text/plain": [
       "   restaurant_id name                                                  \n",
       "1   6878         chen's chinese & cuisine {do not use}                 \n",
       "2   8216         king��s road cafe - do not enable                     \n",
       "3  73588         andrew's diner - using for training                   \n",
       "4  88006         oob - closed - lee chi                                \n",
       "5   5074         yucatan taco stand- do not enable                     \n",
       "6   3700         [do not enable, bad duplicate] meehan's (sandy sprigs)\n",
       "7    601         tiffin bistro duplicate                               \n",
       "8    803         pure fare - south street duplicate                    \n",
       "9    725         phuong thao [do not enable]                           \n",
       "10  5309         hot wok bistro too (do not use)                       \n",
       "   platform     sub_platform latitude longitude city country active\n",
       "1  caviar                    41.8889   -87.6330      US      FALSE \n",
       "2  caviar                    34.0762  -118.3723      US      FALSE \n",
       "3  delivery.com              40.5383   -74.1490      US      FALSE \n",
       "4  delivery.com              40.7769   -73.9525      US      FALSE \n",
       "5  caviar                    32.8153   -96.7703      US      FALSE \n",
       "6  caviar                    33.8395   -84.3771      US      FALSE \n",
       "7  caviar                    39.9347   -75.1622      US      FALSE \n",
       "8  caviar                    39.9442   -75.1692      US      FALSE \n",
       "9  caviar                    37.3769  -122.0305      US      FALSE \n",
       "10 caviar                    37.4958  -122.2479      US      FALSE \n",
       "   standardized_name                                 restaurant_chain\n",
       "1  chen_s_chinese_cuisine_do_not_use                                 \n",
       "2  king_s_road_cafe_-_do_not_enable                                  \n",
       "3  andrew_s_diner_-_using_for_training                               \n",
       "4  oob_-_closed_-_lee_chi                                            \n",
       "5  yucatan_taco_stand-_do_not_enable                                 \n",
       "6  do_not_enable_bad_duplicate_meehan_s_sandy_sprigs                 \n",
       "7  tiffin_bistro_duplicate                                           \n",
       "8  pure_fare_-_south_street_duplicate                                \n",
       "9  phuong_thao_do_not_enable                                         \n",
       "10 hot_wok_bistro_too_do_not_use                                     \n",
       "   delivery_radius geom\n",
       "1  NA              NA  \n",
       "2  NA              NA  \n",
       "3  NA              NA  \n",
       "4  NA              NA  \n",
       "5  NA              NA  \n",
       "6  NA              NA  \n",
       "7  NA              NA  \n",
       "8  NA              NA  \n",
       "9  NA              NA  \n",
       "10 NA              NA  "
      ]
     },
     "metadata": {},
     "output_type": "display_data"
    },
    {
     "data": {
      "text/html": [
       "<style>\n",
       ".list-inline {list-style: none; margin:0; padding: 0}\n",
       ".list-inline>li {display: inline-block}\n",
       ".list-inline>li:not(:last-child)::after {content: \"\\00b7\"; padding: 0 .5ex}\n",
       "</style>\n",
       "<ol class=list-inline><li>6009</li><li>13</li></ol>\n"
      ],
      "text/latex": [
       "\\begin{enumerate*}\n",
       "\\item 6009\n",
       "\\item 13\n",
       "\\end{enumerate*}\n"
      ],
      "text/markdown": [
       "1. 6009\n",
       "2. 13\n",
       "\n",
       "\n"
      ],
      "text/plain": [
       "[1] 6009   13"
      ]
     },
     "metadata": {},
     "output_type": "display_data"
    }
   ],
   "source": [
    "head(filter(df, grepl('duplicate|training|do not use|do not enable|churned|closed|close:|open:|usd', name)),10)\n",
    "bad_entry <- filter(df, grepl('duplicate|training|do not use|do not enable|churned|closed|close:|open:|usd', name))\n",
    "dim(bad_entry)"
   ]
  },
  {
   "cell_type": "markdown",
   "metadata": {},
   "source": [
    "##### 2.3 Data cleaning by coordinates #####\n",
    "\n",
    "- There are 2,042 entries with no coordinates available\n",
    "- There are 1,759 entries with wrong coordinates that point to either the North Pole, South Pole, or other extreme locations\n",
    "- So it is safe to say that we can remove these entries as we have no ways to find out where their exact locations are\n",
    "- Coordinates should be round up the 4th decimal place since each degree in longitude and latitude is around 111 KM. It is reasonable to assume that there can be different restaurants 10 meter apart on the map as 10 meter equates to 0.0001 degree in terms of coordinates."
   ]
  },
  {
   "cell_type": "code",
   "execution_count": 566,
   "metadata": {
    "vscode": {
     "languageId": "r"
    }
   },
   "outputs": [],
   "source": [
    "df$latitude <- round(df$latitude,4)\n",
    "df$longitude <- round(df$longitude,4)"
   ]
  },
  {
   "cell_type": "code",
   "execution_count": 567,
   "metadata": {
    "vscode": {
     "languageId": "r"
    }
   },
   "outputs": [
    {
     "data": {
      "text/html": [
       "<table class=\"dataframe\">\n",
       "<caption>A data.frame: 10 × 13</caption>\n",
       "<thead>\n",
       "\t<tr><th></th><th scope=col>restaurant_id</th><th scope=col>name</th><th scope=col>platform</th><th scope=col>sub_platform</th><th scope=col>latitude</th><th scope=col>longitude</th><th scope=col>city</th><th scope=col>country</th><th scope=col>active</th><th scope=col>standardized_name</th><th scope=col>restaurant_chain</th><th scope=col>delivery_radius</th><th scope=col>geom</th></tr>\n",
       "\t<tr><th></th><th scope=col>&lt;dbl&gt;</th><th scope=col>&lt;chr&gt;</th><th scope=col>&lt;chr&gt;</th><th scope=col>&lt;chr&gt;</th><th scope=col>&lt;dbl&gt;</th><th scope=col>&lt;dbl&gt;</th><th scope=col>&lt;chr&gt;</th><th scope=col>&lt;chr&gt;</th><th scope=col>&lt;chr&gt;</th><th scope=col>&lt;chr&gt;</th><th scope=col>&lt;chr&gt;</th><th scope=col>&lt;dbl&gt;</th><th scope=col>&lt;lgl&gt;</th></tr>\n",
       "</thead>\n",
       "<tbody>\n",
       "\t<tr><th scope=row>675</th><td> 4075</td><td>                           </td><td></td><td></td><td>NA</td><td>NA</td><td></td><td></td><td></td><td></td><td></td><td>NA</td><td>NA</td></tr>\n",
       "\t<tr><th scope=row>1927</th><td>86915</td><td>el sazon de las americas   </td><td></td><td></td><td>NA</td><td>NA</td><td></td><td></td><td></td><td></td><td></td><td>NA</td><td>NA</td></tr>\n",
       "\t<tr><th scope=row>2092</th><td> 8142</td><td>ten sushi                  </td><td></td><td></td><td>NA</td><td>NA</td><td></td><td></td><td></td><td></td><td></td><td>NA</td><td>NA</td></tr>\n",
       "\t<tr><th scope=row>4167</th><td>54962</td><td>al's                       </td><td></td><td></td><td>NA</td><td>NA</td><td></td><td></td><td></td><td></td><td></td><td>NA</td><td>NA</td></tr>\n",
       "\t<tr><th scope=row>4387</th><td>61610</td><td>fake restaurant - reviewer </td><td></td><td></td><td>NA</td><td>NA</td><td></td><td></td><td></td><td></td><td></td><td>NA</td><td>NA</td></tr>\n",
       "\t<tr><th scope=row>4950</th><td>87158</td><td><span style=white-space:pre-wrap>mocha's cafe &amp; grill       </span></td><td></td><td></td><td>NA</td><td>NA</td><td></td><td></td><td></td><td></td><td></td><td>NA</td><td>NA</td></tr>\n",
       "\t<tr><th scope=row>5908</th><td>56614</td><td><span style=white-space:pre-wrap>chili's grill &amp; bar        </span></td><td></td><td></td><td>NA</td><td>NA</td><td></td><td></td><td></td><td></td><td></td><td>NA</td><td>NA</td></tr>\n",
       "\t<tr><th scope=row>6005</th><td>30732</td><td>extreme pizza: template (  </td><td></td><td></td><td>NA</td><td>NA</td><td></td><td></td><td></td><td></td><td></td><td>NA</td><td>NA</td></tr>\n",
       "\t<tr><th scope=row>6218</th><td>35120</td><td>soho thai                  </td><td></td><td></td><td>NA</td><td>NA</td><td></td><td></td><td></td><td></td><td></td><td>NA</td><td>NA</td></tr>\n",
       "\t<tr><th scope=row>6388</th><td>93074</td><td>jasim's                    </td><td></td><td></td><td>NA</td><td>NA</td><td></td><td></td><td></td><td></td><td></td><td>NA</td><td>NA</td></tr>\n",
       "</tbody>\n",
       "</table>\n"
      ],
      "text/latex": [
       "A data.frame: 10 × 13\n",
       "\\begin{tabular}{r|lllllllllllll}\n",
       "  & restaurant\\_id & name & platform & sub\\_platform & latitude & longitude & city & country & active & standardized\\_name & restaurant\\_chain & delivery\\_radius & geom\\\\\n",
       "  & <dbl> & <chr> & <chr> & <chr> & <dbl> & <dbl> & <chr> & <chr> & <chr> & <chr> & <chr> & <dbl> & <lgl>\\\\\n",
       "\\hline\n",
       "\t675 &  4075 &                             &  &  & NA & NA &  &  &  &  &  & NA & NA\\\\\n",
       "\t1927 & 86915 & el sazon de las americas    &  &  & NA & NA &  &  &  &  &  & NA & NA\\\\\n",
       "\t2092 &  8142 & ten sushi                   &  &  & NA & NA &  &  &  &  &  & NA & NA\\\\\n",
       "\t4167 & 54962 & al's                        &  &  & NA & NA &  &  &  &  &  & NA & NA\\\\\n",
       "\t4387 & 61610 & fake restaurant - reviewer  &  &  & NA & NA &  &  &  &  &  & NA & NA\\\\\n",
       "\t4950 & 87158 & mocha's cafe \\& grill        &  &  & NA & NA &  &  &  &  &  & NA & NA\\\\\n",
       "\t5908 & 56614 & chili's grill \\& bar         &  &  & NA & NA &  &  &  &  &  & NA & NA\\\\\n",
       "\t6005 & 30732 & extreme pizza: template (   &  &  & NA & NA &  &  &  &  &  & NA & NA\\\\\n",
       "\t6218 & 35120 & soho thai                   &  &  & NA & NA &  &  &  &  &  & NA & NA\\\\\n",
       "\t6388 & 93074 & jasim's                     &  &  & NA & NA &  &  &  &  &  & NA & NA\\\\\n",
       "\\end{tabular}\n"
      ],
      "text/markdown": [
       "\n",
       "A data.frame: 10 × 13\n",
       "\n",
       "| <!--/--> | restaurant_id &lt;dbl&gt; | name &lt;chr&gt; | platform &lt;chr&gt; | sub_platform &lt;chr&gt; | latitude &lt;dbl&gt; | longitude &lt;dbl&gt; | city &lt;chr&gt; | country &lt;chr&gt; | active &lt;chr&gt; | standardized_name &lt;chr&gt; | restaurant_chain &lt;chr&gt; | delivery_radius &lt;dbl&gt; | geom &lt;lgl&gt; |\n",
       "|---|---|---|---|---|---|---|---|---|---|---|---|---|---|\n",
       "| 675 |  4075 | <!----> | <!----> | <!----> | NA | NA | <!----> | <!----> | <!----> | <!----> | <!----> | NA | NA |\n",
       "| 1927 | 86915 | el sazon de las americas    | <!----> | <!----> | NA | NA | <!----> | <!----> | <!----> | <!----> | <!----> | NA | NA |\n",
       "| 2092 |  8142 | ten sushi                   | <!----> | <!----> | NA | NA | <!----> | <!----> | <!----> | <!----> | <!----> | NA | NA |\n",
       "| 4167 | 54962 | al's                        | <!----> | <!----> | NA | NA | <!----> | <!----> | <!----> | <!----> | <!----> | NA | NA |\n",
       "| 4387 | 61610 | fake restaurant - reviewer  | <!----> | <!----> | NA | NA | <!----> | <!----> | <!----> | <!----> | <!----> | NA | NA |\n",
       "| 4950 | 87158 | mocha's cafe &amp; grill        | <!----> | <!----> | NA | NA | <!----> | <!----> | <!----> | <!----> | <!----> | NA | NA |\n",
       "| 5908 | 56614 | chili's grill &amp; bar         | <!----> | <!----> | NA | NA | <!----> | <!----> | <!----> | <!----> | <!----> | NA | NA |\n",
       "| 6005 | 30732 | extreme pizza: template (   | <!----> | <!----> | NA | NA | <!----> | <!----> | <!----> | <!----> | <!----> | NA | NA |\n",
       "| 6218 | 35120 | soho thai                   | <!----> | <!----> | NA | NA | <!----> | <!----> | <!----> | <!----> | <!----> | NA | NA |\n",
       "| 6388 | 93074 | jasim's                     | <!----> | <!----> | NA | NA | <!----> | <!----> | <!----> | <!----> | <!----> | NA | NA |\n",
       "\n"
      ],
      "text/plain": [
       "     restaurant_id name                        platform sub_platform latitude\n",
       "675   4075                                                           NA      \n",
       "1927 86915         el sazon de las americas                          NA      \n",
       "2092  8142         ten sushi                                         NA      \n",
       "4167 54962         al's                                              NA      \n",
       "4387 61610         fake restaurant - reviewer                        NA      \n",
       "4950 87158         mocha's cafe & grill                              NA      \n",
       "5908 56614         chili's grill & bar                               NA      \n",
       "6005 30732         extreme pizza: template (                         NA      \n",
       "6218 35120         soho thai                                         NA      \n",
       "6388 93074         jasim's                                           NA      \n",
       "     longitude city country active standardized_name restaurant_chain\n",
       "675  NA                                                              \n",
       "1927 NA                                                              \n",
       "2092 NA                                                              \n",
       "4167 NA                                                              \n",
       "4387 NA                                                              \n",
       "4950 NA                                                              \n",
       "5908 NA                                                              \n",
       "6005 NA                                                              \n",
       "6218 NA                                                              \n",
       "6388 NA                                                              \n",
       "     delivery_radius geom\n",
       "675  NA              NA  \n",
       "1927 NA              NA  \n",
       "2092 NA              NA  \n",
       "4167 NA              NA  \n",
       "4387 NA              NA  \n",
       "4950 NA              NA  \n",
       "5908 NA              NA  \n",
       "6005 NA              NA  \n",
       "6218 NA              NA  \n",
       "6388 NA              NA  "
      ]
     },
     "metadata": {},
     "output_type": "display_data"
    },
    {
     "data": {
      "text/html": [
       "<style>\n",
       ".list-inline {list-style: none; margin:0; padding: 0}\n",
       ".list-inline>li {display: inline-block}\n",
       ".list-inline>li:not(:last-child)::after {content: \"\\00b7\"; padding: 0 .5ex}\n",
       "</style>\n",
       "<ol class=list-inline><li>2042</li><li>13</li></ol>\n"
      ],
      "text/latex": [
       "\\begin{enumerate*}\n",
       "\\item 2042\n",
       "\\item 13\n",
       "\\end{enumerate*}\n"
      ],
      "text/markdown": [
       "1. 2042\n",
       "2. 13\n",
       "\n",
       "\n"
      ],
      "text/plain": [
       "[1] 2042   13"
      ]
     },
     "metadata": {},
     "output_type": "display_data"
    }
   ],
   "source": [
    "head(subset(df, is.na(longitude) & is.na(latitude)),10)\n",
    "no_cor <- subset(df, is.na(longitude) & is.na(latitude))\n",
    "dim(no_cor)"
   ]
  },
  {
   "cell_type": "code",
   "execution_count": 568,
   "metadata": {
    "vscode": {
     "languageId": "r"
    }
   },
   "outputs": [
    {
     "data": {
      "text/html": [
       "<table class=\"dataframe\">\n",
       "<caption>A data.frame: 10 × 13</caption>\n",
       "<thead>\n",
       "\t<tr><th></th><th scope=col>restaurant_id</th><th scope=col>name</th><th scope=col>platform</th><th scope=col>sub_platform</th><th scope=col>latitude</th><th scope=col>longitude</th><th scope=col>city</th><th scope=col>country</th><th scope=col>active</th><th scope=col>standardized_name</th><th scope=col>restaurant_chain</th><th scope=col>delivery_radius</th><th scope=col>geom</th></tr>\n",
       "\t<tr><th></th><th scope=col>&lt;dbl&gt;</th><th scope=col>&lt;chr&gt;</th><th scope=col>&lt;chr&gt;</th><th scope=col>&lt;chr&gt;</th><th scope=col>&lt;dbl&gt;</th><th scope=col>&lt;dbl&gt;</th><th scope=col>&lt;chr&gt;</th><th scope=col>&lt;chr&gt;</th><th scope=col>&lt;chr&gt;</th><th scope=col>&lt;chr&gt;</th><th scope=col>&lt;chr&gt;</th><th scope=col>&lt;dbl&gt;</th><th scope=col>&lt;lgl&gt;</th></tr>\n",
       "</thead>\n",
       "<tbody>\n",
       "\t<tr><th scope=row>5</th><td> 5690</td><td>derek test merchant                     </td><td>caviar      </td><td></td><td>  1</td><td> 2</td><td></td><td>US</td><td>FALSE</td><td>derek_test_merchant                   </td><td></td><td>NA</td><td>NA</td></tr>\n",
       "\t<tr><th scope=row>61</th><td>59739</td><td>bequ juice                              </td><td>delivery.com</td><td></td><td>-90</td><td> 0</td><td></td><td>US</td><td>FALSE</td><td>bequ_juice                            </td><td></td><td>NA</td><td>NA</td></tr>\n",
       "\t<tr><th scope=row>65</th><td>63820</td><td>gino's east                             </td><td>delivery.com</td><td></td><td>-90</td><td> 0</td><td></td><td>US</td><td>FALSE</td><td>gino_s_east                           </td><td></td><td>NA</td><td>NA</td></tr>\n",
       "\t<tr><th scope=row>101</th><td>64603</td><td>sori sushi                              </td><td>delivery.com</td><td></td><td>-90</td><td> 0</td><td></td><td>US</td><td>FALSE</td><td>sori_sushi                            </td><td></td><td>NA</td><td>NA</td></tr>\n",
       "\t<tr><th scope=row>138</th><td> 5648</td><td>jessica hui placeholder                 </td><td>caviar      </td><td></td><td>  0</td><td> 0</td><td></td><td>US</td><td>FALSE</td><td>jessica_hui_placeholder               </td><td></td><td>NA</td><td>NA</td></tr>\n",
       "\t<tr><th scope=row>161</th><td> 1526</td><td>the halal guys                          </td><td>caviar      </td><td></td><td>  0</td><td> 0</td><td></td><td>US</td><td>FALSE</td><td>the_halal_guys                        </td><td></td><td>NA</td><td>NA</td></tr>\n",
       "\t<tr><th scope=row>167</th><td> 9812</td><td>the french bakery - 112th ave [disabled]</td><td>caviar      </td><td></td><td>  1</td><td>-1</td><td></td><td>US</td><td>FALSE</td><td>the_french_bakery_-_112th_ave_disabled</td><td></td><td>NA</td><td>NA</td></tr>\n",
       "\t<tr><th scope=row>202</th><td>63305</td><td>ezras food                              </td><td>delivery.com</td><td></td><td>-90</td><td> 0</td><td></td><td>US</td><td>FALSE</td><td>ezras_food                            </td><td></td><td>NA</td><td>NA</td></tr>\n",
       "\t<tr><th scope=row>213</th><td>57676</td><td>cupping room cafe                       </td><td>delivery.com</td><td></td><td>-90</td><td> 0</td><td></td><td>US</td><td>FALSE</td><td>cupping_room_cafe                     </td><td></td><td>NA</td><td>NA</td></tr>\n",
       "\t<tr><th scope=row>218</th><td>61832</td><td>grapevine travelers                     </td><td>delivery.com</td><td></td><td>-90</td><td> 0</td><td></td><td>US</td><td>FALSE</td><td>grapevine_travelers                   </td><td></td><td>NA</td><td>NA</td></tr>\n",
       "</tbody>\n",
       "</table>\n"
      ],
      "text/latex": [
       "A data.frame: 10 × 13\n",
       "\\begin{tabular}{r|lllllllllllll}\n",
       "  & restaurant\\_id & name & platform & sub\\_platform & latitude & longitude & city & country & active & standardized\\_name & restaurant\\_chain & delivery\\_radius & geom\\\\\n",
       "  & <dbl> & <chr> & <chr> & <chr> & <dbl> & <dbl> & <chr> & <chr> & <chr> & <chr> & <chr> & <dbl> & <lgl>\\\\\n",
       "\\hline\n",
       "\t5 &  5690 & derek test merchant                      & caviar       &  &   1 &  2 &  & US & FALSE & derek\\_test\\_merchant                    &  & NA & NA\\\\\n",
       "\t61 & 59739 & bequ juice                               & delivery.com &  & -90 &  0 &  & US & FALSE & bequ\\_juice                             &  & NA & NA\\\\\n",
       "\t65 & 63820 & gino's east                              & delivery.com &  & -90 &  0 &  & US & FALSE & gino\\_s\\_east                            &  & NA & NA\\\\\n",
       "\t101 & 64603 & sori sushi                               & delivery.com &  & -90 &  0 &  & US & FALSE & sori\\_sushi                             &  & NA & NA\\\\\n",
       "\t138 &  5648 & jessica hui placeholder                  & caviar       &  &   0 &  0 &  & US & FALSE & jessica\\_hui\\_placeholder                &  & NA & NA\\\\\n",
       "\t161 &  1526 & the halal guys                           & caviar       &  &   0 &  0 &  & US & FALSE & the\\_halal\\_guys                         &  & NA & NA\\\\\n",
       "\t167 &  9812 & the french bakery - 112th ave {[}disabled{]} & caviar       &  &   1 & -1 &  & US & FALSE & the\\_french\\_bakery\\_-\\_112th\\_ave\\_disabled &  & NA & NA\\\\\n",
       "\t202 & 63305 & ezras food                               & delivery.com &  & -90 &  0 &  & US & FALSE & ezras\\_food                             &  & NA & NA\\\\\n",
       "\t213 & 57676 & cupping room cafe                        & delivery.com &  & -90 &  0 &  & US & FALSE & cupping\\_room\\_cafe                      &  & NA & NA\\\\\n",
       "\t218 & 61832 & grapevine travelers                      & delivery.com &  & -90 &  0 &  & US & FALSE & grapevine\\_travelers                    &  & NA & NA\\\\\n",
       "\\end{tabular}\n"
      ],
      "text/markdown": [
       "\n",
       "A data.frame: 10 × 13\n",
       "\n",
       "| <!--/--> | restaurant_id &lt;dbl&gt; | name &lt;chr&gt; | platform &lt;chr&gt; | sub_platform &lt;chr&gt; | latitude &lt;dbl&gt; | longitude &lt;dbl&gt; | city &lt;chr&gt; | country &lt;chr&gt; | active &lt;chr&gt; | standardized_name &lt;chr&gt; | restaurant_chain &lt;chr&gt; | delivery_radius &lt;dbl&gt; | geom &lt;lgl&gt; |\n",
       "|---|---|---|---|---|---|---|---|---|---|---|---|---|---|\n",
       "| 5 |  5690 | derek test merchant                      | caviar       | <!----> |   1 |  2 | <!----> | US | FALSE | derek_test_merchant                    | <!----> | NA | NA |\n",
       "| 61 | 59739 | bequ juice                               | delivery.com | <!----> | -90 |  0 | <!----> | US | FALSE | bequ_juice                             | <!----> | NA | NA |\n",
       "| 65 | 63820 | gino's east                              | delivery.com | <!----> | -90 |  0 | <!----> | US | FALSE | gino_s_east                            | <!----> | NA | NA |\n",
       "| 101 | 64603 | sori sushi                               | delivery.com | <!----> | -90 |  0 | <!----> | US | FALSE | sori_sushi                             | <!----> | NA | NA |\n",
       "| 138 |  5648 | jessica hui placeholder                  | caviar       | <!----> |   0 |  0 | <!----> | US | FALSE | jessica_hui_placeholder                | <!----> | NA | NA |\n",
       "| 161 |  1526 | the halal guys                           | caviar       | <!----> |   0 |  0 | <!----> | US | FALSE | the_halal_guys                         | <!----> | NA | NA |\n",
       "| 167 |  9812 | the french bakery - 112th ave [disabled] | caviar       | <!----> |   1 | -1 | <!----> | US | FALSE | the_french_bakery_-_112th_ave_disabled | <!----> | NA | NA |\n",
       "| 202 | 63305 | ezras food                               | delivery.com | <!----> | -90 |  0 | <!----> | US | FALSE | ezras_food                             | <!----> | NA | NA |\n",
       "| 213 | 57676 | cupping room cafe                        | delivery.com | <!----> | -90 |  0 | <!----> | US | FALSE | cupping_room_cafe                      | <!----> | NA | NA |\n",
       "| 218 | 61832 | grapevine travelers                      | delivery.com | <!----> | -90 |  0 | <!----> | US | FALSE | grapevine_travelers                    | <!----> | NA | NA |\n",
       "\n"
      ],
      "text/plain": [
       "    restaurant_id name                                     platform    \n",
       "5    5690         derek test merchant                      caviar      \n",
       "61  59739         bequ juice                               delivery.com\n",
       "65  63820         gino's east                              delivery.com\n",
       "101 64603         sori sushi                               delivery.com\n",
       "138  5648         jessica hui placeholder                  caviar      \n",
       "161  1526         the halal guys                           caviar      \n",
       "167  9812         the french bakery - 112th ave [disabled] caviar      \n",
       "202 63305         ezras food                               delivery.com\n",
       "213 57676         cupping room cafe                        delivery.com\n",
       "218 61832         grapevine travelers                      delivery.com\n",
       "    sub_platform latitude longitude city country active\n",
       "5                  1       2             US      FALSE \n",
       "61               -90       0             US      FALSE \n",
       "65               -90       0             US      FALSE \n",
       "101              -90       0             US      FALSE \n",
       "138                0       0             US      FALSE \n",
       "161                0       0             US      FALSE \n",
       "167                1      -1             US      FALSE \n",
       "202              -90       0             US      FALSE \n",
       "213              -90       0             US      FALSE \n",
       "218              -90       0             US      FALSE \n",
       "    standardized_name                      restaurant_chain delivery_radius\n",
       "5   derek_test_merchant                                     NA             \n",
       "61  bequ_juice                                              NA             \n",
       "65  gino_s_east                                             NA             \n",
       "101 sori_sushi                                              NA             \n",
       "138 jessica_hui_placeholder                                 NA             \n",
       "161 the_halal_guys                                          NA             \n",
       "167 the_french_bakery_-_112th_ave_disabled                  NA             \n",
       "202 ezras_food                                              NA             \n",
       "213 cupping_room_cafe                                       NA             \n",
       "218 grapevine_travelers                                     NA             \n",
       "    geom\n",
       "5   NA  \n",
       "61  NA  \n",
       "65  NA  \n",
       "101 NA  \n",
       "138 NA  \n",
       "161 NA  \n",
       "167 NA  \n",
       "202 NA  \n",
       "213 NA  \n",
       "218 NA  "
      ]
     },
     "metadata": {},
     "output_type": "display_data"
    },
    {
     "data": {
      "text/html": [
       "<style>\n",
       ".list-inline {list-style: none; margin:0; padding: 0}\n",
       ".list-inline>li {display: inline-block}\n",
       ".list-inline>li:not(:last-child)::after {content: \"\\00b7\"; padding: 0 .5ex}\n",
       "</style>\n",
       "<ol class=list-inline><li>1763</li><li>13</li></ol>\n"
      ],
      "text/latex": [
       "\\begin{enumerate*}\n",
       "\\item 1763\n",
       "\\item 13\n",
       "\\end{enumerate*}\n"
      ],
      "text/markdown": [
       "1. 1763\n",
       "2. 13\n",
       "\n",
       "\n"
      ],
      "text/plain": [
       "[1] 1763   13"
      ]
     },
     "metadata": {},
     "output_type": "display_data"
    }
   ],
   "source": [
    "head(subset(df, ((abs(latitude) == 90 & longitude ==0 ) | (abs(latitude) <= 1 | abs(longitude) <= 1 ) | (abs(latitude) > 90 | abs(longitude) > 180))),10)\n",
    "wrong_cor <- subset(df, ((abs(latitude) == 90 & longitude ==0 ) | (abs(latitude) <= 1 | abs(longitude) <= 1 ) | (abs(latitude) > 90 | abs(longitude) > 180)))\n",
    "dim(wrong_cor)"
   ]
  },
  {
   "cell_type": "markdown",
   "metadata": {},
   "source": [
    "##### 2.4 Data cleaning by platform status #####\n",
    "\n",
    "- There are 2,065 entries with no delivery platform status available\n"
   ]
  },
  {
   "cell_type": "code",
   "execution_count": 569,
   "metadata": {
    "vscode": {
     "languageId": "r"
    }
   },
   "outputs": [
    {
     "data": {
      "text/html": [
       "<table class=\"dataframe\">\n",
       "<caption>A data.frame: 6 × 13</caption>\n",
       "<thead>\n",
       "\t<tr><th></th><th scope=col>restaurant_id</th><th scope=col>name</th><th scope=col>platform</th><th scope=col>sub_platform</th><th scope=col>latitude</th><th scope=col>longitude</th><th scope=col>city</th><th scope=col>country</th><th scope=col>active</th><th scope=col>standardized_name</th><th scope=col>restaurant_chain</th><th scope=col>delivery_radius</th><th scope=col>geom</th></tr>\n",
       "\t<tr><th></th><th scope=col>&lt;dbl&gt;</th><th scope=col>&lt;chr&gt;</th><th scope=col>&lt;chr&gt;</th><th scope=col>&lt;chr&gt;</th><th scope=col>&lt;dbl&gt;</th><th scope=col>&lt;dbl&gt;</th><th scope=col>&lt;chr&gt;</th><th scope=col>&lt;chr&gt;</th><th scope=col>&lt;chr&gt;</th><th scope=col>&lt;chr&gt;</th><th scope=col>&lt;chr&gt;</th><th scope=col>&lt;dbl&gt;</th><th scope=col>&lt;lgl&gt;</th></tr>\n",
       "</thead>\n",
       "<tbody>\n",
       "\t<tr><th scope=row>675</th><td> 4075</td><td>                           </td><td></td><td></td><td>NA</td><td>NA</td><td></td><td></td><td></td><td></td><td></td><td>NA</td><td>NA</td></tr>\n",
       "\t<tr><th scope=row>1927</th><td>86915</td><td>el sazon de las americas   </td><td></td><td></td><td>NA</td><td>NA</td><td></td><td></td><td></td><td></td><td></td><td>NA</td><td>NA</td></tr>\n",
       "\t<tr><th scope=row>2092</th><td> 8142</td><td>ten sushi                  </td><td></td><td></td><td>NA</td><td>NA</td><td></td><td></td><td></td><td></td><td></td><td>NA</td><td>NA</td></tr>\n",
       "\t<tr><th scope=row>4167</th><td>54962</td><td>al's                       </td><td></td><td></td><td>NA</td><td>NA</td><td></td><td></td><td></td><td></td><td></td><td>NA</td><td>NA</td></tr>\n",
       "\t<tr><th scope=row>4387</th><td>61610</td><td>fake restaurant - reviewer </td><td></td><td></td><td>NA</td><td>NA</td><td></td><td></td><td></td><td></td><td></td><td>NA</td><td>NA</td></tr>\n",
       "\t<tr><th scope=row>4950</th><td>87158</td><td><span style=white-space:pre-wrap>mocha's cafe &amp; grill       </span></td><td></td><td></td><td>NA</td><td>NA</td><td></td><td></td><td></td><td></td><td></td><td>NA</td><td>NA</td></tr>\n",
       "</tbody>\n",
       "</table>\n"
      ],
      "text/latex": [
       "A data.frame: 6 × 13\n",
       "\\begin{tabular}{r|lllllllllllll}\n",
       "  & restaurant\\_id & name & platform & sub\\_platform & latitude & longitude & city & country & active & standardized\\_name & restaurant\\_chain & delivery\\_radius & geom\\\\\n",
       "  & <dbl> & <chr> & <chr> & <chr> & <dbl> & <dbl> & <chr> & <chr> & <chr> & <chr> & <chr> & <dbl> & <lgl>\\\\\n",
       "\\hline\n",
       "\t675 &  4075 &                             &  &  & NA & NA &  &  &  &  &  & NA & NA\\\\\n",
       "\t1927 & 86915 & el sazon de las americas    &  &  & NA & NA &  &  &  &  &  & NA & NA\\\\\n",
       "\t2092 &  8142 & ten sushi                   &  &  & NA & NA &  &  &  &  &  & NA & NA\\\\\n",
       "\t4167 & 54962 & al's                        &  &  & NA & NA &  &  &  &  &  & NA & NA\\\\\n",
       "\t4387 & 61610 & fake restaurant - reviewer  &  &  & NA & NA &  &  &  &  &  & NA & NA\\\\\n",
       "\t4950 & 87158 & mocha's cafe \\& grill        &  &  & NA & NA &  &  &  &  &  & NA & NA\\\\\n",
       "\\end{tabular}\n"
      ],
      "text/markdown": [
       "\n",
       "A data.frame: 6 × 13\n",
       "\n",
       "| <!--/--> | restaurant_id &lt;dbl&gt; | name &lt;chr&gt; | platform &lt;chr&gt; | sub_platform &lt;chr&gt; | latitude &lt;dbl&gt; | longitude &lt;dbl&gt; | city &lt;chr&gt; | country &lt;chr&gt; | active &lt;chr&gt; | standardized_name &lt;chr&gt; | restaurant_chain &lt;chr&gt; | delivery_radius &lt;dbl&gt; | geom &lt;lgl&gt; |\n",
       "|---|---|---|---|---|---|---|---|---|---|---|---|---|---|\n",
       "| 675 |  4075 | <!----> | <!----> | <!----> | NA | NA | <!----> | <!----> | <!----> | <!----> | <!----> | NA | NA |\n",
       "| 1927 | 86915 | el sazon de las americas    | <!----> | <!----> | NA | NA | <!----> | <!----> | <!----> | <!----> | <!----> | NA | NA |\n",
       "| 2092 |  8142 | ten sushi                   | <!----> | <!----> | NA | NA | <!----> | <!----> | <!----> | <!----> | <!----> | NA | NA |\n",
       "| 4167 | 54962 | al's                        | <!----> | <!----> | NA | NA | <!----> | <!----> | <!----> | <!----> | <!----> | NA | NA |\n",
       "| 4387 | 61610 | fake restaurant - reviewer  | <!----> | <!----> | NA | NA | <!----> | <!----> | <!----> | <!----> | <!----> | NA | NA |\n",
       "| 4950 | 87158 | mocha's cafe &amp; grill        | <!----> | <!----> | NA | NA | <!----> | <!----> | <!----> | <!----> | <!----> | NA | NA |\n",
       "\n"
      ],
      "text/plain": [
       "     restaurant_id name                        platform sub_platform latitude\n",
       "675   4075                                                           NA      \n",
       "1927 86915         el sazon de las americas                          NA      \n",
       "2092  8142         ten sushi                                         NA      \n",
       "4167 54962         al's                                              NA      \n",
       "4387 61610         fake restaurant - reviewer                        NA      \n",
       "4950 87158         mocha's cafe & grill                              NA      \n",
       "     longitude city country active standardized_name restaurant_chain\n",
       "675  NA                                                              \n",
       "1927 NA                                                              \n",
       "2092 NA                                                              \n",
       "4167 NA                                                              \n",
       "4387 NA                                                              \n",
       "4950 NA                                                              \n",
       "     delivery_radius geom\n",
       "675  NA              NA  \n",
       "1927 NA              NA  \n",
       "2092 NA              NA  \n",
       "4167 NA              NA  \n",
       "4387 NA              NA  \n",
       "4950 NA              NA  "
      ]
     },
     "metadata": {},
     "output_type": "display_data"
    },
    {
     "data": {
      "text/html": [
       "<style>\n",
       ".list-inline {list-style: none; margin:0; padding: 0}\n",
       ".list-inline>li {display: inline-block}\n",
       ".list-inline>li:not(:last-child)::after {content: \"\\00b7\"; padding: 0 .5ex}\n",
       "</style>\n",
       "<ol class=list-inline><li>2065</li><li>13</li></ol>\n"
      ],
      "text/latex": [
       "\\begin{enumerate*}\n",
       "\\item 2065\n",
       "\\item 13\n",
       "\\end{enumerate*}\n"
      ],
      "text/markdown": [
       "1. 2065\n",
       "2. 13\n",
       "\n",
       "\n"
      ],
      "text/plain": [
       "[1] 2065   13"
      ]
     },
     "metadata": {},
     "output_type": "display_data"
    }
   ],
   "source": [
    "head(subset(df, active == \"\"))\n",
    "null_active <- subset(df, active == \"\")\n",
    "dim(null_active)"
   ]
  },
  {
   "cell_type": "markdown",
   "metadata": {},
   "source": [
    "##### 2.5 Data cleaning by removing unneeded subsets #####\n",
    "\n",
    "- After removing the subsets, there are still 639,998 entries left"
   ]
  },
  {
   "cell_type": "code",
   "execution_count": null,
   "metadata": {
    "vscode": {
     "languageId": "r"
    }
   },
   "outputs": [],
   "source": [
    "no_name <- subset(df, name==\"\")\n",
    "bad_entry <- filter(df, grepl('duplicate|training|do not use|do not enable|churned|closed|close:|open:|usd', name))\n",
    "no_cor <- subset(df, is.na(longitude) & is.na(latitude))\n",
    "wrong_cor <- subset(df, ((abs(latitude) == 90 & longitude ==0 ) | (abs(latitude) <= 1 | abs(longitude) <= 1 ) | (abs(latitude) > 90 | abs(longitude) > 180)))\n",
    "null_active <- subset(df, active == \"\")"
   ]
  },
  {
   "cell_type": "code",
   "execution_count": 570,
   "metadata": {
    "vscode": {
     "languageId": "r"
    }
   },
   "outputs": [
    {
     "name": "stderr",
     "output_type": "stream",
     "text": [
      "Joining, by = c(\"restaurant_id\", \"name\", \"platform\", \"sub_platform\", \"latitude\", \"longitude\", \"city\", \"country\", \"active\", \"standardized_name\", \"restaurant_chain\", \"delivery_radius\", \"geom\")\n",
      "\n",
      "Joining, by = c(\"restaurant_id\", \"name\", \"platform\", \"sub_platform\", \"latitude\", \"longitude\", \"city\", \"country\", \"active\", \"standardized_name\", \"restaurant_chain\", \"delivery_radius\", \"geom\")\n",
      "\n",
      "Joining, by = c(\"restaurant_id\", \"name\", \"platform\", \"sub_platform\", \"latitude\", \"longitude\", \"city\", \"country\", \"active\", \"standardized_name\", \"restaurant_chain\", \"delivery_radius\", \"geom\")\n",
      "\n",
      "Joining, by = c(\"restaurant_id\", \"name\", \"platform\", \"sub_platform\", \"latitude\", \"longitude\", \"city\", \"country\", \"active\", \"standardized_name\", \"restaurant_chain\", \"delivery_radius\", \"geom\")\n",
      "\n",
      "Joining, by = c(\"restaurant_id\", \"name\", \"platform\", \"sub_platform\", \"latitude\", \"longitude\", \"city\", \"country\", \"active\", \"standardized_name\", \"restaurant_chain\", \"delivery_radius\", \"geom\")\n",
      "\n",
      "Joining, by = c(\"restaurant_id\", \"name\", \"platform\", \"sub_platform\", \"latitude\", \"longitude\", \"city\", \"country\", \"active\", \"standardized_name\", \"restaurant_chain\", \"delivery_radius\", \"geom\")\n",
      "\n"
     ]
    },
    {
     "data": {
      "text/html": [
       "<style>\n",
       ".list-inline {list-style: none; margin:0; padding: 0}\n",
       ".list-inline>li {display: inline-block}\n",
       ".list-inline>li:not(:last-child)::after {content: \"\\00b7\"; padding: 0 .5ex}\n",
       "</style>\n",
       "<ol class=list-inline><li>634255</li><li>13</li></ol>\n"
      ],
      "text/latex": [
       "\\begin{enumerate*}\n",
       "\\item 634255\n",
       "\\item 13\n",
       "\\end{enumerate*}\n"
      ],
      "text/markdown": [
       "1. 634255\n",
       "2. 13\n",
       "\n",
       "\n"
      ],
      "text/plain": [
       "[1] 634255     13"
      ]
     },
     "metadata": {},
     "output_type": "display_data"
    }
   ],
   "source": [
    "df_in_work <- df\n",
    "df_in_work <- anti_join(df_in_work, no_name)\n",
    "df_in_work <- anti_join(df_in_work, bad_entry)\n",
    "df_in_work <- anti_join(df_in_work, no_cor)\n",
    "df_in_work <- anti_join(df_in_work, wrong_cor)\n",
    "df_in_work <- anti_join(df_in_work, null_active)\n",
    "\n",
    "dim(df_in_work)"
   ]
  },
  {
   "cell_type": "markdown",
   "metadata": {},
   "source": [
    "## 3. Feature Engineering ##"
   ]
  },
  {
   "cell_type": "markdown",
   "metadata": {},
   "source": [
    "##### 3.1 Restaurant name exploration and cleaning #####\n",
    "\n",
    "- Separate names with branch names in parenthesis into two columns \"restaurant_chain\" & \"branch\""
   ]
  },
  {
   "cell_type": "code",
   "execution_count": 572,
   "metadata": {
    "vscode": {
     "languageId": "r"
    }
   },
   "outputs": [],
   "source": [
    "df_in_work$name <- gsub(\"\\\\(|\\\\[\", \"- \", df_in_work$name)\n",
    "df_in_work$name <- gsub(\"\\\\)|\\\\]|\\\\�\", \"\", df_in_work$name)\n"
   ]
  },
  {
   "cell_type": "code",
   "execution_count": 573,
   "metadata": {
    "vscode": {
     "languageId": "r"
    }
   },
   "outputs": [
    {
     "name": "stderr",
     "output_type": "stream",
     "text": [
      "Warning message:\n",
      "“Expected 2 pieces. Missing pieces filled with `NA` in 430929 rows [1, 2, 3, 6, 8, 10, 11, 13, 14, 15, 16, 17, 18, 19, 20, 22, 23, 27, 28, 30, ...].”\n"
     ]
    }
   ],
   "source": [
    "df_in_work <- separate(df_in_work,name,into = c(\"restaurant_chain\",\"branch\"), sep=\" - \", extra=\"merge\")"
   ]
  },
  {
   "cell_type": "code",
   "execution_count": 574,
   "metadata": {
    "vscode": {
     "languageId": "r"
    }
   },
   "outputs": [
    {
     "data": {
      "text/html": [
       "<table class=\"dataframe\">\n",
       "<caption>A data.frame: 6 × 13</caption>\n",
       "<thead>\n",
       "\t<tr><th></th><th scope=col>restaurant_id</th><th scope=col>restaurant_chain</th><th scope=col>branch</th><th scope=col>platform</th><th scope=col>sub_platform</th><th scope=col>latitude</th><th scope=col>longitude</th><th scope=col>city</th><th scope=col>country</th><th scope=col>active</th><th scope=col>standardized_name</th><th scope=col>delivery_radius</th><th scope=col>geom</th></tr>\n",
       "\t<tr><th></th><th scope=col>&lt;dbl&gt;</th><th scope=col>&lt;chr&gt;</th><th scope=col>&lt;chr&gt;</th><th scope=col>&lt;chr&gt;</th><th scope=col>&lt;chr&gt;</th><th scope=col>&lt;dbl&gt;</th><th scope=col>&lt;dbl&gt;</th><th scope=col>&lt;chr&gt;</th><th scope=col>&lt;chr&gt;</th><th scope=col>&lt;chr&gt;</th><th scope=col>&lt;chr&gt;</th><th scope=col>&lt;dbl&gt;</th><th scope=col>&lt;lgl&gt;</th></tr>\n",
       "</thead>\n",
       "<tbody>\n",
       "\t<tr><th scope=row>1</th><td>9744</td><td>loco coco         </td><td>NA                      </td><td>caviar</td><td></td><td>40.7650</td><td> -73.9660</td><td></td><td>US</td><td>TRUE </td><td>loco_coco                            </td><td>NA</td><td>NA</td></tr>\n",
       "\t<tr><th scope=row>2</th><td>4903</td><td>musubi            </td><td>NA                      </td><td>caviar</td><td></td><td>45.5046</td><td>-122.6438</td><td></td><td>US</td><td>FALSE</td><td>musubi                               </td><td>NA</td><td>NA</td></tr>\n",
       "\t<tr><th scope=row>3</th><td>4723</td><td>the bakers' lounge</td><td>NA                      </td><td>caviar</td><td></td><td>38.9246</td><td> -76.9901</td><td></td><td>US</td><td>FALSE</td><td>the_bakers_lounge                    </td><td>NA</td><td>NA</td></tr>\n",
       "\t<tr><th scope=row>4</th><td>4128</td><td>parm              </td><td>battery park city       </td><td>caviar</td><td></td><td>40.7142</td><td> -74.0156</td><td></td><td>US</td><td>TRUE </td><td>parm_-_battery_park_city             </td><td>NA</td><td>NA</td></tr>\n",
       "\t<tr><th scope=row>5</th><td>2827</td><td><span style=white-space:pre-wrap>the plant cafe    </span></td><td>california &amp; pine - fidi</td><td>caviar</td><td></td><td>37.7928</td><td>-122.3979</td><td></td><td>US</td><td>FALSE</td><td>the_plant_cafe_-_california_pine_fidi</td><td>NA</td><td>NA</td></tr>\n",
       "\t<tr><th scope=row>6</th><td>4850</td><td>minton's          </td><td>NA                      </td><td>caviar</td><td></td><td>40.8047</td><td> -73.9523</td><td></td><td>US</td><td>FALSE</td><td>minton_s                             </td><td>NA</td><td>NA</td></tr>\n",
       "</tbody>\n",
       "</table>\n"
      ],
      "text/latex": [
       "A data.frame: 6 × 13\n",
       "\\begin{tabular}{r|lllllllllllll}\n",
       "  & restaurant\\_id & restaurant\\_chain & branch & platform & sub\\_platform & latitude & longitude & city & country & active & standardized\\_name & delivery\\_radius & geom\\\\\n",
       "  & <dbl> & <chr> & <chr> & <chr> & <chr> & <dbl> & <dbl> & <chr> & <chr> & <chr> & <chr> & <dbl> & <lgl>\\\\\n",
       "\\hline\n",
       "\t1 & 9744 & loco coco          & NA                       & caviar &  & 40.7650 &  -73.9660 &  & US & TRUE  & loco\\_coco                             & NA & NA\\\\\n",
       "\t2 & 4903 & musubi             & NA                       & caviar &  & 45.5046 & -122.6438 &  & US & FALSE & musubi                                & NA & NA\\\\\n",
       "\t3 & 4723 & the bakers' lounge & NA                       & caviar &  & 38.9246 &  -76.9901 &  & US & FALSE & the\\_bakers\\_lounge                     & NA & NA\\\\\n",
       "\t4 & 4128 & parm               & battery park city        & caviar &  & 40.7142 &  -74.0156 &  & US & TRUE  & parm\\_-\\_battery\\_park\\_city              & NA & NA\\\\\n",
       "\t5 & 2827 & the plant cafe     & california \\& pine - fidi & caviar &  & 37.7928 & -122.3979 &  & US & FALSE & the\\_plant\\_cafe\\_-\\_california\\_pine\\_fidi & NA & NA\\\\\n",
       "\t6 & 4850 & minton's           & NA                       & caviar &  & 40.8047 &  -73.9523 &  & US & FALSE & minton\\_s                              & NA & NA\\\\\n",
       "\\end{tabular}\n"
      ],
      "text/markdown": [
       "\n",
       "A data.frame: 6 × 13\n",
       "\n",
       "| <!--/--> | restaurant_id &lt;dbl&gt; | restaurant_chain &lt;chr&gt; | branch &lt;chr&gt; | platform &lt;chr&gt; | sub_platform &lt;chr&gt; | latitude &lt;dbl&gt; | longitude &lt;dbl&gt; | city &lt;chr&gt; | country &lt;chr&gt; | active &lt;chr&gt; | standardized_name &lt;chr&gt; | delivery_radius &lt;dbl&gt; | geom &lt;lgl&gt; |\n",
       "|---|---|---|---|---|---|---|---|---|---|---|---|---|---|\n",
       "| 1 | 9744 | loco coco          | NA                       | caviar | <!----> | 40.7650 |  -73.9660 | <!----> | US | TRUE  | loco_coco                             | NA | NA |\n",
       "| 2 | 4903 | musubi             | NA                       | caviar | <!----> | 45.5046 | -122.6438 | <!----> | US | FALSE | musubi                                | NA | NA |\n",
       "| 3 | 4723 | the bakers' lounge | NA                       | caviar | <!----> | 38.9246 |  -76.9901 | <!----> | US | FALSE | the_bakers_lounge                     | NA | NA |\n",
       "| 4 | 4128 | parm               | battery park city        | caviar | <!----> | 40.7142 |  -74.0156 | <!----> | US | TRUE  | parm_-_battery_park_city              | NA | NA |\n",
       "| 5 | 2827 | the plant cafe     | california &amp; pine - fidi | caviar | <!----> | 37.7928 | -122.3979 | <!----> | US | FALSE | the_plant_cafe_-_california_pine_fidi | NA | NA |\n",
       "| 6 | 4850 | minton's           | NA                       | caviar | <!----> | 40.8047 |  -73.9523 | <!----> | US | FALSE | minton_s                              | NA | NA |\n",
       "\n"
      ],
      "text/plain": [
       "  restaurant_id restaurant_chain   branch                   platform\n",
       "1 9744          loco coco          NA                       caviar  \n",
       "2 4903          musubi             NA                       caviar  \n",
       "3 4723          the bakers' lounge NA                       caviar  \n",
       "4 4128          parm               battery park city        caviar  \n",
       "5 2827          the plant cafe     california & pine - fidi caviar  \n",
       "6 4850          minton's           NA                       caviar  \n",
       "  sub_platform latitude longitude city country active\n",
       "1              40.7650   -73.9660      US      TRUE  \n",
       "2              45.5046  -122.6438      US      FALSE \n",
       "3              38.9246   -76.9901      US      FALSE \n",
       "4              40.7142   -74.0156      US      TRUE  \n",
       "5              37.7928  -122.3979      US      FALSE \n",
       "6              40.8047   -73.9523      US      FALSE \n",
       "  standardized_name                     delivery_radius geom\n",
       "1 loco_coco                             NA              NA  \n",
       "2 musubi                                NA              NA  \n",
       "3 the_bakers_lounge                     NA              NA  \n",
       "4 parm_-_battery_park_city              NA              NA  \n",
       "5 the_plant_cafe_-_california_pine_fidi NA              NA  \n",
       "6 minton_s                              NA              NA  "
      ]
     },
     "metadata": {},
     "output_type": "display_data"
    },
    {
     "data": {
      "text/html": [
       "<style>\n",
       ".list-inline {list-style: none; margin:0; padding: 0}\n",
       ".list-inline>li {display: inline-block}\n",
       ".list-inline>li:not(:last-child)::after {content: \"\\00b7\"; padding: 0 .5ex}\n",
       "</style>\n",
       "<ol class=list-inline><li>634255</li><li>13</li></ol>\n"
      ],
      "text/latex": [
       "\\begin{enumerate*}\n",
       "\\item 634255\n",
       "\\item 13\n",
       "\\end{enumerate*}\n"
      ],
      "text/markdown": [
       "1. 634255\n",
       "2. 13\n",
       "\n",
       "\n"
      ],
      "text/plain": [
       "[1] 634255     13"
      ]
     },
     "metadata": {},
     "output_type": "display_data"
    }
   ],
   "source": [
    "head(df_in_work)\n",
    "dim(df_in_work)"
   ]
  },
  {
   "cell_type": "markdown",
   "metadata": {},
   "source": [
    "- Create a list of franchise restaurant by grouping restaurant names with over 100 branches by frequencies to find unique restaurant names\n",
    "- Assuming restaurants with less than 100 stores are not considered as franchises\n",
    "- Run a for loop and rename restaurants that have similar names to make sure the list of restaurant names are more uniform\n",
    "- Create another column type, and name those with over 100 appearances \"Franchises\", and the ones with less than 100 stores \"SMBs\""
   ]
  },
  {
   "cell_type": "code",
   "execution_count": 575,
   "metadata": {
    "vscode": {
     "languageId": "r"
    }
   },
   "outputs": [],
   "source": [
    "franchises <- group_by(df_in_work, restaurant_chain) %>% summarize(n = n()) %>% arrange(desc(n)) %>% subset(n>100)\n",
    "df_in_work$type <- \"\"\n",
    "for (name in franchises$restaurant_chain)\n",
    "{\n",
    "    df_in_work$restaurant_chain[grepl(name,df_in_work$restaurant_chain)] <- name\n",
    "    df_in_work$type[grepl(name,df_in_work$restaurant_chain)] <- \"Franchises\"\n",
    "}\n",
    "\n",
    "df_in_work$type[df_in_work$type==\"\"] <- \"SMBs\""
   ]
  },
  {
   "cell_type": "markdown",
   "metadata": {},
   "source": [
    "##### 3.2 Extract location data from coordinates #####\n",
    "\n",
    "- Using map.where() function to determine state and city information of the US based on coordinates\n",
    "- Remove the ones without output as they are not locations in the United States\n",
    "- the output of the function gives us state,city information, so we further split them into \"state\" and \"city\" columns"
   ]
  },
  {
   "cell_type": "code",
   "execution_count": 582,
   "metadata": {
    "vscode": {
     "languageId": "r"
    }
   },
   "outputs": [
    {
     "data": {
      "text/html": [
       "<table class=\"dataframe\">\n",
       "<caption>A data.frame: 20 × 15</caption>\n",
       "<thead>\n",
       "\t<tr><th></th><th scope=col>restaurant_id</th><th scope=col>restaurant_chain</th><th scope=col>branch</th><th scope=col>platform</th><th scope=col>sub_platform</th><th scope=col>latitude</th><th scope=col>longitude</th><th scope=col>state</th><th scope=col>city</th><th scope=col>country</th><th scope=col>active</th><th scope=col>standardized_name</th><th scope=col>delivery_radius</th><th scope=col>geom</th><th scope=col>type</th></tr>\n",
       "\t<tr><th></th><th scope=col>&lt;dbl&gt;</th><th scope=col>&lt;chr&gt;</th><th scope=col>&lt;chr&gt;</th><th scope=col>&lt;chr&gt;</th><th scope=col>&lt;chr&gt;</th><th scope=col>&lt;dbl&gt;</th><th scope=col>&lt;dbl&gt;</th><th scope=col>&lt;chr&gt;</th><th scope=col>&lt;chr&gt;</th><th scope=col>&lt;chr&gt;</th><th scope=col>&lt;chr&gt;</th><th scope=col>&lt;chr&gt;</th><th scope=col>&lt;dbl&gt;</th><th scope=col>&lt;lgl&gt;</th><th scope=col>&lt;chr&gt;</th></tr>\n",
       "</thead>\n",
       "<tbody>\n",
       "\t<tr><th scope=row>1</th><td>9744</td><td>loco coco                  </td><td>NA                      </td><td>caviar</td><td></td><td>40.7650</td><td> -73.9660</td><td>new york            </td><td>new york     </td><td>US</td><td>TRUE </td><td>loco_coco                            </td><td>NA</td><td>NA</td><td>SMBs</td></tr>\n",
       "\t<tr><th scope=row>2</th><td>4903</td><td>musubi                     </td><td>NA                      </td><td>caviar</td><td></td><td>45.5046</td><td>-122.6438</td><td>oregon              </td><td>multnomah    </td><td>US</td><td>FALSE</td><td>musubi                               </td><td>NA</td><td>NA</td><td>SMBs</td></tr>\n",
       "\t<tr><th scope=row>3</th><td>4723</td><td>the bakers' lounge         </td><td>NA                      </td><td>caviar</td><td></td><td>38.9246</td><td> -76.9901</td><td>district of columbia</td><td>washington   </td><td>US</td><td>FALSE</td><td>the_bakers_lounge                    </td><td>NA</td><td>NA</td><td>SMBs</td></tr>\n",
       "\t<tr><th scope=row>4</th><td>4128</td><td>parm                       </td><td>battery park city       </td><td>caviar</td><td></td><td>40.7142</td><td> -74.0156</td><td>new york            </td><td>new york     </td><td>US</td><td>TRUE </td><td>parm_-_battery_park_city             </td><td>NA</td><td>NA</td><td>SMBs</td></tr>\n",
       "\t<tr><th scope=row>5</th><td>2827</td><td><span style=white-space:pre-wrap>the plant cafe             </span></td><td>california &amp; pine - fidi</td><td>caviar</td><td></td><td>37.7928</td><td>-122.3979</td><td><span style=white-space:pre-wrap>california          </span></td><td>san francisco</td><td>US</td><td>FALSE</td><td>the_plant_cafe_-_california_pine_fidi</td><td>NA</td><td>NA</td><td>SMBs</td></tr>\n",
       "\t<tr><th scope=row>6</th><td>4850</td><td>minton's                   </td><td>NA                      </td><td>caviar</td><td></td><td>40.8047</td><td> -73.9523</td><td>new york            </td><td>new york     </td><td>US</td><td>FALSE</td><td>minton_s                             </td><td>NA</td><td>NA</td><td>SMBs</td></tr>\n",
       "\t<tr><th scope=row>7</th><td>6301</td><td>brazilian bowl             </td><td>albany park             </td><td>caviar</td><td></td><td>41.9686</td><td> -87.7087</td><td>illinois            </td><td>cook         </td><td>US</td><td>FALSE</td><td>brazilian_bowl_-_albany_park         </td><td>NA</td><td>NA</td><td>SMBs</td></tr>\n",
       "\t<tr><th scope=row>8</th><td>9006</td><td>gourmet palace china bistro</td><td>NA                      </td><td>caviar</td><td></td><td>34.1645</td><td>-118.4143</td><td>california          </td><td>los angeles  </td><td>US</td><td>TRUE </td><td>gourmet_palace_china_bistro          </td><td>NA</td><td>NA</td><td>SMBs</td></tr>\n",
       "\t<tr><th scope=row>9</th><td>6208</td><td>liberty burger             </td><td>keller                  </td><td>caviar</td><td></td><td>32.9690</td><td> -96.8203</td><td>texas               </td><td>dallas       </td><td>US</td><td>TRUE </td><td>liberty_burger_-_keller              </td><td>NA</td><td>NA</td><td>SMBs</td></tr>\n",
       "\t<tr><th scope=row>10</th><td>4972</td><td>mel's deli                 </td><td>NA                      </td><td>caviar</td><td></td><td>34.0457</td><td>-118.2505</td><td>california          </td><td>los angeles  </td><td>US</td><td>FALSE</td><td>mel_s_deli                           </td><td>NA</td><td>NA</td><td>SMBs</td></tr>\n",
       "\t<tr><th scope=row>11</th><td>5917</td><td>the office                 </td><td>NA                      </td><td>caviar</td><td></td><td>37.4941</td><td>-122.2454</td><td>california          </td><td>san mateo    </td><td>US</td><td>TRUE </td><td>the_office                           </td><td>NA</td><td>NA</td><td>SMBs</td></tr>\n",
       "\t<tr><th scope=row>12</th><td>8713</td><td><span style=white-space:pre-wrap>kizuki ramen &amp; izakaya     </span></td><td><span style=white-space:pre-wrap>crossroads              </span></td><td>caviar</td><td></td><td>47.6096</td><td>-122.1417</td><td><span style=white-space:pre-wrap>washington          </span></td><td><span style=white-space:pre-wrap>king         </span></td><td>US</td><td>TRUE </td><td><span style=white-space:pre-wrap>kizuki_ramen_izakaya_-_crossroads    </span></td><td>NA</td><td>NA</td><td>SMBs</td></tr>\n",
       "\t<tr><th scope=row>13</th><td> 145</td><td>4505 burgers and bbq       </td><td>NA                      </td><td>caviar</td><td></td><td>37.7762</td><td>-122.4383</td><td>california          </td><td>san francisco</td><td>US</td><td>TRUE </td><td>4505_burgers_and_bbq                 </td><td>NA</td><td>NA</td><td>SMBs</td></tr>\n",
       "\t<tr><th scope=row>14</th><td>1487</td><td>cibo                       </td><td>NA                      </td><td>caviar</td><td></td><td>45.5048</td><td>-122.6274</td><td>oregon              </td><td>multnomah    </td><td>US</td><td>TRUE </td><td>cibo                                 </td><td>NA</td><td>NA</td><td>SMBs</td></tr>\n",
       "\t<tr><th scope=row>15</th><td> 251</td><td>aperto                     </td><td>NA                      </td><td>caviar</td><td></td><td>37.7627</td><td>-122.3972</td><td>california          </td><td>san francisco</td><td>US</td><td>FALSE</td><td>aperto                               </td><td>NA</td><td>NA</td><td>SMBs</td></tr>\n",
       "\t<tr><th scope=row>16</th><td>1458</td><td>ziti's                     </td><td>NA                      </td><td>caviar</td><td></td><td>42.3557</td><td> -71.0626</td><td>massachusetts       </td><td>suffolk      </td><td>US</td><td>FALSE</td><td>ziti_s                               </td><td>NA</td><td>NA</td><td>SMBs</td></tr>\n",
       "\t<tr><th scope=row>17</th><td>2269</td><td>miyako hollywood           </td><td>NA                      </td><td>caviar</td><td></td><td>34.0981</td><td>-118.3220</td><td>california          </td><td>los angeles  </td><td>US</td><td>FALSE</td><td>miyako_hollywood                     </td><td>NA</td><td>NA</td><td>SMBs</td></tr>\n",
       "\t<tr><th scope=row>19</th><td>1286</td><td>doc ricketts               </td><td>NA                      </td><td>caviar</td><td></td><td>37.7968</td><td>-122.4048</td><td>california          </td><td>san francisco</td><td>US</td><td>FALSE</td><td>doc_ricketts                         </td><td>NA</td><td>NA</td><td>SMBs</td></tr>\n",
       "\t<tr><th scope=row>20</th><td>6567</td><td>bridgetown bagels          </td><td>NA                      </td><td>caviar</td><td></td><td>45.5238</td><td>-122.6600</td><td>oregon              </td><td>multnomah    </td><td>US</td><td>FALSE</td><td>bridgetown_bagels                    </td><td>NA</td><td>NA</td><td>SMBs</td></tr>\n",
       "\t<tr><th scope=row>21</th><td>5481</td><td>coalfire pizza             </td><td>west town               </td><td>caviar</td><td></td><td>41.8908</td><td> -87.6599</td><td>illinois            </td><td>cook         </td><td>US</td><td>TRUE </td><td>coalfire_pizza_-_west_town           </td><td>NA</td><td>NA</td><td>SMBs</td></tr>\n",
       "</tbody>\n",
       "</table>\n"
      ],
      "text/latex": [
       "A data.frame: 20 × 15\n",
       "\\begin{tabular}{r|lllllllllllllll}\n",
       "  & restaurant\\_id & restaurant\\_chain & branch & platform & sub\\_platform & latitude & longitude & state & city & country & active & standardized\\_name & delivery\\_radius & geom & type\\\\\n",
       "  & <dbl> & <chr> & <chr> & <chr> & <chr> & <dbl> & <dbl> & <chr> & <chr> & <chr> & <chr> & <chr> & <dbl> & <lgl> & <chr>\\\\\n",
       "\\hline\n",
       "\t1 & 9744 & loco coco                   & NA                       & caviar &  & 40.7650 &  -73.9660 & new york             & new york      & US & TRUE  & loco\\_coco                             & NA & NA & SMBs\\\\\n",
       "\t2 & 4903 & musubi                      & NA                       & caviar &  & 45.5046 & -122.6438 & oregon               & multnomah     & US & FALSE & musubi                                & NA & NA & SMBs\\\\\n",
       "\t3 & 4723 & the bakers' lounge          & NA                       & caviar &  & 38.9246 &  -76.9901 & district of columbia & washington    & US & FALSE & the\\_bakers\\_lounge                     & NA & NA & SMBs\\\\\n",
       "\t4 & 4128 & parm                        & battery park city        & caviar &  & 40.7142 &  -74.0156 & new york             & new york      & US & TRUE  & parm\\_-\\_battery\\_park\\_city              & NA & NA & SMBs\\\\\n",
       "\t5 & 2827 & the plant cafe              & california \\& pine - fidi & caviar &  & 37.7928 & -122.3979 & california           & san francisco & US & FALSE & the\\_plant\\_cafe\\_-\\_california\\_pine\\_fidi & NA & NA & SMBs\\\\\n",
       "\t6 & 4850 & minton's                    & NA                       & caviar &  & 40.8047 &  -73.9523 & new york             & new york      & US & FALSE & minton\\_s                              & NA & NA & SMBs\\\\\n",
       "\t7 & 6301 & brazilian bowl              & albany park              & caviar &  & 41.9686 &  -87.7087 & illinois             & cook          & US & FALSE & brazilian\\_bowl\\_-\\_albany\\_park          & NA & NA & SMBs\\\\\n",
       "\t8 & 9006 & gourmet palace china bistro & NA                       & caviar &  & 34.1645 & -118.4143 & california           & los angeles   & US & TRUE  & gourmet\\_palace\\_china\\_bistro           & NA & NA & SMBs\\\\\n",
       "\t9 & 6208 & liberty burger              & keller                   & caviar &  & 32.9690 &  -96.8203 & texas                & dallas        & US & TRUE  & liberty\\_burger\\_-\\_keller               & NA & NA & SMBs\\\\\n",
       "\t10 & 4972 & mel's deli                  & NA                       & caviar &  & 34.0457 & -118.2505 & california           & los angeles   & US & FALSE & mel\\_s\\_deli                            & NA & NA & SMBs\\\\\n",
       "\t11 & 5917 & the office                  & NA                       & caviar &  & 37.4941 & -122.2454 & california           & san mateo     & US & TRUE  & the\\_office                            & NA & NA & SMBs\\\\\n",
       "\t12 & 8713 & kizuki ramen \\& izakaya      & crossroads               & caviar &  & 47.6096 & -122.1417 & washington           & king          & US & TRUE  & kizuki\\_ramen\\_izakaya\\_-\\_crossroads     & NA & NA & SMBs\\\\\n",
       "\t13 &  145 & 4505 burgers and bbq        & NA                       & caviar &  & 37.7762 & -122.4383 & california           & san francisco & US & TRUE  & 4505\\_burgers\\_and\\_bbq                  & NA & NA & SMBs\\\\\n",
       "\t14 & 1487 & cibo                        & NA                       & caviar &  & 45.5048 & -122.6274 & oregon               & multnomah     & US & TRUE  & cibo                                  & NA & NA & SMBs\\\\\n",
       "\t15 &  251 & aperto                      & NA                       & caviar &  & 37.7627 & -122.3972 & california           & san francisco & US & FALSE & aperto                                & NA & NA & SMBs\\\\\n",
       "\t16 & 1458 & ziti's                      & NA                       & caviar &  & 42.3557 &  -71.0626 & massachusetts        & suffolk       & US & FALSE & ziti\\_s                                & NA & NA & SMBs\\\\\n",
       "\t17 & 2269 & miyako hollywood            & NA                       & caviar &  & 34.0981 & -118.3220 & california           & los angeles   & US & FALSE & miyako\\_hollywood                      & NA & NA & SMBs\\\\\n",
       "\t19 & 1286 & doc ricketts                & NA                       & caviar &  & 37.7968 & -122.4048 & california           & san francisco & US & FALSE & doc\\_ricketts                          & NA & NA & SMBs\\\\\n",
       "\t20 & 6567 & bridgetown bagels           & NA                       & caviar &  & 45.5238 & -122.6600 & oregon               & multnomah     & US & FALSE & bridgetown\\_bagels                     & NA & NA & SMBs\\\\\n",
       "\t21 & 5481 & coalfire pizza              & west town                & caviar &  & 41.8908 &  -87.6599 & illinois             & cook          & US & TRUE  & coalfire\\_pizza\\_-\\_west\\_town            & NA & NA & SMBs\\\\\n",
       "\\end{tabular}\n"
      ],
      "text/markdown": [
       "\n",
       "A data.frame: 20 × 15\n",
       "\n",
       "| <!--/--> | restaurant_id &lt;dbl&gt; | restaurant_chain &lt;chr&gt; | branch &lt;chr&gt; | platform &lt;chr&gt; | sub_platform &lt;chr&gt; | latitude &lt;dbl&gt; | longitude &lt;dbl&gt; | state &lt;chr&gt; | city &lt;chr&gt; | country &lt;chr&gt; | active &lt;chr&gt; | standardized_name &lt;chr&gt; | delivery_radius &lt;dbl&gt; | geom &lt;lgl&gt; | type &lt;chr&gt; |\n",
       "|---|---|---|---|---|---|---|---|---|---|---|---|---|---|---|---|\n",
       "| 1 | 9744 | loco coco                   | NA                       | caviar | <!----> | 40.7650 |  -73.9660 | new york             | new york      | US | TRUE  | loco_coco                             | NA | NA | SMBs |\n",
       "| 2 | 4903 | musubi                      | NA                       | caviar | <!----> | 45.5046 | -122.6438 | oregon               | multnomah     | US | FALSE | musubi                                | NA | NA | SMBs |\n",
       "| 3 | 4723 | the bakers' lounge          | NA                       | caviar | <!----> | 38.9246 |  -76.9901 | district of columbia | washington    | US | FALSE | the_bakers_lounge                     | NA | NA | SMBs |\n",
       "| 4 | 4128 | parm                        | battery park city        | caviar | <!----> | 40.7142 |  -74.0156 | new york             | new york      | US | TRUE  | parm_-_battery_park_city              | NA | NA | SMBs |\n",
       "| 5 | 2827 | the plant cafe              | california &amp; pine - fidi | caviar | <!----> | 37.7928 | -122.3979 | california           | san francisco | US | FALSE | the_plant_cafe_-_california_pine_fidi | NA | NA | SMBs |\n",
       "| 6 | 4850 | minton's                    | NA                       | caviar | <!----> | 40.8047 |  -73.9523 | new york             | new york      | US | FALSE | minton_s                              | NA | NA | SMBs |\n",
       "| 7 | 6301 | brazilian bowl              | albany park              | caviar | <!----> | 41.9686 |  -87.7087 | illinois             | cook          | US | FALSE | brazilian_bowl_-_albany_park          | NA | NA | SMBs |\n",
       "| 8 | 9006 | gourmet palace china bistro | NA                       | caviar | <!----> | 34.1645 | -118.4143 | california           | los angeles   | US | TRUE  | gourmet_palace_china_bistro           | NA | NA | SMBs |\n",
       "| 9 | 6208 | liberty burger              | keller                   | caviar | <!----> | 32.9690 |  -96.8203 | texas                | dallas        | US | TRUE  | liberty_burger_-_keller               | NA | NA | SMBs |\n",
       "| 10 | 4972 | mel's deli                  | NA                       | caviar | <!----> | 34.0457 | -118.2505 | california           | los angeles   | US | FALSE | mel_s_deli                            | NA | NA | SMBs |\n",
       "| 11 | 5917 | the office                  | NA                       | caviar | <!----> | 37.4941 | -122.2454 | california           | san mateo     | US | TRUE  | the_office                            | NA | NA | SMBs |\n",
       "| 12 | 8713 | kizuki ramen &amp; izakaya      | crossroads               | caviar | <!----> | 47.6096 | -122.1417 | washington           | king          | US | TRUE  | kizuki_ramen_izakaya_-_crossroads     | NA | NA | SMBs |\n",
       "| 13 |  145 | 4505 burgers and bbq        | NA                       | caviar | <!----> | 37.7762 | -122.4383 | california           | san francisco | US | TRUE  | 4505_burgers_and_bbq                  | NA | NA | SMBs |\n",
       "| 14 | 1487 | cibo                        | NA                       | caviar | <!----> | 45.5048 | -122.6274 | oregon               | multnomah     | US | TRUE  | cibo                                  | NA | NA | SMBs |\n",
       "| 15 |  251 | aperto                      | NA                       | caviar | <!----> | 37.7627 | -122.3972 | california           | san francisco | US | FALSE | aperto                                | NA | NA | SMBs |\n",
       "| 16 | 1458 | ziti's                      | NA                       | caviar | <!----> | 42.3557 |  -71.0626 | massachusetts        | suffolk       | US | FALSE | ziti_s                                | NA | NA | SMBs |\n",
       "| 17 | 2269 | miyako hollywood            | NA                       | caviar | <!----> | 34.0981 | -118.3220 | california           | los angeles   | US | FALSE | miyako_hollywood                      | NA | NA | SMBs |\n",
       "| 19 | 1286 | doc ricketts                | NA                       | caviar | <!----> | 37.7968 | -122.4048 | california           | san francisco | US | FALSE | doc_ricketts                          | NA | NA | SMBs |\n",
       "| 20 | 6567 | bridgetown bagels           | NA                       | caviar | <!----> | 45.5238 | -122.6600 | oregon               | multnomah     | US | FALSE | bridgetown_bagels                     | NA | NA | SMBs |\n",
       "| 21 | 5481 | coalfire pizza              | west town                | caviar | <!----> | 41.8908 |  -87.6599 | illinois             | cook          | US | TRUE  | coalfire_pizza_-_west_town            | NA | NA | SMBs |\n",
       "\n"
      ],
      "text/plain": [
       "   restaurant_id restaurant_chain            branch                   platform\n",
       "1  9744          loco coco                   NA                       caviar  \n",
       "2  4903          musubi                      NA                       caviar  \n",
       "3  4723          the bakers' lounge          NA                       caviar  \n",
       "4  4128          parm                        battery park city        caviar  \n",
       "5  2827          the plant cafe              california & pine - fidi caviar  \n",
       "6  4850          minton's                    NA                       caviar  \n",
       "7  6301          brazilian bowl              albany park              caviar  \n",
       "8  9006          gourmet palace china bistro NA                       caviar  \n",
       "9  6208          liberty burger              keller                   caviar  \n",
       "10 4972          mel's deli                  NA                       caviar  \n",
       "11 5917          the office                  NA                       caviar  \n",
       "12 8713          kizuki ramen & izakaya      crossroads               caviar  \n",
       "13  145          4505 burgers and bbq        NA                       caviar  \n",
       "14 1487          cibo                        NA                       caviar  \n",
       "15  251          aperto                      NA                       caviar  \n",
       "16 1458          ziti's                      NA                       caviar  \n",
       "17 2269          miyako hollywood            NA                       caviar  \n",
       "19 1286          doc ricketts                NA                       caviar  \n",
       "20 6567          bridgetown bagels           NA                       caviar  \n",
       "21 5481          coalfire pizza              west town                caviar  \n",
       "   sub_platform latitude longitude state                city          country\n",
       "1               40.7650   -73.9660 new york             new york      US     \n",
       "2               45.5046  -122.6438 oregon               multnomah     US     \n",
       "3               38.9246   -76.9901 district of columbia washington    US     \n",
       "4               40.7142   -74.0156 new york             new york      US     \n",
       "5               37.7928  -122.3979 california           san francisco US     \n",
       "6               40.8047   -73.9523 new york             new york      US     \n",
       "7               41.9686   -87.7087 illinois             cook          US     \n",
       "8               34.1645  -118.4143 california           los angeles   US     \n",
       "9               32.9690   -96.8203 texas                dallas        US     \n",
       "10              34.0457  -118.2505 california           los angeles   US     \n",
       "11              37.4941  -122.2454 california           san mateo     US     \n",
       "12              47.6096  -122.1417 washington           king          US     \n",
       "13              37.7762  -122.4383 california           san francisco US     \n",
       "14              45.5048  -122.6274 oregon               multnomah     US     \n",
       "15              37.7627  -122.3972 california           san francisco US     \n",
       "16              42.3557   -71.0626 massachusetts        suffolk       US     \n",
       "17              34.0981  -118.3220 california           los angeles   US     \n",
       "19              37.7968  -122.4048 california           san francisco US     \n",
       "20              45.5238  -122.6600 oregon               multnomah     US     \n",
       "21              41.8908   -87.6599 illinois             cook          US     \n",
       "   active standardized_name                     delivery_radius geom type\n",
       "1  TRUE   loco_coco                             NA              NA   SMBs\n",
       "2  FALSE  musubi                                NA              NA   SMBs\n",
       "3  FALSE  the_bakers_lounge                     NA              NA   SMBs\n",
       "4  TRUE   parm_-_battery_park_city              NA              NA   SMBs\n",
       "5  FALSE  the_plant_cafe_-_california_pine_fidi NA              NA   SMBs\n",
       "6  FALSE  minton_s                              NA              NA   SMBs\n",
       "7  FALSE  brazilian_bowl_-_albany_park          NA              NA   SMBs\n",
       "8  TRUE   gourmet_palace_china_bistro           NA              NA   SMBs\n",
       "9  TRUE   liberty_burger_-_keller               NA              NA   SMBs\n",
       "10 FALSE  mel_s_deli                            NA              NA   SMBs\n",
       "11 TRUE   the_office                            NA              NA   SMBs\n",
       "12 TRUE   kizuki_ramen_izakaya_-_crossroads     NA              NA   SMBs\n",
       "13 TRUE   4505_burgers_and_bbq                  NA              NA   SMBs\n",
       "14 TRUE   cibo                                  NA              NA   SMBs\n",
       "15 FALSE  aperto                                NA              NA   SMBs\n",
       "16 FALSE  ziti_s                                NA              NA   SMBs\n",
       "17 FALSE  miyako_hollywood                      NA              NA   SMBs\n",
       "19 FALSE  doc_ricketts                          NA              NA   SMBs\n",
       "20 FALSE  bridgetown_bagels                     NA              NA   SMBs\n",
       "21 TRUE   coalfire_pizza_-_west_town            NA              NA   SMBs"
      ]
     },
     "metadata": {},
     "output_type": "display_data"
    }
   ],
   "source": [
    "df_in_work$city <- map.where(database=\"county\", df_in_work$longitude, df_in_work$latitude)\n",
    "df_in_work <- subset(df_in_work, !is.na(city))\n",
    "df_in_work <- separate(df_in_work,city,into = c(\"state\",\"city\"), sep=\",\")\n",
    "head(df_in_work,20)"
   ]
  },
  {
   "cell_type": "markdown",
   "metadata": {},
   "source": [
    "### 4. Re-arrange Dataset & Perform Deduplication"
   ]
  },
  {
   "cell_type": "code",
   "execution_count": 595,
   "metadata": {
    "vscode": {
     "languageId": "r"
    }
   },
   "outputs": [],
   "source": [
    "df_clean <- df_in_work"
   ]
  },
  {
   "cell_type": "code",
   "execution_count": 596,
   "metadata": {
    "vscode": {
     "languageId": "r"
    }
   },
   "outputs": [
    {
     "data": {
      "text/html": [
       "<table class=\"dataframe\">\n",
       "<caption>A data.frame: 0 × 15</caption>\n",
       "<thead>\n",
       "\t<tr><th scope=col>restaurant_id</th><th scope=col>restaurant_chain</th><th scope=col>branch</th><th scope=col>platform</th><th scope=col>sub_platform</th><th scope=col>latitude</th><th scope=col>longitude</th><th scope=col>state</th><th scope=col>city</th><th scope=col>country</th><th scope=col>active</th><th scope=col>standardized_name</th><th scope=col>delivery_radius</th><th scope=col>geom</th><th scope=col>type</th></tr>\n",
       "\t<tr><th scope=col>&lt;dbl&gt;</th><th scope=col>&lt;chr&gt;</th><th scope=col>&lt;chr&gt;</th><th scope=col>&lt;chr&gt;</th><th scope=col>&lt;chr&gt;</th><th scope=col>&lt;dbl&gt;</th><th scope=col>&lt;dbl&gt;</th><th scope=col>&lt;chr&gt;</th><th scope=col>&lt;chr&gt;</th><th scope=col>&lt;chr&gt;</th><th scope=col>&lt;chr&gt;</th><th scope=col>&lt;chr&gt;</th><th scope=col>&lt;dbl&gt;</th><th scope=col>&lt;lgl&gt;</th><th scope=col>&lt;chr&gt;</th></tr>\n",
       "</thead>\n",
       "<tbody>\n",
       "</tbody>\n",
       "</table>\n"
      ],
      "text/latex": [
       "A data.frame: 0 × 15\n",
       "\\begin{tabular}{lllllllllllllll}\n",
       " restaurant\\_id & restaurant\\_chain & branch & platform & sub\\_platform & latitude & longitude & state & city & country & active & standardized\\_name & delivery\\_radius & geom & type\\\\\n",
       " <dbl> & <chr> & <chr> & <chr> & <chr> & <dbl> & <dbl> & <chr> & <chr> & <chr> & <chr> & <chr> & <dbl> & <lgl> & <chr>\\\\\n",
       "\\hline\n",
       "\\end{tabular}\n"
      ],
      "text/markdown": [
       "\n",
       "A data.frame: 0 × 15\n",
       "\n",
       "| restaurant_id &lt;dbl&gt; | restaurant_chain &lt;chr&gt; | branch &lt;chr&gt; | platform &lt;chr&gt; | sub_platform &lt;chr&gt; | latitude &lt;dbl&gt; | longitude &lt;dbl&gt; | state &lt;chr&gt; | city &lt;chr&gt; | country &lt;chr&gt; | active &lt;chr&gt; | standardized_name &lt;chr&gt; | delivery_radius &lt;dbl&gt; | geom &lt;lgl&gt; | type &lt;chr&gt; |\n",
       "|---|---|---|---|---|---|---|---|---|---|---|---|---|---|---|\n",
       "\n"
      ],
      "text/plain": [
       "     restaurant_id restaurant_chain branch platform sub_platform latitude\n",
       "     longitude state city country active standardized_name delivery_radius geom\n",
       "     type"
      ]
     },
     "metadata": {},
     "output_type": "display_data"
    }
   ],
   "source": [
    "filter(df_clean, (platform != sub_platform) & (sub_platform != \"restaurant\") & sub_platform != \"\")"
   ]
  },
  {
   "cell_type": "code",
   "execution_count": 621,
   "metadata": {
    "vscode": {
     "languageId": "r"
    }
   },
   "outputs": [
    {
     "data": {
      "text/html": [
       "<table class=\"dataframe\">\n",
       "<caption>A data.frame: 0 × 15</caption>\n",
       "<thead>\n",
       "\t<tr><th scope=col>restaurant_id</th><th scope=col>restaurant_chain</th><th scope=col>branch</th><th scope=col>platform</th><th scope=col>sub_platform</th><th scope=col>latitude</th><th scope=col>longitude</th><th scope=col>state</th><th scope=col>city</th><th scope=col>country</th><th scope=col>active</th><th scope=col>standardized_name</th><th scope=col>delivery_radius</th><th scope=col>geom</th><th scope=col>type</th></tr>\n",
       "\t<tr><th scope=col>&lt;dbl&gt;</th><th scope=col>&lt;chr&gt;</th><th scope=col>&lt;chr&gt;</th><th scope=col>&lt;chr&gt;</th><th scope=col>&lt;chr&gt;</th><th scope=col>&lt;dbl&gt;</th><th scope=col>&lt;dbl&gt;</th><th scope=col>&lt;chr&gt;</th><th scope=col>&lt;chr&gt;</th><th scope=col>&lt;chr&gt;</th><th scope=col>&lt;chr&gt;</th><th scope=col>&lt;chr&gt;</th><th scope=col>&lt;dbl&gt;</th><th scope=col>&lt;lgl&gt;</th><th scope=col>&lt;chr&gt;</th></tr>\n",
       "</thead>\n",
       "<tbody>\n",
       "</tbody>\n",
       "</table>\n"
      ],
      "text/latex": [
       "A data.frame: 0 × 15\n",
       "\\begin{tabular}{lllllllllllllll}\n",
       " restaurant\\_id & restaurant\\_chain & branch & platform & sub\\_platform & latitude & longitude & state & city & country & active & standardized\\_name & delivery\\_radius & geom & type\\\\\n",
       " <dbl> & <chr> & <chr> & <chr> & <chr> & <dbl> & <dbl> & <chr> & <chr> & <chr> & <chr> & <chr> & <dbl> & <lgl> & <chr>\\\\\n",
       "\\hline\n",
       "\\end{tabular}\n"
      ],
      "text/markdown": [
       "\n",
       "A data.frame: 0 × 15\n",
       "\n",
       "| restaurant_id &lt;dbl&gt; | restaurant_chain &lt;chr&gt; | branch &lt;chr&gt; | platform &lt;chr&gt; | sub_platform &lt;chr&gt; | latitude &lt;dbl&gt; | longitude &lt;dbl&gt; | state &lt;chr&gt; | city &lt;chr&gt; | country &lt;chr&gt; | active &lt;chr&gt; | standardized_name &lt;chr&gt; | delivery_radius &lt;dbl&gt; | geom &lt;lgl&gt; | type &lt;chr&gt; |\n",
       "|---|---|---|---|---|---|---|---|---|---|---|---|---|---|---|\n",
       "\n"
      ],
      "text/plain": [
       "     restaurant_id restaurant_chain branch platform sub_platform latitude\n",
       "     longitude state city country active standardized_name delivery_radius geom\n",
       "     type"
      ]
     },
     "metadata": {},
     "output_type": "display_data"
    }
   ],
   "source": [
    "subset(df_clean, is.na(platform) | platform == \"\")"
   ]
  },
  {
   "cell_type": "markdown",
   "metadata": {},
   "source": [
    "##### 4.1 Remove unwanted columns and re-arrange column orders #####"
   ]
  },
  {
   "cell_type": "code",
   "execution_count": 597,
   "metadata": {
    "vscode": {
     "languageId": "r"
    }
   },
   "outputs": [
    {
     "data": {
      "text/html": [
       "<table class=\"dataframe\">\n",
       "<caption>A data.frame: 6 × 11</caption>\n",
       "<thead>\n",
       "\t<tr><th></th><th scope=col>restaurant_chain</th><th scope=col>branch</th><th scope=col>type</th><th scope=col>active</th><th scope=col>platform</th><th scope=col>latitude</th><th scope=col>longitude</th><th scope=col>city</th><th scope=col>state</th><th scope=col>country</th><th scope=col>delivery_radius</th></tr>\n",
       "\t<tr><th></th><th scope=col>&lt;chr&gt;</th><th scope=col>&lt;chr&gt;</th><th scope=col>&lt;chr&gt;</th><th scope=col>&lt;chr&gt;</th><th scope=col>&lt;chr&gt;</th><th scope=col>&lt;dbl&gt;</th><th scope=col>&lt;dbl&gt;</th><th scope=col>&lt;chr&gt;</th><th scope=col>&lt;chr&gt;</th><th scope=col>&lt;chr&gt;</th><th scope=col>&lt;dbl&gt;</th></tr>\n",
       "</thead>\n",
       "<tbody>\n",
       "\t<tr><th scope=row>1</th><td>loco coco         </td><td>NA                      </td><td>SMBs</td><td>TRUE </td><td>caviar</td><td>40.7650</td><td> -73.9660</td><td>new york     </td><td>new york            </td><td>US</td><td>NA</td></tr>\n",
       "\t<tr><th scope=row>2</th><td>musubi            </td><td>NA                      </td><td>SMBs</td><td>FALSE</td><td>caviar</td><td>45.5046</td><td>-122.6438</td><td>multnomah    </td><td>oregon              </td><td>US</td><td>NA</td></tr>\n",
       "\t<tr><th scope=row>3</th><td>the bakers' lounge</td><td>NA                      </td><td>SMBs</td><td>FALSE</td><td>caviar</td><td>38.9246</td><td> -76.9901</td><td>washington   </td><td>district of columbia</td><td>US</td><td>NA</td></tr>\n",
       "\t<tr><th scope=row>4</th><td>parm              </td><td>battery park city       </td><td>SMBs</td><td>TRUE </td><td>caviar</td><td>40.7142</td><td> -74.0156</td><td>new york     </td><td>new york            </td><td>US</td><td>NA</td></tr>\n",
       "\t<tr><th scope=row>5</th><td><span style=white-space:pre-wrap>the plant cafe    </span></td><td>california &amp; pine - fidi</td><td>SMBs</td><td>FALSE</td><td>caviar</td><td>37.7928</td><td>-122.3979</td><td>san francisco</td><td><span style=white-space:pre-wrap>california          </span></td><td>US</td><td>NA</td></tr>\n",
       "\t<tr><th scope=row>6</th><td>minton's          </td><td>NA                      </td><td>SMBs</td><td>FALSE</td><td>caviar</td><td>40.8047</td><td> -73.9523</td><td>new york     </td><td>new york            </td><td>US</td><td>NA</td></tr>\n",
       "</tbody>\n",
       "</table>\n"
      ],
      "text/latex": [
       "A data.frame: 6 × 11\n",
       "\\begin{tabular}{r|lllllllllll}\n",
       "  & restaurant\\_chain & branch & type & active & platform & latitude & longitude & city & state & country & delivery\\_radius\\\\\n",
       "  & <chr> & <chr> & <chr> & <chr> & <chr> & <dbl> & <dbl> & <chr> & <chr> & <chr> & <dbl>\\\\\n",
       "\\hline\n",
       "\t1 & loco coco          & NA                       & SMBs & TRUE  & caviar & 40.7650 &  -73.9660 & new york      & new york             & US & NA\\\\\n",
       "\t2 & musubi             & NA                       & SMBs & FALSE & caviar & 45.5046 & -122.6438 & multnomah     & oregon               & US & NA\\\\\n",
       "\t3 & the bakers' lounge & NA                       & SMBs & FALSE & caviar & 38.9246 &  -76.9901 & washington    & district of columbia & US & NA\\\\\n",
       "\t4 & parm               & battery park city        & SMBs & TRUE  & caviar & 40.7142 &  -74.0156 & new york      & new york             & US & NA\\\\\n",
       "\t5 & the plant cafe     & california \\& pine - fidi & SMBs & FALSE & caviar & 37.7928 & -122.3979 & san francisco & california           & US & NA\\\\\n",
       "\t6 & minton's           & NA                       & SMBs & FALSE & caviar & 40.8047 &  -73.9523 & new york      & new york             & US & NA\\\\\n",
       "\\end{tabular}\n"
      ],
      "text/markdown": [
       "\n",
       "A data.frame: 6 × 11\n",
       "\n",
       "| <!--/--> | restaurant_chain &lt;chr&gt; | branch &lt;chr&gt; | type &lt;chr&gt; | active &lt;chr&gt; | platform &lt;chr&gt; | latitude &lt;dbl&gt; | longitude &lt;dbl&gt; | city &lt;chr&gt; | state &lt;chr&gt; | country &lt;chr&gt; | delivery_radius &lt;dbl&gt; |\n",
       "|---|---|---|---|---|---|---|---|---|---|---|---|\n",
       "| 1 | loco coco          | NA                       | SMBs | TRUE  | caviar | 40.7650 |  -73.9660 | new york      | new york             | US | NA |\n",
       "| 2 | musubi             | NA                       | SMBs | FALSE | caviar | 45.5046 | -122.6438 | multnomah     | oregon               | US | NA |\n",
       "| 3 | the bakers' lounge | NA                       | SMBs | FALSE | caviar | 38.9246 |  -76.9901 | washington    | district of columbia | US | NA |\n",
       "| 4 | parm               | battery park city        | SMBs | TRUE  | caviar | 40.7142 |  -74.0156 | new york      | new york             | US | NA |\n",
       "| 5 | the plant cafe     | california &amp; pine - fidi | SMBs | FALSE | caviar | 37.7928 | -122.3979 | san francisco | california           | US | NA |\n",
       "| 6 | minton's           | NA                       | SMBs | FALSE | caviar | 40.8047 |  -73.9523 | new york      | new york             | US | NA |\n",
       "\n"
      ],
      "text/plain": [
       "  restaurant_chain   branch                   type active platform latitude\n",
       "1 loco coco          NA                       SMBs TRUE   caviar   40.7650 \n",
       "2 musubi             NA                       SMBs FALSE  caviar   45.5046 \n",
       "3 the bakers' lounge NA                       SMBs FALSE  caviar   38.9246 \n",
       "4 parm               battery park city        SMBs TRUE   caviar   40.7142 \n",
       "5 the plant cafe     california & pine - fidi SMBs FALSE  caviar   37.7928 \n",
       "6 minton's           NA                       SMBs FALSE  caviar   40.8047 \n",
       "  longitude city          state                country delivery_radius\n",
       "1  -73.9660 new york      new york             US      NA             \n",
       "2 -122.6438 multnomah     oregon               US      NA             \n",
       "3  -76.9901 washington    district of columbia US      NA             \n",
       "4  -74.0156 new york      new york             US      NA             \n",
       "5 -122.3979 san francisco california           US      NA             \n",
       "6  -73.9523 new york      new york             US      NA             "
      ]
     },
     "metadata": {},
     "output_type": "display_data"
    }
   ],
   "source": [
    "df_final <- select(df_clean, -c(\"restaurant_id\",\"geom\",\"sub_platform\", \"standardized_name\"))\n",
    "col_order <- c('restaurant_chain','branch','type','active','platform','latitude','longitude','city','state','country','delivery_radius')\n",
    "df_final <- df_final[,col_order]\n",
    "head(df_final)"
   ]
  },
  {
   "cell_type": "markdown",
   "metadata": {},
   "source": [
    "##### 4.2 Perform deduplication #####\n",
    "\n",
    "- To ensure each entry is unique, unique() function is required, and certain criteria need to be met:\n",
    "    - A restaurant can have multiple delivery platform, despite them being active or not, so \"platform\" column is needed\n",
    "    - A restaurant can have multiple locations, so coordinates variables are also needed\n",
    "    - Same coordinates may have different restaurant names due to them being entered into the system during different time period, so \"restaurant_chain\" column is also needed\n",
    "- After performing deduplication, about 85,031 entries were deleted as they are deemed repeated"
   ]
  },
  {
   "cell_type": "code",
   "execution_count": 604,
   "metadata": {
    "vscode": {
     "languageId": "r"
    }
   },
   "outputs": [
    {
     "data": {
      "text/html": [
       "<style>\n",
       ".list-inline {list-style: none; margin:0; padding: 0}\n",
       ".list-inline>li {display: inline-block}\n",
       ".list-inline>li:not(:last-child)::after {content: \"\\00b7\"; padding: 0 .5ex}\n",
       "</style>\n",
       "<ol class=list-inline><li>644089</li><li>13</li></ol>\n"
      ],
      "text/latex": [
       "\\begin{enumerate*}\n",
       "\\item 644089\n",
       "\\item 13\n",
       "\\end{enumerate*}\n"
      ],
      "text/markdown": [
       "1. 644089\n",
       "2. 13\n",
       "\n",
       "\n"
      ],
      "text/plain": [
       "[1] 644089     13"
      ]
     },
     "metadata": {},
     "output_type": "display_data"
    },
    {
     "data": {
      "text/html": [
       "<style>\n",
       ".list-inline {list-style: none; margin:0; padding: 0}\n",
       ".list-inline>li {display: inline-block}\n",
       ".list-inline>li:not(:last-child)::after {content: \"\\00b7\"; padding: 0 .5ex}\n",
       "</style>\n",
       "<ol class=list-inline><li>559058</li><li>4</li></ol>\n"
      ],
      "text/latex": [
       "\\begin{enumerate*}\n",
       "\\item 559058\n",
       "\\item 4\n",
       "\\end{enumerate*}\n"
      ],
      "text/markdown": [
       "1. 559058\n",
       "2. 4\n",
       "\n",
       "\n"
      ],
      "text/plain": [
       "[1] 559058      4"
      ]
     },
     "metadata": {},
     "output_type": "display_data"
    },
    {
     "data": {
      "text/html": [
       "<style>\n",
       ".list-inline {list-style: none; margin:0; padding: 0}\n",
       ".list-inline>li {display: inline-block}\n",
       ".list-inline>li:not(:last-child)::after {content: \"\\00b7\"; padding: 0 .5ex}\n",
       "</style>\n",
       "<ol class=list-inline><li>498516</li><li>3</li></ol>\n"
      ],
      "text/latex": [
       "\\begin{enumerate*}\n",
       "\\item 498516\n",
       "\\item 3\n",
       "\\end{enumerate*}\n"
      ],
      "text/markdown": [
       "1. 498516\n",
       "2. 3\n",
       "\n",
       "\n"
      ],
      "text/plain": [
       "[1] 498516      3"
      ]
     },
     "metadata": {},
     "output_type": "display_data"
    },
    {
     "data": {
      "text/html": [
       "<style>\n",
       ".list-inline {list-style: none; margin:0; padding: 0}\n",
       ".list-inline>li {display: inline-block}\n",
       ".list-inline>li:not(:last-child)::after {content: \"\\00b7\"; padding: 0 .5ex}\n",
       "</style>\n",
       "<ol class=list-inline><li>85031</li><li>9</li></ol>\n"
      ],
      "text/latex": [
       "\\begin{enumerate*}\n",
       "\\item 85031\n",
       "\\item 9\n",
       "\\end{enumerate*}\n"
      ],
      "text/markdown": [
       "1. 85031\n",
       "2. 9\n",
       "\n",
       "\n"
      ],
      "text/plain": [
       "[1] 85031     9"
      ]
     },
     "metadata": {},
     "output_type": "display_data"
    }
   ],
   "source": [
    "\n",
    "dim(df)\n",
    "dim(unique(df_final[c(\"restaurant_chain\",\"platform\",\"longitude\",\"latitude\")]))\n",
    "dim(unique(df_final[c(\"restaurant_chain\",\"longitude\",\"latitude\")]))\n",
    "\n",
    "dim(df) - dim(unique(df_final[c(\"restaurant_chain\",\"platform\",\"longitude\",\"latitude\")]))\n"
   ]
  },
  {
   "cell_type": "code",
   "execution_count": 614,
   "metadata": {
    "vscode": {
     "languageId": "r"
    }
   },
   "outputs": [],
   "source": [
    "df_final_unique <- distinct(df_final, restaurant_chain,latitude,longitude,.keep_all = TRUE)\n",
    "df_final <- distinct(df_final, restaurant_chain,platform, latitude,longitude,.keep_all = TRUE)"
   ]
  },
  {
   "cell_type": "markdown",
   "metadata": {},
   "source": [
    "##### 4.3 Export the cleaned up dataset into a new csv file #####"
   ]
  },
  {
   "cell_type": "code",
   "execution_count": 615,
   "metadata": {
    "vscode": {
     "languageId": "r"
    }
   },
   "outputs": [],
   "source": [
    "write.csv(df_final_unique,\"df_final_unique_V2.csv\", row.names = TRUE)\n",
    "write.csv(df_final,\"df_final_V2.csv\", row.names = TRUE)"
   ]
  },
  {
   "cell_type": "code",
   "execution_count": 617,
   "metadata": {
    "vscode": {
     "languageId": "r"
    }
   },
   "outputs": [
    {
     "data": {
      "text/html": [
       "<style>\n",
       ".list-inline {list-style: none; margin:0; padding: 0}\n",
       ".list-inline>li {display: inline-block}\n",
       ".list-inline>li:not(:last-child)::after {content: \"\\00b7\"; padding: 0 .5ex}\n",
       "</style>\n",
       "<ol class=list-inline><li>498516</li><li>11</li></ol>\n"
      ],
      "text/latex": [
       "\\begin{enumerate*}\n",
       "\\item 498516\n",
       "\\item 11\n",
       "\\end{enumerate*}\n"
      ],
      "text/markdown": [
       "1. 498516\n",
       "2. 11\n",
       "\n",
       "\n"
      ],
      "text/plain": [
       "[1] 498516     11"
      ]
     },
     "metadata": {},
     "output_type": "display_data"
    },
    {
     "data": {
      "text/html": [
       "<style>\n",
       ".list-inline {list-style: none; margin:0; padding: 0}\n",
       ".list-inline>li {display: inline-block}\n",
       ".list-inline>li:not(:last-child)::after {content: \"\\00b7\"; padding: 0 .5ex}\n",
       "</style>\n",
       "<ol class=list-inline><li>559058</li><li>11</li></ol>\n"
      ],
      "text/latex": [
       "\\begin{enumerate*}\n",
       "\\item 559058\n",
       "\\item 11\n",
       "\\end{enumerate*}\n"
      ],
      "text/markdown": [
       "1. 559058\n",
       "2. 11\n",
       "\n",
       "\n"
      ],
      "text/plain": [
       "[1] 559058     11"
      ]
     },
     "metadata": {},
     "output_type": "display_data"
    }
   ],
   "source": [
    "dim(df_final_unique)\n",
    "dim(df_final)"
   ]
  },
  {
   "cell_type": "code",
   "execution_count": 622,
   "metadata": {
    "vscode": {
     "languageId": "r"
    }
   },
   "outputs": [
    {
     "data": {
      "text/html": [
       "<table class=\"dataframe\">\n",
       "<caption>A data.frame: 6 × 11</caption>\n",
       "<thead>\n",
       "\t<tr><th></th><th scope=col>restaurant_chain</th><th scope=col>branch</th><th scope=col>type</th><th scope=col>active</th><th scope=col>platform</th><th scope=col>latitude</th><th scope=col>longitude</th><th scope=col>city</th><th scope=col>state</th><th scope=col>country</th><th scope=col>delivery_radius</th></tr>\n",
       "\t<tr><th></th><th scope=col>&lt;chr&gt;</th><th scope=col>&lt;chr&gt;</th><th scope=col>&lt;chr&gt;</th><th scope=col>&lt;chr&gt;</th><th scope=col>&lt;chr&gt;</th><th scope=col>&lt;dbl&gt;</th><th scope=col>&lt;dbl&gt;</th><th scope=col>&lt;chr&gt;</th><th scope=col>&lt;chr&gt;</th><th scope=col>&lt;chr&gt;</th><th scope=col>&lt;dbl&gt;</th></tr>\n",
       "</thead>\n",
       "<tbody>\n",
       "\t<tr><th scope=row>1</th><td>loco coco         </td><td>NA                      </td><td>SMBs</td><td>TRUE </td><td>caviar</td><td>40.7650</td><td> -73.9660</td><td>new york     </td><td>new york            </td><td>US</td><td>NA</td></tr>\n",
       "\t<tr><th scope=row>2</th><td>musubi            </td><td>NA                      </td><td>SMBs</td><td>FALSE</td><td>caviar</td><td>45.5046</td><td>-122.6438</td><td>multnomah    </td><td>oregon              </td><td>US</td><td>NA</td></tr>\n",
       "\t<tr><th scope=row>3</th><td>the bakers' lounge</td><td>NA                      </td><td>SMBs</td><td>FALSE</td><td>caviar</td><td>38.9246</td><td> -76.9901</td><td>washington   </td><td>district of columbia</td><td>US</td><td>NA</td></tr>\n",
       "\t<tr><th scope=row>4</th><td>parm              </td><td>battery park city       </td><td>SMBs</td><td>TRUE </td><td>caviar</td><td>40.7142</td><td> -74.0156</td><td>new york     </td><td>new york            </td><td>US</td><td>NA</td></tr>\n",
       "\t<tr><th scope=row>5</th><td><span style=white-space:pre-wrap>the plant cafe    </span></td><td>california &amp; pine - fidi</td><td>SMBs</td><td>FALSE</td><td>caviar</td><td>37.7928</td><td>-122.3979</td><td>san francisco</td><td><span style=white-space:pre-wrap>california          </span></td><td>US</td><td>NA</td></tr>\n",
       "\t<tr><th scope=row>6</th><td>minton's          </td><td>NA                      </td><td>SMBs</td><td>FALSE</td><td>caviar</td><td>40.8047</td><td> -73.9523</td><td>new york     </td><td>new york            </td><td>US</td><td>NA</td></tr>\n",
       "</tbody>\n",
       "</table>\n"
      ],
      "text/latex": [
       "A data.frame: 6 × 11\n",
       "\\begin{tabular}{r|lllllllllll}\n",
       "  & restaurant\\_chain & branch & type & active & platform & latitude & longitude & city & state & country & delivery\\_radius\\\\\n",
       "  & <chr> & <chr> & <chr> & <chr> & <chr> & <dbl> & <dbl> & <chr> & <chr> & <chr> & <dbl>\\\\\n",
       "\\hline\n",
       "\t1 & loco coco          & NA                       & SMBs & TRUE  & caviar & 40.7650 &  -73.9660 & new york      & new york             & US & NA\\\\\n",
       "\t2 & musubi             & NA                       & SMBs & FALSE & caviar & 45.5046 & -122.6438 & multnomah     & oregon               & US & NA\\\\\n",
       "\t3 & the bakers' lounge & NA                       & SMBs & FALSE & caviar & 38.9246 &  -76.9901 & washington    & district of columbia & US & NA\\\\\n",
       "\t4 & parm               & battery park city        & SMBs & TRUE  & caviar & 40.7142 &  -74.0156 & new york      & new york             & US & NA\\\\\n",
       "\t5 & the plant cafe     & california \\& pine - fidi & SMBs & FALSE & caviar & 37.7928 & -122.3979 & san francisco & california           & US & NA\\\\\n",
       "\t6 & minton's           & NA                       & SMBs & FALSE & caviar & 40.8047 &  -73.9523 & new york      & new york             & US & NA\\\\\n",
       "\\end{tabular}\n"
      ],
      "text/markdown": [
       "\n",
       "A data.frame: 6 × 11\n",
       "\n",
       "| <!--/--> | restaurant_chain &lt;chr&gt; | branch &lt;chr&gt; | type &lt;chr&gt; | active &lt;chr&gt; | platform &lt;chr&gt; | latitude &lt;dbl&gt; | longitude &lt;dbl&gt; | city &lt;chr&gt; | state &lt;chr&gt; | country &lt;chr&gt; | delivery_radius &lt;dbl&gt; |\n",
       "|---|---|---|---|---|---|---|---|---|---|---|---|\n",
       "| 1 | loco coco          | NA                       | SMBs | TRUE  | caviar | 40.7650 |  -73.9660 | new york      | new york             | US | NA |\n",
       "| 2 | musubi             | NA                       | SMBs | FALSE | caviar | 45.5046 | -122.6438 | multnomah     | oregon               | US | NA |\n",
       "| 3 | the bakers' lounge | NA                       | SMBs | FALSE | caviar | 38.9246 |  -76.9901 | washington    | district of columbia | US | NA |\n",
       "| 4 | parm               | battery park city        | SMBs | TRUE  | caviar | 40.7142 |  -74.0156 | new york      | new york             | US | NA |\n",
       "| 5 | the plant cafe     | california &amp; pine - fidi | SMBs | FALSE | caviar | 37.7928 | -122.3979 | san francisco | california           | US | NA |\n",
       "| 6 | minton's           | NA                       | SMBs | FALSE | caviar | 40.8047 |  -73.9523 | new york      | new york             | US | NA |\n",
       "\n"
      ],
      "text/plain": [
       "  restaurant_chain   branch                   type active platform latitude\n",
       "1 loco coco          NA                       SMBs TRUE   caviar   40.7650 \n",
       "2 musubi             NA                       SMBs FALSE  caviar   45.5046 \n",
       "3 the bakers' lounge NA                       SMBs FALSE  caviar   38.9246 \n",
       "4 parm               battery park city        SMBs TRUE   caviar   40.7142 \n",
       "5 the plant cafe     california & pine - fidi SMBs FALSE  caviar   37.7928 \n",
       "6 minton's           NA                       SMBs FALSE  caviar   40.8047 \n",
       "  longitude city          state                country delivery_radius\n",
       "1  -73.9660 new york      new york             US      NA             \n",
       "2 -122.6438 multnomah     oregon               US      NA             \n",
       "3  -76.9901 washington    district of columbia US      NA             \n",
       "4  -74.0156 new york      new york             US      NA             \n",
       "5 -122.3979 san francisco california           US      NA             \n",
       "6  -73.9523 new york      new york             US      NA             "
      ]
     },
     "metadata": {},
     "output_type": "display_data"
    }
   ],
   "source": [
    "head(df_final_unique)"
   ]
  },
  {
   "cell_type": "code",
   "execution_count": null,
   "metadata": {
    "vscode": {
     "languageId": "r"
    }
   },
   "outputs": [],
   "source": []
  }
 ],
 "metadata": {
  "kernelspec": {
   "display_name": "R",
   "language": "R",
   "name": "ir"
  },
  "language_info": {
   "codemirror_mode": "r",
   "file_extension": ".r",
   "mimetype": "text/x-r-source",
   "name": "R",
   "pygments_lexer": "r",
   "version": "4.1.0"
  },
  "orig_nbformat": 4
 },
 "nbformat": 4,
 "nbformat_minor": 2
}
